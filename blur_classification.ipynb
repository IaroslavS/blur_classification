{
  "nbformat": 4,
  "nbformat_minor": 0,
  "metadata": {
    "colab": {
      "name": "blur_classification.ipynb",
      "provenance": [],
      "collapsed_sections": [
        "0lRaF3qSUyTe",
        "BmPSI6uxP2l-"
      ],
      "include_colab_link": true
    },
    "kernelspec": {
      "name": "python3",
      "display_name": "Python 3"
    },
    "accelerator": "GPU"
  },
  "cells": [
    {
      "cell_type": "markdown",
      "metadata": {
        "id": "view-in-github",
        "colab_type": "text"
      },
      "source": [
        "<a href=\"https://colab.research.google.com/github/IaroslavS/blur_classification/blob/branch_for_laptop_Acer/blur_classification.ipynb\" target=\"_parent\"><img src=\"https://colab.research.google.com/assets/colab-badge.svg\" alt=\"Open In Colab\"/></a>"
      ]
    },
    {
      "cell_type": "code",
      "metadata": {
        "id": "YyVC5QgA8UuF",
        "colab_type": "code",
        "colab": {}
      },
      "source": [
        "from skimage.io import imshow, show\n",
        "from skimage.io import imread, imsave\n",
        "import matplotlib.pyplot as plt\n",
        "import pylab\n",
        "import math\n",
        "import numpy as np\n",
        "from skimage.color import rgb2gray, gray2rgb\n",
        "from tqdm import tqdm_notebook, tqdm\n",
        "import pandas as pd\n",
        "import cv2\n",
        "import os\n",
        "import PIL"
      ],
      "execution_count": 0,
      "outputs": []
    },
    {
      "cell_type": "code",
      "metadata": {
        "id": "8MmuCRuArJoJ",
        "colab_type": "code",
        "colab": {}
      },
      "source": [
        "IMAGE_DIMS = (512, 512, 1)\n",
        "input_dir_images_for_blurring = '/content/drive/My Drive/Input_dir_images_for_blurring'\n",
        "output_dir_images_for_blurring = '/content/drive/My Drive/Datasets/Dataset_of_clear_blurs_with_log'\n",
        "dir_with_non_blurred_images = '/content/drive/My Drive/Images_from_COCO'\n",
        "flag_look_for_spectres_instead_of_images = False\n",
        "flag_make_log_pixels = True"
      ],
      "execution_count": 0,
      "outputs": []
    },
    {
      "cell_type": "markdown",
      "metadata": {
        "id": "8OdrbreulQJ3",
        "colab_type": "text"
      },
      "source": [
        "##Определение функций ядра"
      ]
    },
    {
      "cell_type": "code",
      "metadata": {
        "id": "CgkV9KY--a4d",
        "colab_type": "code",
        "colab": {}
      },
      "source": [
        "def h_circular_scattering(x, y, param1=20, param2 = None, x_c = None, y_c = None):\n",
        "  r = param1\n",
        "  x = x - x_c\n",
        "  y = y - y_c\n",
        "  result = 0\n",
        "  if (x*x + y*y) <= r*r:\n",
        "    result = 1/(math.pi*(r*r))\n",
        "  return result\n",
        "\n",
        "def h_Gauss(x, y, C=1, param1=10, param2 = None, x_c = None, y_c = None):\n",
        "  sigma = param1\n",
        "  x = x - x_c\n",
        "  y = y - y_c\n",
        "  return (C * (math.e ** ( -(x**2 + y**2)/(2*(sigma**2))) ))\n",
        "\n",
        "def h_linear_smearing(x,y, param1=32, param2 = 0, x_c = None, y_c = None):\n",
        "  r = param1\n",
        "  alpha = param2\n",
        "  if abs(alpha) > 45: alpha = -math.copysign(90-abs(alpha), alpha)\n",
        "  x = x - x_c\n",
        "  y = -y + y_c\n",
        "  D = r - (x**2 + y**2) ** 0.5\n",
        "  distance_r = (x**2 + y**2) ** 0.5\n",
        "  alpha = math.radians(alpha)\n",
        "  result = 0\n",
        "  if ( (x**2 + y**2) <= ((r**2)/4) ) and ( y == int(round(x*math.tan(alpha),0)) ):\n",
        "    result = 1\n",
        "#   elif (x**2 + y**2) <= ((r**2)/4) :\n",
        "#     result = 1 - distance_r/D\n",
        "  return result"
      ],
      "execution_count": 0,
      "outputs": []
    },
    {
      "cell_type": "markdown",
      "metadata": {
        "id": "j1nd3fqXYFE_",
        "colab_type": "text"
      },
      "source": [
        "##Формирование функции искажения по заданному изображению, виду искажения и параметрам ядра искажения"
      ]
    },
    {
      "cell_type": "code",
      "metadata": {
        "id": "y8MhyRH7YjFS",
        "colab_type": "code",
        "colab": {}
      },
      "source": [
        "def blur(_image, kernel_blur, param1, param2):\n",
        "\n",
        "  # создание отсчетов из ядра искажения---------------------------------------------------------------------------------\n",
        "  v = np.zeros((_image.shape[0],_image.shape[1]))\n",
        "  for i in range(_image.shape[0]):\n",
        "    for j in range(_image.shape[1]):\n",
        "      v[i][j] = kernel_blur(j, i, param1=param1, param2=param2, x_c = (_image.shape[1] // 2), y_c = (_image.shape[0] // 2))\n",
        "  v = np.reshape(v,-1)\n",
        "  v = v/np.sum(v) # Нормализуем матрицу отсчетов ядра искажения на единицу. Сумма элементов матрицы будет равна единице\n",
        "  #----------------------------------------------------------------------------------------------------------------------\n",
        "  \n",
        "  #--------------------------------------------------------\n",
        "  if (kernel_blur == h_linear_smearing) and (abs(param2) > 45):\n",
        "    _image = np.transpose(_image[::-1])\n",
        "  #--------------------------------------------------------\n",
        "\n",
        "  #------Преобразование Фурье------------------------------\n",
        "  F_image = np.fft.fft(np.reshape(_image,(1,-1)))\n",
        "  F_h = np.fft.fft(np.reshape(v,-1))\n",
        "  #--------------------------------------------------------\n",
        "  \n",
        "  #--Берем только амплитуды у Фурье-образа изображения-----\n",
        "  F_h = np.reshape(F_h, -1)\n",
        "  for i in range(F_h.shape[-1]):\n",
        "    F_h[i] = abs(F_h[i])\n",
        "  #--------------------------------------------------------\n",
        "  \n",
        "  F = F_h*F_image # Перемножам Фурье-образ изображения с Фурье-образом ядра искажения\n",
        "  f = np.fft.ifft(F) # Обратное преобразование Фурье\n",
        "  f = np.reshape(f,_image.shape)\n",
        "  \n",
        "  if (kernel_blur == h_linear_smearing) and (abs(param2) > 45):\n",
        "    f = np.transpose(f)[::-1]\n",
        "  \n",
        "  f_real = np.zeros(f.shape, dtype=float)\n",
        "  for i in range(f.shape[0]):\n",
        "    for j in range(f.shape[1]):\n",
        "      f_real[i][j] = abs(f[i][j])\n",
        "  return f_real"
      ],
      "execution_count": 0,
      "outputs": []
    },
    {
      "cell_type": "markdown",
      "metadata": {
        "id": "U_uHhQ-zWLcF",
        "colab_type": "text"
      },
      "source": [
        "##Получение картинки амплитуды спектра размытого изображения"
      ]
    },
    {
      "cell_type": "code",
      "metadata": {
        "id": "cFj4ndviWK0M",
        "colab_type": "code",
        "colab": {}
      },
      "source": [
        "def get_pic_FT(_image):\n",
        "  F_image = np.fft.fft(np.reshape(_image,(1,-1)))\n",
        "  temp_F = np.copy(F_image)\n",
        "  temp_F = np.reshape(temp_F, _image.shape)\n",
        "  temp = np.zeros(temp_F.shape, dtype=float)\n",
        "  temp = np.reshape(temp, _image.shape)\n",
        "  for i in range(temp_F.shape[0]):\n",
        "    k = i + temp_F.shape[0] // 2\n",
        "    if k > (temp_F.shape[0]-1): k = i - temp_F.shape[0] // 2\n",
        "    for j in range(temp_F.shape[1]):\n",
        "      l = j + temp_F.shape[1] // 2\n",
        "      if l > (temp_F.shape[1]-1): l = j - temp_F.shape[1] // 2\n",
        "      temp[i][j] = abs(temp_F[k][l])\n",
        "  return temp"
      ],
      "execution_count": 0,
      "outputs": []
    },
    {
      "cell_type": "markdown",
      "metadata": {
        "id": "v_yH0IOJAkux",
        "colab_type": "text"
      },
      "source": [
        "#Создание датасета"
      ]
    },
    {
      "cell_type": "code",
      "metadata": {
        "id": "oyL1wHkHZLWa",
        "colab_type": "code",
        "outputId": "1f43f3a9-ac8f-4c6a-95ce-938248b59e9f",
        "colab": {
          "base_uri": "https://localhost:8080/",
          "height": 54
        }
      },
      "source": [
        "from google.colab import drive\n",
        "drive.mount('/content/drive')"
      ],
      "execution_count": 51,
      "outputs": [
        {
          "output_type": "stream",
          "text": [
            "Drive already mounted at /content/drive; to attempt to forcibly remount, call drive.mount(\"/content/drive\", force_remount=True).\n"
          ],
          "name": "stdout"
        }
      ]
    },
    {
      "cell_type": "code",
      "metadata": {
        "id": "G6lkDUGWKoCZ",
        "colab_type": "code",
        "colab": {
          "base_uri": "https://localhost:8080/",
          "height": 162
        },
        "outputId": "e8598690-b3fd-4e6a-e59a-f8ab181eed3f"
      },
      "source": [
        "# The choice of blurrings: h_linear_smearing ,h_Gauss, h_circular_scattering\n",
        "functions = [h_linear_smearing, h_Gauss, h_circular_scattering]"
      ],
      "execution_count": 52,
      "outputs": [
        {
          "output_type": "error",
          "ename": "NameError",
          "evalue": "ignored",
          "traceback": [
            "\u001b[0;31m---------------------------------------------------------------------------\u001b[0m",
            "\u001b[0;31mNameError\u001b[0m                                 Traceback (most recent call last)",
            "\u001b[0;32m<ipython-input-52-3bab436ed5fc>\u001b[0m in \u001b[0;36m<module>\u001b[0;34m()\u001b[0m\n\u001b[0;32m----> 1\u001b[0;31m \u001b[0mfunctions\u001b[0m \u001b[0;34m=\u001b[0m \u001b[0;34m[\u001b[0m\u001b[0mh_linear_smearing\u001b[0m\u001b[0;34m,\u001b[0m \u001b[0mh_Gauss\u001b[0m\u001b[0;34m,\u001b[0m \u001b[0mh_circular_scattering\u001b[0m\u001b[0;34m]\u001b[0m\u001b[0;34m\u001b[0m\u001b[0;34m\u001b[0m\u001b[0m\n\u001b[0m",
            "\u001b[0;31mNameError\u001b[0m: name 'h_linear_smearing' is not defined"
          ]
        }
      ]
    },
    {
      "cell_type": "code",
      "metadata": {
        "id": "FtBAJCv0KWZC",
        "colab_type": "code",
        "colab": {}
      },
      "source": [
        "def blur_and_save_from_one_image(_image, _filename, make_log_pixels=False, look_for_spectres_instead_of_images=False):\n",
        "  for function in functions: \n",
        "    num_images_for_one_blur = len(np.arange(2,int(_image.shape[0]*0.15)))\n",
        "    fname = _filename[:_filename.rfind('.')]\n",
        "    if function == h_linear_smearing: fname += '_linear smearing'\n",
        "    elif function == h_circular_scattering: fname += '_circular scattering'\n",
        "    elif function == h_Gauss: fname += '_Gauss'\n",
        "    if function == h_circular_scattering:\n",
        "      radiuses = np.arange(2,int(_image.shape[0]*0.15))\n",
        "      param1 = radiuses\n",
        "      param2 = None\n",
        "    if function == h_Gauss:\n",
        "      sigmas = np.linspace(0.1, 60, num_images_for_one_blur)\n",
        "      param1 = sigmas\n",
        "      param2 = None\n",
        "    if function == h_linear_smearing:\n",
        "      radiuses = np.linspace(2,_image.shape[0]*0.15, int(num_images_for_one_blur ** 0.5))\n",
        "      alpha_upper = 90.0\n",
        "      alpha_lower = -90.0\n",
        "      alphas = np.linspace(alpha_lower, alpha_upper, int(num_images_for_one_blur ** 0.5))\n",
        "      param1 = radiuses\n",
        "      param2 = alphas\n",
        "    for parameter_1 in param1:\n",
        "    \n",
        "      if type(param2) == type(np.arange(0.1,0.2,0.1)):\n",
        "        for parameter_2 in param2:\n",
        "          image_new = blur(_image, function, param1=parameter_1, param2=parameter_2)\n",
        "          if look_for_spectres_instead_of_images: image_new = get_pic_FT(image_new)\n",
        "          if make_log_pixels: \n",
        "            image_new = np.reshape(image_new,(-1))\n",
        "            for i in range(len(image_new)):\n",
        "              if image_new[i] != 0:\n",
        "                image_new[i] = math.log(image_new[i])\n",
        "            image_new = np.reshape(image_new,_image.shape)\n",
        "          image_new = (image_new - np.min(image_new))/(np.max(image_new)-np.min(image_new))\n",
        "          image_new = image_new*255\n",
        "          image_output = image_new.astype(np.uint8)\n",
        "          fname = _filename[:_filename.rfind('.')]\n",
        "          if function == h_linear_smearing: fname += '_linear smearing'\n",
        "          elif function == h_circular_scattering: fname += '_circular scattering'\n",
        "          elif function == h_Gauss: fname += '_Gauss'\n",
        "          fname += '_' + str(parameter_1) + '_' + str(parameter_2)\n",
        "          array_to_file.append([fname+'.png', fname.split('_')[-3], fname.split('_')[-2], fname.split('_')[-1], _filename[:_filename.rfind('.')]])\n",
        "          imsave(output_dir_images_for_blurring+'/'+_filename[:_filename.rfind('.')] +'/'+fname+'.png', image_output)\n",
        "      elif type(param2) == type(None):\n",
        "        image_new = blur(_image, function, param1=parameter_1, param2=None)\n",
        "        if look_for_spectres_instead_of_images: image_new = get_pic_FT(image_new)\n",
        "        if make_log_pixels: \n",
        "          image_new = np.reshape(image_new,(-1))\n",
        "          for i in range(len(image_new)):\n",
        "            if image_new[i] != 0:\n",
        "              image_new[i] = math.log(image_new[i])\n",
        "          image_new = np.reshape(image_new,_image.shape)\n",
        "        image_new = (image_new - np.min(image_new))/(np.max(image_new)-np.min(image_new))\n",
        "        image_new = image_new*255\n",
        "        image_output = image_new.astype(np.uint8)\n",
        "        fname = _filename[:_filename.rfind('.')]\n",
        "        if function == h_linear_smearing: fname += '_linear smearing'\n",
        "        elif function == h_circular_scattering: fname += '_circular scattering'\n",
        "        elif function == h_Gauss: fname += '_Gauss'\n",
        "        fname += '_' + str(parameter_1) + '_' + str(param2)\n",
        "        array_to_file.append([fname+'.png', fname.split('_')[-3], fname.split('_')[-2], fname.split('_')[-1], _filename[:_filename.rfind('.')]])\n",
        "        imsave(output_dir_images_for_blurring+'/'+_filename[:_filename.rfind('.')] +'/'+fname+'.png', image_output)"
      ],
      "execution_count": 0,
      "outputs": []
    },
    {
      "cell_type": "code",
      "metadata": {
        "id": "r877rA7xw0_k",
        "colab_type": "code",
        "colab": {}
      },
      "source": [
        "for filename in os.listdir(dir_with_non_blurred_images):\n",
        "  if filename.find('None') == -1:\n",
        "    os.rename(dir_with_non_blurred_images+'/'+filename, dir_with_non_blurred_images+'/'+filename.replace('_','-')[:filename.rfind('.')]+'_None_None_None'+filename[filename.rfind('.'):])"
      ],
      "execution_count": 0,
      "outputs": []
    },
    {
      "cell_type": "code",
      "metadata": {
        "id": "gO51ahsb_WOi",
        "colab_type": "code",
        "colab": {}
      },
      "source": [
        "image_delta_function = cv2.imread('/content/drive/My Drive/Input_dir_images_for_blurring/delta_function.png')\n",
        "for i in range(74):\n",
        "  cv2.imwrite('/content/drive/My Drive/Datasets/Non-blurred-delta-functions/' + 'delta_function'+str(i)+'.png', image_delta_function)\n",
        "dir_with_non_blurred_delta_functions = '/content/drive/My Drive/Datasets/Non-blurred-delta-functions'\n",
        "\n",
        "for filename in os.listdir('/content/drive/My Drive/Datasets/Non-blurred-delta-functions'):\n",
        "  if filename.find('None') == -1:\n",
        "    os.rename(dir_with_non_blurred_delta_functions+'/'+filename, dir_with_non_blurred_delta_functions+'/'+filename.replace('_','-')[:filename.rfind('.')]+'_None_None_None'+filename[filename.rfind('.'):])"
      ],
      "execution_count": 0,
      "outputs": []
    },
    {
      "cell_type": "code",
      "metadata": {
        "id": "aWvRovofW_KN",
        "colab_type": "code",
        "outputId": "08cc58a3-b657-4fbb-e8cc-666abc85152c",
        "colab": {
          "base_uri": "https://localhost:8080/",
          "height": 16
        }
      },
      "source": [
        "array_to_file = []\n",
        "for filename in tqdm_notebook(os.listdir(input_dir_images_for_blurring)):\n",
        "  if os.path.isdir(output_dir_images_for_blurring+'/'+filename[:filename.rfind('.')]) == False:\n",
        "    os.mkdir(output_dir_images_for_blurring+'/'+filename[:filename.rfind('.')])\n",
        "  image_PIL = PIL.Image.open(input_dir_images_for_blurring+'/'+filename).convert('RGB')\n",
        "  image_PIL = image_PIL.resize((IMAGE_DIMS[0],IMAGE_DIMS[1]))\n",
        "  image_cv = np.array(image_PIL)\n",
        "  image_gray = rgb2gray(image_cv)\n",
        "  input_image_for_dataset = image_gray\n",
        "  blur_and_save_from_one_image(input_image_for_dataset, filename, make_log_pixels=flag_make_log_pixels, \n",
        "                               look_for_spectres_instead_of_images=flag_look_for_spectres_instead_of_images)"
      ],
      "execution_count": 0,
      "outputs": [
        {
          "output_type": "display_data",
          "data": {
            "application/vnd.jupyter.widget-view+json": {
              "model_id": "7d6849a226094556be97e16eaa75cde5",
              "version_minor": 0,
              "version_major": 2
            },
            "text/plain": [
              "HBox(children=(IntProgress(value=0, max=1), HTML(value='')))"
            ]
          },
          "metadata": {
            "tags": []
          }
        }
      ]
    },
    {
      "cell_type": "code",
      "metadata": {
        "id": "Krb7G3xC0Rrz",
        "colab_type": "code",
        "outputId": "2ea28c7a-16bb-49a0-f7d1-b8af2c5c65bb",
        "colab": {
          "base_uri": "https://localhost:8080/",
          "height": 16
        }
      },
      "source": [
        "if not(os.path.isdir(output_dir_images_for_blurring+'/Non-blurred-images')):\n",
        "  os.mkdir(output_dir_images_for_blurring+'/Non-blurred-images')\n",
        "for filename in tqdm_notebook(os.listdir(dir_with_non_blurred_images)):\n",
        "  image_PIL = PIL.Image.open(dir_with_non_blurred_images+'/'+filename).convert('RGB')\n",
        "  image_PIL = image_PIL.resize((IMAGE_DIMS[0],IMAGE_DIMS[1]))\n",
        "  image_cv = np.array(image_PIL)\n",
        "  image_gray = rgb2gray(image_cv)\n",
        "  image_new = np.copy(image_gray)\n",
        "  if flag_look_for_spectres_instead_of_images:\n",
        "    image_new = get_pic_FT(image_new)\n",
        "  if flag_make_log_pixels:\n",
        "    image_new = np.reshape(image_new,(-1))\n",
        "    for i in range(len(image_new)):\n",
        "      if image_new[i] != 0:\n",
        "        image_new[i] = math.log(image_new[i])\n",
        "    image_new = np.reshape(image_new,image_gray.shape)\n",
        "  image_new = (image_new - np.min(image_new))/(np.max(image_new) - np.min(image_new))\n",
        "  image_new = image_new*255\n",
        "  image_new = image_new.astype('uint8')\n",
        "  image_output = image_new\n",
        "  imsave(output_dir_images_for_blurring+'/Non-blurred-images/'+filename, image_output)"
      ],
      "execution_count": 0,
      "outputs": [
        {
          "output_type": "display_data",
          "data": {
            "application/vnd.jupyter.widget-view+json": {
              "model_id": "4ba6d635593e4e46aa2c6f23f14f694a",
              "version_minor": 0,
              "version_major": 2
            },
            "text/plain": [
              "HBox(children=(IntProgress(value=0, max=707), HTML(value='')))"
            ]
          },
          "metadata": {
            "tags": []
          }
        }
      ]
    },
    {
      "cell_type": "code",
      "metadata": {
        "id": "Pjs2S4ZHJ9OC",
        "colab_type": "code",
        "colab": {}
      },
      "source": [
        "# сохранение в csv файл 'dataset_csv'\n",
        "pd.DataFrame(array_to_file).to_csv(output_dir_images_for_blurring+'/'+'dataset_csv'+'.csv', index=False)"
      ],
      "execution_count": 0,
      "outputs": []
    },
    {
      "cell_type": "code",
      "metadata": {
        "id": "er2oDrcIzunw",
        "colab_type": "code",
        "outputId": "024c883a-e250-4cee-c92f-8984059aaf5e",
        "colab": {
          "base_uri": "https://localhost:8080/",
          "height": 34
        }
      },
      "source": [
        "# Ищем изображения в папках, которые не занесены в файл .csv и записываем их в файл .csv\n",
        "data_frame = pd.read_csv(output_dir_images_for_blurring+'/'+'dataset_csv'+'.csv')\n",
        "for dir_path_images in tqdm_notebook(os.listdir(output_dir_images_for_blurring)):\n",
        "  if dir_path_images.find('.') == -1:\n",
        "    for fname in os.listdir(output_dir_images_for_blurring+'/'+dir_path_images):\n",
        "      if not (fname in [x for x in data_frame['0']]):\n",
        "        a = []\n",
        "        a += [fname]\n",
        "        a += [fname.split('_')[-3]]\n",
        "        a += [fname.split('_')[-2]]\n",
        "        a += [fname.split('_')[-1]][:fname.rfind('.')]\n",
        "        a += [dir_path_images]\n",
        "        a = np.reshape(np.array(a), (1,-1))\n",
        "        a = pd.DataFrame(a,columns=['0','1','2','3','4'])\n",
        "        data_frame = pd.concat([data_frame, a])\n",
        "\n",
        "# Удаляем те записи, по которым отсутствует фактически изображение\n",
        "flag = True\n",
        "while flag:\n",
        "  flag = True\n",
        "  for i in range(len(data_frame)):\n",
        "    for dir_path_images in os.listdir(output_dir_images_for_blurring):\n",
        "      if dir_path_images.find('.') == -1:\n",
        "        if os.listdir(output_dir_images_for_blurring+'/'+dir_path_images).count(data_frame.iloc[i][0]) != 0:\n",
        "          flag = False\n",
        "          break\n",
        "    if flag:\n",
        "      data_frame = data_frame.drop(index=i) \n",
        "    if flag:\n",
        "      break\n",
        "      \n",
        "# сохранение в csv файл 'dataset_csv'\n",
        "data_frame = data_frame.sort_values(['1'])\n",
        "pd.DataFrame(data_frame).to_csv(output_dir_images_for_blurring+'/'+'dataset_csv'+'.csv', index=False)"
      ],
      "execution_count": 20,
      "outputs": [
        {
          "output_type": "display_data",
          "data": {
            "application/vnd.jupyter.widget-view+json": {
              "model_id": "ac85a2bba10644dc9abec7e4a5bc5fdd",
              "version_minor": 0,
              "version_major": 2
            },
            "text/plain": [
              "HBox(children=(IntProgress(value=0, max=2), HTML(value='')))"
            ]
          },
          "metadata": {
            "tags": []
          }
        },
        {
          "output_type": "stream",
          "text": [
            "\n"
          ],
          "name": "stdout"
        }
      ]
    },
    {
      "cell_type": "markdown",
      "metadata": {
        "id": "W6Bw4u7vrVvF",
        "colab_type": "text"
      },
      "source": [
        "# Обучение модели"
      ]
    },
    {
      "cell_type": "code",
      "metadata": {
        "id": "RfE7sUjsYogY",
        "colab_type": "code",
        "colab": {}
      },
      "source": [
        "from keras.models import Sequential\n",
        "from keras.layers import Dense\n",
        "import pandas as pd\n",
        "import cv2\n",
        "from sklearn.utils import shuffle\n",
        "from keras.preprocessing.image import img_to_array\n",
        "import numpy as np\n",
        "from skimage.color import rgb2gray, gray2rgb\n",
        "import random\n",
        "from sklearn.preprocessing import MultiLabelBinarizer\n",
        "from sklearn.model_selection import train_test_split\n",
        "from keras.preprocessing.image import ImageDataGenerator\n",
        "from tqdm import tqdm_notebook\n",
        "import matplotlib.pyplot as plt\n",
        "\n",
        "\n",
        "import math\n",
        "from keras.optimizers import Adam, SGD\n",
        "\n",
        "import shutil\n",
        "\n",
        "from keras.callbacks import ModelCheckpoint\n",
        "\n",
        "import numpy as np\n",
        "from keras.layers import Input\n",
        "from keras import layers\n",
        "from keras.layers import Dense\n",
        "from keras.layers import Activation\n",
        "from keras.layers import Flatten\n",
        "from keras.layers import Conv2D\n",
        "from keras.layers import MaxPooling2D\n",
        "from keras.layers import GlobalMaxPooling2D\n",
        "from keras.layers import ZeroPadding2D\n",
        "from keras.layers import AveragePooling2D\n",
        "from keras.layers import GlobalAveragePooling2D\n",
        "from keras.layers import BatchNormalization\n",
        "from keras.layers.core import Dropout\n",
        "from keras.models import Model\n",
        "from keras.preprocessing import image\n",
        "import keras.backend as K\n",
        "from keras.utils import layer_utils\n",
        "from keras.utils.data_utils import get_file\n",
        "from keras.applications.imagenet_utils import decode_predictions\n",
        "from keras.applications.imagenet_utils import preprocess_input\n",
        "from keras_applications.imagenet_utils import _obtain_input_shape\n",
        "from keras.engine.topology import get_source_inputs\n",
        "from PIL import Image\n",
        "\n",
        "from keras import backend as K"
      ],
      "execution_count": 0,
      "outputs": []
    },
    {
      "cell_type": "code",
      "metadata": {
        "id": "-QZRlMbhE7hw",
        "colab_type": "code",
        "outputId": "b82a1f1d-4df0-4323-9190-ae007e911bed",
        "colab": {
          "base_uri": "https://localhost:8080/",
          "height": 54
        }
      },
      "source": [
        "from google.colab import drive\n",
        "drive.mount('/content/drive')"
      ],
      "execution_count": 54,
      "outputs": [
        {
          "output_type": "stream",
          "text": [
            "Drive already mounted at /content/drive; to attempt to forcibly remount, call drive.mount(\"/content/drive\", force_remount=True).\n"
          ],
          "name": "stdout"
        }
      ]
    },
    {
      "cell_type": "code",
      "metadata": {
        "id": "kYSvmQXaboW2",
        "colab_type": "code",
        "colab": {}
      },
      "source": [
        "dir_with_blurred_images = '/content/drive/My Drive/Datasets/Dataset_of_clear_blurs_with_log'"
      ],
      "execution_count": 0,
      "outputs": []
    },
    {
      "cell_type": "code",
      "metadata": {
        "id": "0Spa-HtM3fdu",
        "colab_type": "code",
        "colab": {}
      },
      "source": [
        "EPOCHS = 200\n",
        "INIT_LR = 1e-5 # initial learning rate\n",
        "BS = 64 # batch size\n",
        "IMAGE_DIMS = (512, 512, 1) "
      ],
      "execution_count": 0,
      "outputs": []
    },
    {
      "cell_type": "code",
      "metadata": {
        "id": "pt1Hzo_9vMNI",
        "colab_type": "code",
        "colab": {}
      },
      "source": [
        "dataframe = pd.read_csv(dir_with_blurred_images+'/dataset_csv.csv')"
      ],
      "execution_count": 0,
      "outputs": []
    },
    {
      "cell_type": "code",
      "metadata": {
        "id": "GltBY1zhQnVd",
        "colab_type": "code",
        "colab": {}
      },
      "source": [
        "fraction_of_train_set = 0.8\n",
        "result_test_dataframe = pd.DataFrame({})\n",
        "result_train_dataframe = pd.DataFrame({})\n",
        "for label in np.unique(np.array(dataframe.iloc[:,1].tolist())):\n",
        "  dataframe_labeled = dataframe.loc[dataframe['1']==label]\n",
        "  number_of_samples = fraction_of_train_set*len(dataframe_labeled)\n",
        "  indexes_for_train = random.sample(list(dataframe_labeled.index), int(number_of_samples))\n",
        "  train_dataframe = dataframe_labeled.loc[indexes_for_train]\n",
        "  test_dataframe = dataframe_labeled.copy()\n",
        "  for index in indexes_for_train:\n",
        "    test_dataframe = test_dataframe.drop(index)\n",
        "  result_test_dataframe = pd.concat([result_test_dataframe,test_dataframe])\n",
        "  result_train_dataframe = pd.concat([result_train_dataframe, train_dataframe])\n",
        "test_dataframe = result_test_dataframe.copy()\n",
        "train_dataframe = result_train_dataframe.copy()"
      ],
      "execution_count": 0,
      "outputs": []
    },
    {
      "cell_type": "code",
      "metadata": {
        "id": "Y84BbCSQhAzx",
        "colab_type": "code",
        "colab": {}
      },
      "source": [
        "for i in range(len(train_dataframe)):\n",
        "  train_dataframe.iloc[i,0] = train_dataframe.iloc[i,4]+'/'+train_dataframe.iloc[i,0]\n",
        "for i in range(len(test_dataframe)):\n",
        "  test_dataframe.iloc[i,0] = test_dataframe.iloc[i,4]+'/'+test_dataframe.iloc[i,0]"
      ],
      "execution_count": 0,
      "outputs": []
    },
    {
      "cell_type": "code",
      "metadata": {
        "id": "XBMg8M_b07RM",
        "colab_type": "code",
        "colab": {}
      },
      "source": [
        "def identity_block(input_tensor, kernel_size, filters, stage, block):\n",
        "    \"\"\"The identity block is the block that has no conv layer at shortcut.\n",
        "    # Arguments\n",
        "        input_tensor: input tensor\n",
        "        kernel_size: defualt 3, the kernel size of middle conv layer at main path\n",
        "        filters: list of integers, the filterss of 3 conv layer at main path\n",
        "        stage: integer, current stage label, used for generating layer names\n",
        "        block: 'a','b'..., current block label, used for generating layer names\n",
        "    # Returns\n",
        "        Output tensor for the block.\n",
        "    \"\"\"\n",
        "    filters1, filters2, filters3 = filters\n",
        "    if K.image_data_format() == 'channels_last':\n",
        "        bn_axis = 3\n",
        "    else:\n",
        "        bn_axis = 1\n",
        "    conv_name_base = 'res' + str(stage) + block + '_branch'\n",
        "    bn_name_base = 'bn' + str(stage) + block + '_branch'\n",
        "\n",
        "    x = Conv2D(filters1, (1, 1), name=conv_name_base + '2a')(input_tensor)\n",
        "    x = BatchNormalization(axis=bn_axis, name=bn_name_base + '2a')(x)\n",
        "    x = Activation('relu')(x)\n",
        "\n",
        "    x = Conv2D(filters2, kernel_size,\n",
        "               padding='same', name=conv_name_base + '2b')(x)\n",
        "    x = BatchNormalization(axis=bn_axis, name=bn_name_base + '2b')(x)\n",
        "    x = Activation('relu')(x)\n",
        "\n",
        "    x = Conv2D(filters3, (1, 1), name=conv_name_base + '2c')(x)\n",
        "    x = BatchNormalization(axis=bn_axis, name=bn_name_base + '2c')(x)\n",
        "\n",
        "    x = layers.add([x, input_tensor])\n",
        "    x = Activation('relu')(x)\n",
        "    return x\n",
        "  \n",
        "def conv_block(input_tensor, kernel_size, filters, stage, block, strides=(2, 2)):\n",
        "    \"\"\"conv_block is the block that has a conv layer at shortcut\n",
        "    # Arguments\n",
        "        input_tensor: input tensor\n",
        "        kernel_size: defualt 3, the kernel size of middle conv layer at main path\n",
        "        filters: list of integers, the filterss of 3 conv layer at main path\n",
        "        stage: integer, current stage label, used for generating layer names\n",
        "        block: 'a','b'..., current block label, used for generating layer names\n",
        "    # Returns\n",
        "        Output tensor for the block.\n",
        "    Note that from stage 3, the first conv layer at main path is with strides=(2,2)\n",
        "    And the shortcut should have strides=(2,2) as well\n",
        "    \"\"\"\n",
        "    filters1, filters2, filters3 = filters\n",
        "    if K.image_data_format() == 'channels_last':\n",
        "        bn_axis = 3\n",
        "    else:\n",
        "        bn_axis = 1\n",
        "    conv_name_base = 'res' + str(stage) + block + '_branch'\n",
        "    bn_name_base = 'bn' + str(stage) + block + '_branch'\n",
        "\n",
        "    x = Conv2D(filters1, (1, 1), strides=strides,\n",
        "               name=conv_name_base + '2a')(input_tensor)\n",
        "    x = BatchNormalization(axis=bn_axis, name=bn_name_base + '2a')(x)\n",
        "    x = Activation('relu')(x)\n",
        "\n",
        "    x = Conv2D(filters2, kernel_size, padding='same',\n",
        "               name=conv_name_base + '2b')(x)\n",
        "    x = BatchNormalization(axis=bn_axis, name=bn_name_base + '2b')(x)\n",
        "    x = Activation('relu')(x)\n",
        "\n",
        "    x = Conv2D(filters3, (1, 1), name=conv_name_base + '2c')(x)\n",
        "    x = BatchNormalization(axis=bn_axis, name=bn_name_base + '2c')(x)\n",
        "\n",
        "    shortcut = Conv2D(filters3, (1, 1), strides=strides,\n",
        "                      name=conv_name_base + '1')(input_tensor)\n",
        "    shortcut = BatchNormalization(axis=bn_axis, name=bn_name_base + '1')(shortcut)\n",
        "\n",
        "    x = layers.add([x, shortcut])\n",
        "    x = Activation('relu')(x)\n",
        "    return x\n",
        "  \n",
        "def ResNet50(include_top=True, weights=None,\n",
        "             input_tensor=None, input_shape=None,\n",
        "             pooling=None,\n",
        "             classes=1000):\n",
        "    \"\"\"Instantiates the ResNet50 architecture.\n",
        "    Optionally loads weights pre-trained\n",
        "    on ImageNet. Note that when using TensorFlow,\n",
        "    for best performance you should set\n",
        "    `image_data_format=\"channels_last\"` in your Keras config\n",
        "    at ~/.keras/keras.json.\n",
        "    The model and the weights are compatible with both\n",
        "    TensorFlow and Theano. The data format\n",
        "    convention used by the model is the one\n",
        "    specified in your Keras config file.\n",
        "    # Arguments\n",
        "        include_top: whether to include the fully-connected\n",
        "            layer at the top of the network.\n",
        "        weights: one of `None` (random initialization)\n",
        "            or \"imagenet\" (pre-training on ImageNet).\n",
        "        input_tensor: optional Keras tensor (i.e. output of `layers.Input()`)\n",
        "            to use as image input for the model.\n",
        "        input_shape: optional shape tuple, only to be specified\n",
        "            if `include_top` is False (otherwise the input shape\n",
        "            has to be `(224, 224, 3)` (with `channels_last` data format)\n",
        "            or `(3, 224, 244)` (with `channels_first` data format).\n",
        "            It should have exactly 3 inputs channels,\n",
        "            and width and height should be no smaller than 197.\n",
        "            E.g. `(200, 200, 3)` would be one valid value.\n",
        "        pooling: Optional pooling mode for feature extraction\n",
        "            when `include_top` is `False`.\n",
        "            - `None` means that the output of the model will be\n",
        "                the 4D tensor output of the\n",
        "                last convolutional layer.\n",
        "            - `avg` means that global average pooling\n",
        "                will be applied to the output of the\n",
        "                last convolutional layer, and thus\n",
        "                the output of the model will be a 2D tensor.\n",
        "            - `max` means that global max pooling will\n",
        "                be applied.\n",
        "        classes: optional number of classes to classify images\n",
        "            into, only to be specified if `include_top` is True, and\n",
        "            if no `weights` argument is specified.\n",
        "    # Returns\n",
        "        A Keras model instance.\n",
        "    # Raises\n",
        "        ValueError: in case of invalid argument for `weights`,\n",
        "            or invalid input shape.\n",
        "    \"\"\"\n",
        "    # Determine proper input shape\n",
        "    input_shape = _obtain_input_shape(input_shape,\n",
        "                                      default_size=224,\n",
        "                                      min_size=197,\n",
        "                                      data_format=K.image_data_format(),\n",
        "                                      require_flatten=True)\n",
        "\n",
        "    if input_tensor is None:\n",
        "        img_input = Input(shape=input_shape)\n",
        "    else:\n",
        "        if not K.is_keras_tensor(input_tensor):\n",
        "            img_input = Input(tensor=input_tensor, shape=input_shape)\n",
        "        else:\n",
        "            img_input = input_tensor\n",
        "    if K.image_data_format() == 'channels_last':\n",
        "        bn_axis = 3\n",
        "    else:\n",
        "        bn_axis = 1\n",
        "\n",
        "    x = ZeroPadding2D((3, 3))(img_input)\n",
        "    x = Conv2D(64, (7, 7), strides=(2, 2), name='conv1')(x)\n",
        "    x = BatchNormalization(axis=bn_axis, name='bn_conv1')(x)\n",
        "    x = Activation('relu')(x)\n",
        "    x = MaxPooling2D((3, 3), strides=(2, 2))(x)\n",
        "\n",
        "    x = conv_block(x, 3, [64, 64, 256], stage=2, block='a', strides=(1, 1))\n",
        "    x = identity_block(x, 3, [64, 64, 256], stage=2, block='b')\n",
        "    x = identity_block(x, 3, [64, 64, 256], stage=2, block='c')\n",
        "\n",
        "    x = conv_block(x, 3, [128, 128, 512], stage=3, block='a')\n",
        "    x = identity_block(x, 3, [128, 128, 512], stage=3, block='b')\n",
        "    x = identity_block(x, 3, [128, 128, 512], stage=3, block='c')\n",
        "    x = identity_block(x, 3, [128, 128, 512], stage=3, block='d')\n",
        "\n",
        "    x = conv_block(x, 3, [256, 256, 1024], stage=4, block='a')\n",
        "    x = identity_block(x, 3, [256, 256, 1024], stage=4, block='b')\n",
        "    x = identity_block(x, 3, [256, 256, 1024], stage=4, block='c')\n",
        "    x = identity_block(x, 3, [256, 256, 1024], stage=4, block='d')\n",
        "    x = identity_block(x, 3, [256, 256, 1024], stage=4, block='e')\n",
        "    x = identity_block(x, 3, [256, 256, 1024], stage=4, block='f')\n",
        "\n",
        "    x = conv_block(x, 3, [512, 512, 2048], stage=5, block='a')\n",
        "    x = identity_block(x, 3, [512, 512, 2048], stage=5, block='b')\n",
        "    x = identity_block(x, 3, [512, 512, 2048], stage=5, block='c')\n",
        "\n",
        "    x = AveragePooling2D((7, 7), name='avg_pool')(x)\n",
        "\n",
        "    if include_top:\n",
        "        x = Flatten()(x)\n",
        "        x = Dense(classes, activation='softmax', name='fc1000')(x)\n",
        "    else:\n",
        "        if pooling == 'avg':\n",
        "            x = GlobalAveragePooling2D()(x)\n",
        "        elif pooling == 'max':\n",
        "            x = GlobalMaxPooling2D()(x)\n",
        "\n",
        "    # Ensure that the model takes into account\n",
        "    # any potential predecessors of `input_tensor`.\n",
        "    if input_tensor is not None:\n",
        "        inputs = get_source_inputs(input_tensor)\n",
        "    else:\n",
        "        inputs = img_input\n",
        "    # Create model.\n",
        "    model = Model(inputs, x, name='resnet50')\n",
        "\n",
        "    return model"
      ],
      "execution_count": 0,
      "outputs": []
    },
    {
      "cell_type": "code",
      "metadata": {
        "id": "VgSH76glWe9x",
        "colab_type": "code",
        "colab": {}
      },
      "source": [
        "resnet50_model = ResNet50(input_tensor=None, input_shape=None,\n",
        "             pooling=None,\n",
        "             classes=4)"
      ],
      "execution_count": 0,
      "outputs": []
    },
    {
      "cell_type": "code",
      "metadata": {
        "id": "t3QTi30f3fd_",
        "colab_type": "code",
        "colab": {}
      },
      "source": [
        "opt = Adam(lr=INIT_LR, decay=INIT_LR / EPOCHS)\n",
        "resnet50_model.compile(optimizer=opt,\n",
        "              loss='binary_crossentropy',\n",
        "              metrics=['accuracy'])"
      ],
      "execution_count": 0,
      "outputs": []
    },
    {
      "cell_type": "code",
      "metadata": {
        "id": "DNCdmkPrr7pM",
        "colab_type": "code",
        "outputId": "6a35e352-7702-4251-edb3-f833a988a6de",
        "colab": {
          "base_uri": "https://localhost:8080/",
          "height": 138
        }
      },
      "source": [
        "train_df = train_dataframe\n",
        "valid_df = test_dataframe\n",
        "\n",
        "train_datagen = ImageDataGenerator(\n",
        "        rescale=1./255,\n",
        "        horizontal_flip=True,\n",
        "        vertical_flip=True,\n",
        "        rotation_range=90)\n",
        "\n",
        "test_datagen = ImageDataGenerator(rescale=1./255)\n",
        "\n",
        "train_generator = train_datagen.flow_from_dataframe(\n",
        "        dataframe=train_df,\n",
        "        directory=dir_with_blurred_images,\n",
        "        x_col=\"0\",\n",
        "        y_col=\"1\",\n",
        "        target_size=(224, 224),\n",
        "        batch_size=BS,\n",
        "        class_mode='categorical')\n",
        "\n",
        "validation_generator = test_datagen.flow_from_dataframe(\n",
        "        dataframe=valid_df,\n",
        "        directory=dir_with_blurred_images,\n",
        "        x_col=\"0\",\n",
        "        y_col=\"1\",\n",
        "        target_size=(224, 224),\n",
        "        batch_size=BS,\n",
        "        class_mode='categorical')"
      ],
      "execution_count": 106,
      "outputs": [
        {
          "output_type": "stream",
          "text": [
            "Found 226 validated image filenames belonging to 4 classes.\n",
            "Found 57 validated image filenames belonging to 4 classes.\n"
          ],
          "name": "stdout"
        },
        {
          "output_type": "stream",
          "text": [
            "/usr/local/lib/python3.6/dist-packages/keras_preprocessing/image/dataframe_iterator.py:273: UserWarning: Found 2 invalid image filename(s) in x_col=\"0\". These filename(s) will be ignored.\n",
            "  .format(n_invalid, x_col)\n",
            "/usr/local/lib/python3.6/dist-packages/keras_preprocessing/image/dataframe_iterator.py:273: UserWarning: Found 1 invalid image filename(s) in x_col=\"0\". These filename(s) will be ignored.\n",
            "  .format(n_invalid, x_col)\n"
          ],
          "name": "stderr"
        }
      ]
    },
    {
      "cell_type": "code",
      "metadata": {
        "id": "xrWuwPtD7crO",
        "colab_type": "code",
        "colab": {}
      },
      "source": [
        "filepath_model_to_save = dir_with_blurred_images+'/weights-resnet50-blur-classification-{epoch:02d}-{val_acc:.2f}.hdf5'\n",
        "checkpoint = ModelCheckpoint(filepath_model_to_save, monitor='val_acc', verbose=1, save_best_only=True, mode='max')\n",
        "callbacks_list = [checkpoint]"
      ],
      "execution_count": 0,
      "outputs": []
    },
    {
      "cell_type": "markdown",
      "metadata": {
        "id": "BmPSI6uxP2l-",
        "colab_type": "text"
      },
      "source": [
        "# Results of training on blurred images from 10 original images"
      ]
    },
    {
      "cell_type": "code",
      "metadata": {
        "id": "E-u2ZZwvL2La",
        "colab_type": "code",
        "outputId": "dfda33fd-f14d-4608-a25d-06e0164a980f",
        "colab": {
          "base_uri": "https://localhost:8080/",
          "height": 1000
        }
      },
      "source": [
        "H = resnet50_model.fit_generator(aug.flow(trainX, trainY, batch_size=BS),\n",
        "                                 validation_data=(testX, testY),\n",
        "                                 steps_per_epoch=len(trainX) // BS,\n",
        "                                 epochs=EPOCHS,\n",
        "                                 verbose=1)"
      ],
      "execution_count": 0,
      "outputs": [
        {
          "output_type": "stream",
          "text": [
            "WARNING:tensorflow:From /usr/local/lib/python3.6/dist-packages/keras/backend/tensorflow_backend.py:1033: The name tf.assign_add is deprecated. Please use tf.compat.v1.assign_add instead.\n",
            "\n",
            "WARNING:tensorflow:From /usr/local/lib/python3.6/dist-packages/keras/backend/tensorflow_backend.py:1020: The name tf.assign is deprecated. Please use tf.compat.v1.assign instead.\n",
            "\n",
            "Epoch 1/100\n",
            "53/53 [==============================] - 76s 1s/step - loss: 0.7380 - acc: 0.6154 - val_loss: 0.8152 - val_acc: 0.6415\n",
            "Epoch 2/100\n",
            "53/53 [==============================] - 52s 982ms/step - loss: 0.6289 - acc: 0.6733 - val_loss: 0.6900 - val_acc: 0.6533\n",
            "Epoch 3/100\n",
            "53/53 [==============================] - 52s 982ms/step - loss: 0.5919 - acc: 0.6965 - val_loss: 0.6448 - val_acc: 0.6800\n",
            "Epoch 4/100\n",
            "53/53 [==============================] - 52s 980ms/step - loss: 0.5868 - acc: 0.6973 - val_loss: 0.6058 - val_acc: 0.6973\n",
            "Epoch 5/100\n",
            "53/53 [==============================] - 52s 977ms/step - loss: 0.5766 - acc: 0.6983 - val_loss: 0.5835 - val_acc: 0.6965\n",
            "Epoch 6/100\n",
            "53/53 [==============================] - 52s 981ms/step - loss: 0.5656 - acc: 0.7018 - val_loss: 0.5778 - val_acc: 0.6910\n",
            "Epoch 7/100\n",
            "53/53 [==============================] - 52s 979ms/step - loss: 0.5615 - acc: 0.7032 - val_loss: 0.5648 - val_acc: 0.6973\n",
            "Epoch 8/100\n",
            "53/53 [==============================] - 52s 981ms/step - loss: 0.5584 - acc: 0.7036 - val_loss: 0.5931 - val_acc: 0.6863\n",
            "Epoch 9/100\n",
            "53/53 [==============================] - 52s 979ms/step - loss: 0.5568 - acc: 0.7026 - val_loss: 0.5674 - val_acc: 0.7005\n",
            "Epoch 10/100\n",
            "53/53 [==============================] - 52s 983ms/step - loss: 0.5475 - acc: 0.7074 - val_loss: 0.5504 - val_acc: 0.7068\n",
            "Epoch 11/100\n",
            "53/53 [==============================] - 52s 980ms/step - loss: 0.5397 - acc: 0.7099 - val_loss: 0.5616 - val_acc: 0.6997\n",
            "Epoch 12/100\n",
            "53/53 [==============================] - 52s 978ms/step - loss: 0.5392 - acc: 0.7142 - val_loss: 0.5623 - val_acc: 0.6973\n",
            "Epoch 13/100\n",
            "53/53 [==============================] - 52s 979ms/step - loss: 0.5435 - acc: 0.7087 - val_loss: 0.5550 - val_acc: 0.7068\n",
            "Epoch 14/100\n",
            "53/53 [==============================] - 52s 981ms/step - loss: 0.5382 - acc: 0.7103 - val_loss: 0.5533 - val_acc: 0.7115\n",
            "Epoch 15/100\n",
            "53/53 [==============================] - 52s 981ms/step - loss: 0.5341 - acc: 0.7123 - val_loss: 0.5451 - val_acc: 0.7201\n",
            "Epoch 16/100\n",
            "53/53 [==============================] - 52s 981ms/step - loss: 0.5362 - acc: 0.7127 - val_loss: 0.5377 - val_acc: 0.7138\n",
            "Epoch 17/100\n",
            "53/53 [==============================] - 52s 980ms/step - loss: 0.5305 - acc: 0.7156 - val_loss: 0.5483 - val_acc: 0.7083\n",
            "Epoch 18/100\n",
            "53/53 [==============================] - 52s 980ms/step - loss: 0.5288 - acc: 0.7170 - val_loss: 0.5510 - val_acc: 0.7225\n",
            "Epoch 19/100\n",
            "53/53 [==============================] - 52s 981ms/step - loss: 0.5313 - acc: 0.7176 - val_loss: 0.5458 - val_acc: 0.7146\n",
            "Epoch 20/100\n",
            "53/53 [==============================] - 52s 983ms/step - loss: 0.5199 - acc: 0.7303 - val_loss: 0.5401 - val_acc: 0.7248\n",
            "Epoch 21/100\n",
            "53/53 [==============================] - 52s 983ms/step - loss: 0.5309 - acc: 0.7144 - val_loss: 0.5365 - val_acc: 0.7193\n",
            "Epoch 22/100\n",
            "53/53 [==============================] - 52s 981ms/step - loss: 0.5191 - acc: 0.7284 - val_loss: 0.5421 - val_acc: 0.7280\n",
            "Epoch 23/100\n",
            "53/53 [==============================] - 52s 981ms/step - loss: 0.5173 - acc: 0.7305 - val_loss: 0.5381 - val_acc: 0.7186\n",
            "Epoch 24/100\n",
            "53/53 [==============================] - 52s 981ms/step - loss: 0.5125 - acc: 0.7292 - val_loss: 0.5382 - val_acc: 0.7178\n",
            "Epoch 25/100\n",
            "53/53 [==============================] - 52s 981ms/step - loss: 0.5217 - acc: 0.7296 - val_loss: 0.5333 - val_acc: 0.7296\n",
            "Epoch 26/100\n",
            "53/53 [==============================] - 52s 982ms/step - loss: 0.5186 - acc: 0.7266 - val_loss: 0.5234 - val_acc: 0.7343\n",
            "Epoch 27/100\n",
            "53/53 [==============================] - 52s 982ms/step - loss: 0.5131 - acc: 0.7355 - val_loss: 0.5275 - val_acc: 0.7327\n",
            "Epoch 28/100\n",
            "53/53 [==============================] - 52s 980ms/step - loss: 0.5119 - acc: 0.7333 - val_loss: 0.5302 - val_acc: 0.7264\n",
            "Epoch 29/100\n",
            "53/53 [==============================] - 52s 980ms/step - loss: 0.5098 - acc: 0.7343 - val_loss: 0.5360 - val_acc: 0.7406\n",
            "Epoch 30/100\n",
            "53/53 [==============================] - 52s 980ms/step - loss: 0.5181 - acc: 0.7331 - val_loss: 0.5227 - val_acc: 0.7398\n",
            "Epoch 31/100\n",
            "53/53 [==============================] - 52s 981ms/step - loss: 0.5081 - acc: 0.7380 - val_loss: 0.5293 - val_acc: 0.7296\n",
            "Epoch 32/100\n",
            "53/53 [==============================] - 52s 981ms/step - loss: 0.5051 - acc: 0.7345 - val_loss: 0.5181 - val_acc: 0.7335\n",
            "Epoch 33/100\n",
            "53/53 [==============================] - 52s 981ms/step - loss: 0.5067 - acc: 0.7357 - val_loss: 0.5232 - val_acc: 0.7311\n",
            "Epoch 34/100\n",
            "53/53 [==============================] - 52s 981ms/step - loss: 0.5038 - acc: 0.7415 - val_loss: 0.5179 - val_acc: 0.7476\n",
            "Epoch 35/100\n",
            "53/53 [==============================] - 52s 981ms/step - loss: 0.5031 - acc: 0.7415 - val_loss: 0.5359 - val_acc: 0.7547\n",
            "Epoch 36/100\n",
            "53/53 [==============================] - 52s 979ms/step - loss: 0.4982 - acc: 0.7478 - val_loss: 0.5224 - val_acc: 0.7406\n",
            "Epoch 37/100\n",
            "53/53 [==============================] - 52s 981ms/step - loss: 0.4988 - acc: 0.7345 - val_loss: 0.5302 - val_acc: 0.7351\n",
            "Epoch 38/100\n",
            "53/53 [==============================] - 52s 981ms/step - loss: 0.5027 - acc: 0.7372 - val_loss: 0.5404 - val_acc: 0.7374\n",
            "Epoch 39/100\n",
            "53/53 [==============================] - 52s 980ms/step - loss: 0.5007 - acc: 0.7421 - val_loss: 0.5406 - val_acc: 0.7421\n",
            "Epoch 40/100\n",
            "53/53 [==============================] - 52s 982ms/step - loss: 0.4985 - acc: 0.7533 - val_loss: 0.5277 - val_acc: 0.7390\n",
            "Epoch 41/100\n",
            "53/53 [==============================] - 52s 980ms/step - loss: 0.4942 - acc: 0.7512 - val_loss: 0.5161 - val_acc: 0.7469\n",
            "Epoch 42/100\n",
            "53/53 [==============================] - 52s 981ms/step - loss: 0.4970 - acc: 0.7484 - val_loss: 0.5092 - val_acc: 0.7539\n",
            "Epoch 43/100\n",
            "53/53 [==============================] - 52s 979ms/step - loss: 0.4909 - acc: 0.7504 - val_loss: 0.5239 - val_acc: 0.7642\n",
            "Epoch 44/100\n",
            "53/53 [==============================] - 52s 982ms/step - loss: 0.4899 - acc: 0.7518 - val_loss: 0.5347 - val_acc: 0.7476\n",
            "Epoch 45/100\n",
            "53/53 [==============================] - 52s 981ms/step - loss: 0.4913 - acc: 0.7471 - val_loss: 0.5174 - val_acc: 0.7492\n",
            "Epoch 46/100\n",
            "53/53 [==============================] - 52s 982ms/step - loss: 0.4909 - acc: 0.7457 - val_loss: 0.5315 - val_acc: 0.7563\n",
            "Epoch 47/100\n",
            "53/53 [==============================] - 52s 981ms/step - loss: 0.4900 - acc: 0.7512 - val_loss: 0.5015 - val_acc: 0.7414\n",
            "Epoch 48/100\n",
            "53/53 [==============================] - 52s 980ms/step - loss: 0.4824 - acc: 0.7498 - val_loss: 0.5111 - val_acc: 0.7610\n",
            "Epoch 49/100\n",
            "53/53 [==============================] - 52s 980ms/step - loss: 0.4900 - acc: 0.7467 - val_loss: 0.4979 - val_acc: 0.7508\n",
            "Epoch 50/100\n",
            "53/53 [==============================] - 52s 979ms/step - loss: 0.4881 - acc: 0.7531 - val_loss: 0.5128 - val_acc: 0.7476\n",
            "Epoch 51/100\n",
            "53/53 [==============================] - 52s 979ms/step - loss: 0.4822 - acc: 0.7508 - val_loss: 0.5199 - val_acc: 0.7524\n",
            "Epoch 52/100\n",
            "53/53 [==============================] - 52s 980ms/step - loss: 0.4850 - acc: 0.7563 - val_loss: 0.4959 - val_acc: 0.7555\n",
            "Epoch 53/100\n",
            "53/53 [==============================] - 52s 978ms/step - loss: 0.4758 - acc: 0.7592 - val_loss: 0.5308 - val_acc: 0.7594\n",
            "Epoch 54/100\n",
            "53/53 [==============================] - 52s 980ms/step - loss: 0.4828 - acc: 0.7573 - val_loss: 0.5042 - val_acc: 0.7594\n",
            "Epoch 55/100\n",
            "53/53 [==============================] - 52s 975ms/step - loss: 0.4783 - acc: 0.7624 - val_loss: 0.5485 - val_acc: 0.7547\n",
            "Epoch 56/100\n",
            "53/53 [==============================] - 52s 974ms/step - loss: 0.4847 - acc: 0.7502 - val_loss: 0.5448 - val_acc: 0.7374\n",
            "Epoch 57/100\n",
            "53/53 [==============================] - 52s 977ms/step - loss: 0.4775 - acc: 0.7543 - val_loss: 0.5175 - val_acc: 0.7406\n",
            "Epoch 58/100\n",
            "53/53 [==============================] - 52s 983ms/step - loss: 0.4739 - acc: 0.7612 - val_loss: 0.5098 - val_acc: 0.7421\n",
            "Epoch 59/100\n",
            "53/53 [==============================] - 52s 978ms/step - loss: 0.4793 - acc: 0.7585 - val_loss: 0.5136 - val_acc: 0.7469\n",
            "Epoch 60/100\n",
            "53/53 [==============================] - 52s 981ms/step - loss: 0.4729 - acc: 0.7649 - val_loss: 0.5477 - val_acc: 0.7429\n",
            "Epoch 61/100\n",
            "53/53 [==============================] - 52s 983ms/step - loss: 0.4734 - acc: 0.7606 - val_loss: 0.5103 - val_acc: 0.7626\n",
            "Epoch 62/100\n",
            "53/53 [==============================] - 52s 981ms/step - loss: 0.4688 - acc: 0.7685 - val_loss: 0.4953 - val_acc: 0.7539\n",
            "Epoch 63/100\n",
            "53/53 [==============================] - 52s 983ms/step - loss: 0.4721 - acc: 0.7612 - val_loss: 0.5030 - val_acc: 0.7602\n",
            "Epoch 64/100\n",
            "53/53 [==============================] - 52s 980ms/step - loss: 0.4710 - acc: 0.7667 - val_loss: 0.5094 - val_acc: 0.7594\n",
            "Epoch 65/100\n",
            "53/53 [==============================] - 52s 981ms/step - loss: 0.4683 - acc: 0.7657 - val_loss: 0.5076 - val_acc: 0.7461\n",
            "Epoch 66/100\n",
            "53/53 [==============================] - 52s 985ms/step - loss: 0.4660 - acc: 0.7687 - val_loss: 0.4886 - val_acc: 0.7649\n",
            "Epoch 67/100\n",
            "53/53 [==============================] - 52s 985ms/step - loss: 0.4703 - acc: 0.7714 - val_loss: 0.4965 - val_acc: 0.7508\n",
            "Epoch 68/100\n",
            "53/53 [==============================] - 52s 984ms/step - loss: 0.4635 - acc: 0.7712 - val_loss: 0.5180 - val_acc: 0.7469\n",
            "Epoch 69/100\n",
            "53/53 [==============================] - 52s 984ms/step - loss: 0.4640 - acc: 0.7693 - val_loss: 0.4993 - val_acc: 0.7531\n",
            "Epoch 70/100\n",
            "53/53 [==============================] - 52s 982ms/step - loss: 0.4633 - acc: 0.7685 - val_loss: 0.4906 - val_acc: 0.7586\n",
            "Epoch 71/100\n",
            "53/53 [==============================] - 52s 984ms/step - loss: 0.4634 - acc: 0.7632 - val_loss: 0.5106 - val_acc: 0.7665\n",
            "Epoch 72/100\n",
            "53/53 [==============================] - 52s 984ms/step - loss: 0.4571 - acc: 0.7757 - val_loss: 0.5359 - val_acc: 0.7594\n",
            "Epoch 73/100\n",
            "53/53 [==============================] - 52s 980ms/step - loss: 0.4679 - acc: 0.7622 - val_loss: 0.5173 - val_acc: 0.7571\n",
            "Epoch 74/100\n",
            "53/53 [==============================] - 52s 979ms/step - loss: 0.4598 - acc: 0.7732 - val_loss: 0.4808 - val_acc: 0.7642\n",
            "Epoch 75/100\n",
            "53/53 [==============================] - 52s 985ms/step - loss: 0.4555 - acc: 0.7702 - val_loss: 0.5022 - val_acc: 0.7594\n",
            "Epoch 76/100\n",
            "53/53 [==============================] - 52s 982ms/step - loss: 0.4583 - acc: 0.7714 - val_loss: 0.4989 - val_acc: 0.7626\n",
            "Epoch 77/100\n",
            "53/53 [==============================] - 52s 985ms/step - loss: 0.4603 - acc: 0.7734 - val_loss: 0.4979 - val_acc: 0.7586\n",
            "Epoch 78/100\n",
            "53/53 [==============================] - 52s 983ms/step - loss: 0.4625 - acc: 0.7628 - val_loss: 0.5071 - val_acc: 0.7586\n",
            "Epoch 79/100\n",
            "53/53 [==============================] - 52s 982ms/step - loss: 0.4478 - acc: 0.7763 - val_loss: 0.5220 - val_acc: 0.7547\n",
            "Epoch 80/100\n",
            "53/53 [==============================] - 52s 983ms/step - loss: 0.4560 - acc: 0.7699 - val_loss: 0.5317 - val_acc: 0.7469\n",
            "Epoch 81/100\n",
            "53/53 [==============================] - 52s 982ms/step - loss: 0.4510 - acc: 0.7793 - val_loss: 0.5424 - val_acc: 0.7626\n",
            "Epoch 82/100\n",
            "53/53 [==============================] - 52s 984ms/step - loss: 0.4512 - acc: 0.7763 - val_loss: 0.5193 - val_acc: 0.7469\n",
            "Epoch 83/100\n",
            "53/53 [==============================] - 52s 983ms/step - loss: 0.4586 - acc: 0.7726 - val_loss: 0.5250 - val_acc: 0.7586\n",
            "Epoch 84/100\n",
            "53/53 [==============================] - 52s 983ms/step - loss: 0.4481 - acc: 0.7752 - val_loss: 0.5013 - val_acc: 0.7602\n",
            "Epoch 85/100\n",
            "53/53 [==============================] - 52s 983ms/step - loss: 0.4551 - acc: 0.7702 - val_loss: 0.4885 - val_acc: 0.7492\n",
            "Epoch 86/100\n",
            "53/53 [==============================] - 52s 983ms/step - loss: 0.4478 - acc: 0.7767 - val_loss: 0.5074 - val_acc: 0.7618\n",
            "Epoch 87/100\n",
            "53/53 [==============================] - 52s 984ms/step - loss: 0.4485 - acc: 0.7775 - val_loss: 0.5142 - val_acc: 0.7634\n",
            "Epoch 88/100\n",
            "53/53 [==============================] - 52s 981ms/step - loss: 0.4376 - acc: 0.7905 - val_loss: 0.5087 - val_acc: 0.7649\n",
            "Epoch 89/100\n",
            "53/53 [==============================] - 52s 979ms/step - loss: 0.4556 - acc: 0.7730 - val_loss: 0.5194 - val_acc: 0.7689\n",
            "Epoch 90/100\n",
            "53/53 [==============================] - 52s 980ms/step - loss: 0.4453 - acc: 0.7789 - val_loss: 0.4923 - val_acc: 0.7461\n",
            "Epoch 91/100\n",
            "53/53 [==============================] - 52s 979ms/step - loss: 0.4479 - acc: 0.7791 - val_loss: 0.5173 - val_acc: 0.7571\n",
            "Epoch 92/100\n",
            "53/53 [==============================] - 52s 980ms/step - loss: 0.4391 - acc: 0.7793 - val_loss: 0.5178 - val_acc: 0.7579\n",
            "Epoch 93/100\n",
            "53/53 [==============================] - 52s 981ms/step - loss: 0.4395 - acc: 0.7854 - val_loss: 0.4835 - val_acc: 0.7642\n",
            "Epoch 94/100\n",
            "53/53 [==============================] - 52s 980ms/step - loss: 0.4403 - acc: 0.7840 - val_loss: 0.4843 - val_acc: 0.7618\n",
            "Epoch 95/100\n",
            "53/53 [==============================] - 52s 980ms/step - loss: 0.4401 - acc: 0.7822 - val_loss: 0.5086 - val_acc: 0.7704\n",
            "Epoch 96/100\n",
            "53/53 [==============================] - 52s 980ms/step - loss: 0.4497 - acc: 0.7781 - val_loss: 0.4824 - val_acc: 0.7830\n",
            "Epoch 97/100\n",
            "53/53 [==============================] - 52s 979ms/step - loss: 0.4478 - acc: 0.7793 - val_loss: 0.5121 - val_acc: 0.7618\n",
            "Epoch 98/100\n",
            "53/53 [==============================] - 52s 980ms/step - loss: 0.4419 - acc: 0.7787 - val_loss: 0.5371 - val_acc: 0.7704\n",
            "Epoch 99/100\n",
            "53/53 [==============================] - 52s 979ms/step - loss: 0.4435 - acc: 0.7805 - val_loss: 0.4934 - val_acc: 0.7626\n",
            "Epoch 100/100\n",
            "53/53 [==============================] - 52s 979ms/step - loss: 0.4402 - acc: 0.7850 - val_loss: 0.5024 - val_acc: 0.7453\n"
          ],
          "name": "stdout"
        }
      ]
    },
    {
      "cell_type": "code",
      "metadata": {
        "id": "WYVopmW23_n-",
        "colab_type": "code",
        "outputId": "747d6142-31b9-42b0-f30a-bf0a8ddea388",
        "colab": {
          "base_uri": "https://localhost:8080/",
          "height": 294
        }
      },
      "source": [
        "# Plot training & validation accuracy values\n",
        "plt.plot(H.history['acc'])\n",
        "plt.plot(H.history['val_acc'])\n",
        "plt.title('Model accuracy')\n",
        "plt.ylabel('Accuracy')\n",
        "plt.xlabel('Epoch')\n",
        "plt.legend(['Train', 'Test'], loc='upper left')\n",
        "plt.show()"
      ],
      "execution_count": 0,
      "outputs": [
        {
          "output_type": "display_data",
          "data": {
            "image/png": "[encoded data removed]",
            "text/plain": [
              "<Figure size 432x288 with 1 Axes>"
            ]
          },
          "metadata": {
            "tags": []
          }
        }
      ]
    },
    {
      "cell_type": "code",
      "metadata": {
        "id": "KBQ_RipkQDlI",
        "colab_type": "code",
        "outputId": "a9f5e78d-0a63-4ea3-9cde-f141ede89854",
        "colab": {
          "base_uri": "https://localhost:8080/",
          "height": 294
        }
      },
      "source": [
        "# Plot training & validation loss values\n",
        "plt.plot(H.history['loss'])\n",
        "plt.plot(H.history['val_loss'])\n",
        "plt.title('Model loss')\n",
        "plt.ylabel('Loss')\n",
        "plt.xlabel('Epoch')\n",
        "plt.legend(['Train', 'Test'], loc='upper left')\n",
        "plt.show()"
      ],
      "execution_count": 0,
      "outputs": [
        {
          "output_type": "display_data",
          "data": {
            "image/png": "[encoded data removed]",
            "text/plain": [
              "<Figure size 432x288 with 1 Axes>"
            ]
          },
          "metadata": {
            "tags": []
          }
        }
      ]
    },
    {
      "cell_type": "code",
      "metadata": {
        "id": "iv2IPtizT0ge",
        "colab_type": "code",
        "outputId": "967efbbc-785b-4583-ae22-7a60f1eab712",
        "colab": {
          "base_uri": "https://localhost:8080/",
          "height": 34
        }
      },
      "source": [
        "H.history['val_acc'][np.argmin(H.history['val_loss'])]"
      ],
      "execution_count": 0,
      "outputs": [
        {
          "output_type": "execute_result",
          "data": {
            "text/plain": [
              "0.7641509636393133"
            ]
          },
          "metadata": {
            "tags": []
          },
          "execution_count": 51
        }
      ]
    },
    {
      "cell_type": "markdown",
      "metadata": {
        "colab_type": "text",
        "id": "D56M2ge-Sa9-"
      },
      "source": [
        "# Resluts of training on spectres of blurred images"
      ]
    },
    {
      "cell_type": "code",
      "metadata": {
        "colab_type": "code",
        "outputId": "53a11cc7-8395-40bd-d6f0-3b1727fff1ad",
        "id": "UTm7UI35SaDR",
        "colab": {
          "base_uri": "https://localhost:8080/",
          "height": 1000
        }
      },
      "source": [
        "H=resnet50_model.fit_generator(\n",
        "        train_generator,\n",
        "        steps_per_epoch=math.ceil(len(train_df) / BS),\n",
        "        epochs=EPOCHS,\n",
        "        validation_data=validation_generator,\n",
        "        validation_steps=math.ceil(len(valid_df) / BS),\n",
        "        verbose=1,\n",
        "        callbacks = callbacks_list)"
      ],
      "execution_count": 0,
      "outputs": [
        {
          "output_type": "stream",
          "text": [
            "Epoch 1/100\n",
            "71/71 [==============================] - 727s 10s/step - loss: 0.6652 - acc: 0.6592 - val_loss: 0.5898 - val_acc: 0.7359\n",
            "\n",
            "Epoch 00001: val_acc improved from -inf to 0.73587, saving model to /content/drive/My Drive/Datasets/Dataset_of_spectres_of_blurred_images/weights-resnet50-blur-classification-01-0.74.hdf5\n",
            "Epoch 2/100\n",
            "71/71 [==============================] - 66s 937ms/step - loss: 0.5163 - acc: 0.7373 - val_loss: 0.4758 - val_acc: 0.7911\n",
            "\n",
            "Epoch 00002: val_acc improved from 0.73587 to 0.79108, saving model to /content/drive/My Drive/Datasets/Dataset_of_spectres_of_blurred_images/weights-resnet50-blur-classification-02-0.79.hdf5\n",
            "Epoch 3/100\n",
            "71/71 [==============================] - 67s 941ms/step - loss: 0.4415 - acc: 0.7945 - val_loss: 0.4321 - val_acc: 0.8043\n",
            "\n",
            "Epoch 00003: val_acc improved from 0.79108 to 0.80433, saving model to /content/drive/My Drive/Datasets/Dataset_of_spectres_of_blurred_images/weights-resnet50-blur-classification-03-0.80.hdf5\n",
            "Epoch 4/100\n",
            "71/71 [==============================] - 67s 942ms/step - loss: 0.3928 - acc: 0.8181 - val_loss: 0.4106 - val_acc: 0.8043\n",
            "\n",
            "Epoch 00004: val_acc improved from 0.80433 to 0.80433, saving model to /content/drive/My Drive/Datasets/Dataset_of_spectres_of_blurred_images/weights-resnet50-blur-classification-04-0.80.hdf5\n",
            "Epoch 5/100\n",
            "71/71 [==============================] - 67s 942ms/step - loss: 0.3621 - acc: 0.8286 - val_loss: 0.3773 - val_acc: 0.8176\n",
            "\n",
            "Epoch 00005: val_acc improved from 0.80433 to 0.81758, saving model to /content/drive/My Drive/Datasets/Dataset_of_spectres_of_blurred_images/weights-resnet50-blur-classification-05-0.82.hdf5\n",
            "Epoch 6/100\n",
            "71/71 [==============================] - 67s 943ms/step - loss: 0.3451 - acc: 0.8366 - val_loss: 0.3718 - val_acc: 0.8207\n",
            "\n",
            "Epoch 00006: val_acc improved from 0.81758 to 0.82067, saving model to /content/drive/My Drive/Datasets/Dataset_of_spectres_of_blurred_images/weights-resnet50-blur-classification-06-0.82.hdf5\n",
            "Epoch 7/100\n",
            "71/71 [==============================] - 67s 940ms/step - loss: 0.3355 - acc: 0.8411 - val_loss: 0.3726 - val_acc: 0.8220\n",
            "\n",
            "Epoch 00007: val_acc improved from 0.82067 to 0.82200, saving model to /content/drive/My Drive/Datasets/Dataset_of_spectres_of_blurred_images/weights-resnet50-blur-classification-07-0.82.hdf5\n",
            "Epoch 8/100\n",
            "71/71 [==============================] - 67s 940ms/step - loss: 0.3173 - acc: 0.8454 - val_loss: 0.3626 - val_acc: 0.8251\n",
            "\n",
            "Epoch 00008: val_acc improved from 0.82200 to 0.82509, saving model to /content/drive/My Drive/Datasets/Dataset_of_spectres_of_blurred_images/weights-resnet50-blur-classification-08-0.83.hdf5\n",
            "Epoch 9/100\n",
            "71/71 [==============================] - 67s 940ms/step - loss: 0.3092 - acc: 0.8470 - val_loss: 0.3668 - val_acc: 0.8105\n",
            "\n",
            "Epoch 00009: val_acc did not improve from 0.82509\n",
            "Epoch 10/100\n",
            "71/71 [==============================] - 67s 937ms/step - loss: 0.3035 - acc: 0.8532 - val_loss: 0.3719 - val_acc: 0.8083\n",
            "\n",
            "Epoch 00010: val_acc did not improve from 0.82509\n",
            "Epoch 11/100\n",
            "71/71 [==============================] - 67s 937ms/step - loss: 0.2991 - acc: 0.8539 - val_loss: 0.3697 - val_acc: 0.8171\n",
            "\n",
            "Epoch 00011: val_acc did not improve from 0.82509\n",
            "Epoch 12/100\n",
            "71/71 [==============================] - 67s 937ms/step - loss: 0.2858 - acc: 0.8601 - val_loss: 0.3797 - val_acc: 0.7999\n",
            "\n",
            "Epoch 00012: val_acc did not improve from 0.82509\n",
            "Epoch 13/100\n",
            "71/71 [==============================] - 67s 937ms/step - loss: 0.2819 - acc: 0.8659 - val_loss: 0.3800 - val_acc: 0.7986\n",
            "\n",
            "Epoch 00013: val_acc did not improve from 0.82509\n",
            "Epoch 14/100\n",
            "71/71 [==============================] - 67s 938ms/step - loss: 0.2790 - acc: 0.8709 - val_loss: 0.3955 - val_acc: 0.7906\n",
            "\n",
            "Epoch 00014: val_acc did not improve from 0.82509\n",
            "Epoch 15/100\n",
            "71/71 [==============================] - 66s 934ms/step - loss: 0.2745 - acc: 0.8667 - val_loss: 0.3992 - val_acc: 0.7920\n",
            "\n",
            "Epoch 00015: val_acc did not improve from 0.82509\n",
            "Epoch 16/100\n",
            "71/71 [==============================] - 66s 932ms/step - loss: 0.2676 - acc: 0.8691 - val_loss: 0.4246 - val_acc: 0.7783\n",
            "\n",
            "Epoch 00016: val_acc did not improve from 0.82509\n",
            "Epoch 17/100\n",
            "71/71 [==============================] - 66s 936ms/step - loss: 0.2604 - acc: 0.8761 - val_loss: 0.4301 - val_acc: 0.7792\n",
            "\n",
            "Epoch 00017: val_acc did not improve from 0.82509\n",
            "Epoch 18/100\n",
            "71/71 [==============================] - 67s 937ms/step - loss: 0.2612 - acc: 0.8739 - val_loss: 0.4428 - val_acc: 0.7747\n",
            "\n",
            "Epoch 00018: val_acc did not improve from 0.82509\n",
            "Epoch 19/100\n",
            "71/71 [==============================] - 66s 936ms/step - loss: 0.2605 - acc: 0.8755 - val_loss: 0.4624 - val_acc: 0.7708\n",
            "\n",
            "Epoch 00019: val_acc did not improve from 0.82509\n",
            "Epoch 20/100\n",
            "71/71 [==============================] - 66s 936ms/step - loss: 0.2547 - acc: 0.8767 - val_loss: 0.4989 - val_acc: 0.7606\n",
            "\n",
            "Epoch 00020: val_acc did not improve from 0.82509\n",
            "Epoch 21/100\n",
            "71/71 [==============================] - 66s 936ms/step - loss: 0.2524 - acc: 0.8817 - val_loss: 0.4609 - val_acc: 0.7747\n",
            "\n",
            "Epoch 00021: val_acc did not improve from 0.82509\n",
            "Epoch 22/100\n",
            "71/71 [==============================] - 66s 934ms/step - loss: 0.2510 - acc: 0.8794 - val_loss: 0.4920 - val_acc: 0.7637\n",
            "\n",
            "Epoch 00022: val_acc did not improve from 0.82509\n",
            "Epoch 23/100\n",
            "71/71 [==============================] - 66s 935ms/step - loss: 0.2508 - acc: 0.8806 - val_loss: 0.4980 - val_acc: 0.7668\n",
            "\n",
            "Epoch 00023: val_acc did not improve from 0.82509\n",
            "Epoch 24/100\n",
            "71/71 [==============================] - 66s 936ms/step - loss: 0.2443 - acc: 0.8840 - val_loss: 0.5097 - val_acc: 0.7677\n",
            "\n",
            "Epoch 00024: val_acc did not improve from 0.82509\n",
            "Epoch 25/100\n",
            "71/71 [==============================] - 66s 936ms/step - loss: 0.2437 - acc: 0.8862 - val_loss: 0.5446 - val_acc: 0.7624\n",
            "\n",
            "Epoch 00025: val_acc did not improve from 0.82509\n",
            "Epoch 26/100\n",
            "71/71 [==============================] - 66s 936ms/step - loss: 0.2432 - acc: 0.8858 - val_loss: 0.5613 - val_acc: 0.7659\n",
            "\n",
            "Epoch 00026: val_acc did not improve from 0.82509\n",
            "Epoch 27/100\n",
            "71/71 [==============================] - 67s 938ms/step - loss: 0.2439 - acc: 0.8860 - val_loss: 0.5487 - val_acc: 0.7619\n",
            "\n",
            "Epoch 00027: val_acc did not improve from 0.82509\n",
            "Epoch 28/100\n",
            "71/71 [==============================] - 67s 938ms/step - loss: 0.2432 - acc: 0.8870 - val_loss: 0.5743 - val_acc: 0.7584\n",
            "\n",
            "Epoch 00028: val_acc did not improve from 0.82509\n",
            "Epoch 29/100\n",
            "71/71 [==============================] - 67s 937ms/step - loss: 0.2408 - acc: 0.8903 - val_loss: 0.5429 - val_acc: 0.7659\n",
            "\n",
            "Epoch 00029: val_acc did not improve from 0.82509\n",
            "Epoch 30/100\n",
            "71/71 [==============================] - 66s 936ms/step - loss: 0.2364 - acc: 0.8905 - val_loss: 0.5201 - val_acc: 0.7721\n",
            "\n",
            "Epoch 00030: val_acc did not improve from 0.82509\n",
            "Epoch 31/100\n",
            "71/71 [==============================] - 67s 939ms/step - loss: 0.2343 - acc: 0.8907 - val_loss: 0.5563 - val_acc: 0.7690\n",
            "\n",
            "Epoch 00031: val_acc did not improve from 0.82509\n",
            "Epoch 32/100\n",
            "10/71 [===>..........................] - ETA: 53s - loss: 0.2564 - acc: 0.8828"
          ],
          "name": "stdout"
        }
      ]
    },
    {
      "cell_type": "code",
      "metadata": {
        "id": "uitezhj05FLP",
        "colab_type": "code",
        "outputId": "e4a1d35a-045f-43d9-b311-e06e81aa4459",
        "colab": {
          "base_uri": "https://localhost:8080/",
          "height": 294
        }
      },
      "source": [
        "# Plot training & validation accuracy values\n",
        "plt.plot(H.history['acc'])\n",
        "plt.plot(H.history['val_acc'])\n",
        "plt.title('Model accuracy')\n",
        "plt.ylabel('Accuracy')\n",
        "plt.xlabel('Epoch')\n",
        "plt.legend(['Train', 'Test'], loc='upper left')\n",
        "plt.show()"
      ],
      "execution_count": 0,
      "outputs": [
        {
          "output_type": "display_data",
          "data": {
            "image/png": "[encoded data removed]",
            "text/plain": [
              "<Figure size 432x288 with 1 Axes>"
            ]
          },
          "metadata": {
            "tags": []
          }
        }
      ]
    },
    {
      "cell_type": "code",
      "metadata": {
        "id": "EQYUuOo86b1F",
        "colab_type": "code",
        "outputId": "cd0df034-6dec-41a5-acc4-e6f4aed53d61",
        "colab": {
          "base_uri": "https://localhost:8080/",
          "height": 294
        }
      },
      "source": [
        "# Plot training & validation loss values\n",
        "plt.plot(H.history['loss'])\n",
        "plt.plot(H.history['val_loss'])\n",
        "plt.title('Model loss')\n",
        "plt.ylabel('Loss')\n",
        "plt.xlabel('Epoch')\n",
        "plt.legend(['Train', 'Test'], loc='upper left')\n",
        "plt.show()"
      ],
      "execution_count": 0,
      "outputs": [
        {
          "output_type": "display_data",
          "data": {
            "image/png": "[encoded data removed]",
            "text/plain": [
              "<Figure size 432x288 with 1 Axes>"
            ]
          },
          "metadata": {
            "tags": []
          }
        }
      ]
    },
    {
      "cell_type": "code",
      "metadata": {
        "id": "xgHbjo2tUTWW",
        "colab_type": "code",
        "outputId": "75f2cdde-a820-4f47-c716-8bd362b94ad8",
        "colab": {
          "base_uri": "https://localhost:8080/",
          "height": 34
        }
      },
      "source": [
        "np.max(H.history['val_acc'])"
      ],
      "execution_count": 0,
      "outputs": [
        {
          "output_type": "execute_result",
          "data": {
            "text/plain": [
              "0.8405477021271264"
            ]
          },
          "metadata": {
            "tags": []
          },
          "execution_count": 66
        }
      ]
    },
    {
      "cell_type": "markdown",
      "metadata": {
        "id": "794asHKdgc_e",
        "colab_type": "text"
      },
      "source": [
        "# Results of training on clear blur with log"
      ]
    },
    {
      "cell_type": "code",
      "metadata": {
        "id": "bfAt2Jjogig_",
        "colab_type": "code",
        "outputId": "526e554f-e299-4902-bd7d-871885865f7f",
        "colab": {
          "base_uri": "https://localhost:8080/",
          "height": 1000
        }
      },
      "source": [
        "H=resnet50_model.fit_generator(\n",
        "        train_generator,\n",
        "        steps_per_epoch=math.ceil(len(train_df) / BS),\n",
        "        epochs=EPOCHS,\n",
        "        validation_data=validation_generator,\n",
        "        validation_steps=math.ceil(len(valid_df) / BS),\n",
        "        verbose=1,\n",
        "        callbacks = callbacks_list)"
      ],
      "execution_count": 108,
      "outputs": [
        {
          "output_type": "stream",
          "text": [
            "Epoch 1/200\n",
            "4/4 [==============================] - 30s 8s/step - loss: 0.6479 - acc: 0.7409 - val_loss: 0.6308 - val_acc: 0.7456\n",
            "\n",
            "Epoch 00001: val_acc improved from -inf to 0.74561, saving model to /content/drive/My Drive/Datasets/Dataset_of_clear_blurs_with_log/weights-resnet50-blur-classification-01-0.75.hdf5\n",
            "Epoch 2/200\n",
            "4/4 [==============================] - 2s 405ms/step - loss: 0.4644 - acc: 0.7998 - val_loss: 0.6422 - val_acc: 0.7675\n",
            "\n",
            "Epoch 00002: val_acc improved from 0.74561 to 0.76754, saving model to /content/drive/My Drive/Datasets/Dataset_of_clear_blurs_with_log/weights-resnet50-blur-classification-02-0.77.hdf5\n",
            "Epoch 3/200\n",
            "4/4 [==============================] - 3s 802ms/step - loss: 0.3763 - acc: 0.8394 - val_loss: 0.5410 - val_acc: 0.7588\n",
            "\n",
            "Epoch 00003: val_acc did not improve from 0.76754\n",
            "Epoch 4/200\n",
            "4/4 [==============================] - 4s 877ms/step - loss: 0.3126 - acc: 0.8571 - val_loss: 0.4213 - val_acc: 0.8377\n",
            "\n",
            "Epoch 00004: val_acc improved from 0.76754 to 0.83772, saving model to /content/drive/My Drive/Datasets/Dataset_of_clear_blurs_with_log/weights-resnet50-blur-classification-04-0.84.hdf5\n",
            "Epoch 5/200\n",
            "4/4 [==============================] - 3s 761ms/step - loss: 0.3316 - acc: 0.8652 - val_loss: 0.4525 - val_acc: 0.8421\n",
            "\n",
            "Epoch 00005: val_acc improved from 0.83772 to 0.84211, saving model to /content/drive/My Drive/Datasets/Dataset_of_clear_blurs_with_log/weights-resnet50-blur-classification-05-0.84.hdf5\n",
            "Epoch 6/200\n",
            "4/4 [==============================] - 3s 756ms/step - loss: 0.2930 - acc: 0.8636 - val_loss: 0.3337 - val_acc: 0.8465\n",
            "\n",
            "Epoch 00006: val_acc improved from 0.84211 to 0.84649, saving model to /content/drive/My Drive/Datasets/Dataset_of_clear_blurs_with_log/weights-resnet50-blur-classification-06-0.85.hdf5\n",
            "Epoch 7/200\n",
            "4/4 [==============================] - 3s 809ms/step - loss: 0.2725 - acc: 0.8908 - val_loss: 0.4496 - val_acc: 0.8684\n",
            "\n",
            "Epoch 00007: val_acc improved from 0.84649 to 0.86842, saving model to /content/drive/My Drive/Datasets/Dataset_of_clear_blurs_with_log/weights-resnet50-blur-classification-07-0.87.hdf5\n",
            "Epoch 8/200\n",
            "4/4 [==============================] - 3s 770ms/step - loss: 0.2462 - acc: 0.8945 - val_loss: 0.4449 - val_acc: 0.8509\n",
            "\n",
            "Epoch 00008: val_acc did not improve from 0.86842\n",
            "Epoch 9/200\n",
            "4/4 [==============================] - 4s 929ms/step - loss: 0.2448 - acc: 0.8828 - val_loss: 0.4511 - val_acc: 0.8289\n",
            "\n",
            "Epoch 00009: val_acc did not improve from 0.86842\n",
            "Epoch 10/200\n",
            "4/4 [==============================] - 4s 1s/step - loss: 0.2377 - acc: 0.9089 - val_loss: 0.4029 - val_acc: 0.8684\n",
            "\n",
            "Epoch 00010: val_acc did not improve from 0.86842\n",
            "Epoch 11/200\n",
            "4/4 [==============================] - 4s 953ms/step - loss: 0.2184 - acc: 0.9038 - val_loss: 0.3815 - val_acc: 0.8728\n",
            "\n",
            "Epoch 00011: val_acc improved from 0.86842 to 0.87281, saving model to /content/drive/My Drive/Datasets/Dataset_of_clear_blurs_with_log/weights-resnet50-blur-classification-11-0.87.hdf5\n",
            "Epoch 12/200\n",
            "4/4 [==============================] - 4s 1s/step - loss: 0.1833 - acc: 0.9182 - val_loss: 0.3693 - val_acc: 0.8816\n",
            "\n",
            "Epoch 00012: val_acc improved from 0.87281 to 0.88158, saving model to /content/drive/My Drive/Datasets/Dataset_of_clear_blurs_with_log/weights-resnet50-blur-classification-12-0.88.hdf5\n",
            "Epoch 13/200\n",
            "4/4 [==============================] - 9s 2s/step - loss: 0.1730 - acc: 0.9322 - val_loss: 0.3631 - val_acc: 0.8904\n",
            "\n",
            "Epoch 00013: val_acc improved from 0.88158 to 0.89035, saving model to /content/drive/My Drive/Datasets/Dataset_of_clear_blurs_with_log/weights-resnet50-blur-classification-13-0.89.hdf5\n",
            "Epoch 14/200\n",
            "4/4 [==============================] - 3s 808ms/step - loss: 0.1685 - acc: 0.9323 - val_loss: 0.3619 - val_acc: 0.8904\n",
            "\n",
            "Epoch 00014: val_acc did not improve from 0.89035\n",
            "Epoch 15/200\n",
            "4/4 [==============================] - 3s 870ms/step - loss: 0.1722 - acc: 0.9350 - val_loss: 0.3510 - val_acc: 0.8860\n",
            "\n",
            "Epoch 00015: val_acc did not improve from 0.89035\n",
            "Epoch 16/200\n",
            "4/4 [==============================] - 4s 916ms/step - loss: 0.1633 - acc: 0.9477 - val_loss: 0.3291 - val_acc: 0.8947\n",
            "\n",
            "Epoch 00016: val_acc improved from 0.89035 to 0.89474, saving model to /content/drive/My Drive/Datasets/Dataset_of_clear_blurs_with_log/weights-resnet50-blur-classification-16-0.89.hdf5\n",
            "Epoch 17/200\n",
            "4/4 [==============================] - 3s 742ms/step - loss: 0.1629 - acc: 0.9407 - val_loss: 0.3017 - val_acc: 0.9167\n",
            "\n",
            "Epoch 00017: val_acc improved from 0.89474 to 0.91667, saving model to /content/drive/My Drive/Datasets/Dataset_of_clear_blurs_with_log/weights-resnet50-blur-classification-17-0.92.hdf5\n",
            "Epoch 18/200\n",
            "4/4 [==============================] - 3s 829ms/step - loss: 0.1688 - acc: 0.9471 - val_loss: 0.3265 - val_acc: 0.9035\n",
            "\n",
            "Epoch 00018: val_acc did not improve from 0.91667\n",
            "Epoch 19/200\n",
            "4/4 [==============================] - 4s 986ms/step - loss: 0.1615 - acc: 0.9424 - val_loss: 0.1655 - val_acc: 0.9298\n",
            "\n",
            "Epoch 00019: val_acc improved from 0.91667 to 0.92982, saving model to /content/drive/My Drive/Datasets/Dataset_of_clear_blurs_with_log/weights-resnet50-blur-classification-19-0.93.hdf5\n",
            "Epoch 20/200\n",
            "4/4 [==============================] - 3s 777ms/step - loss: 0.1501 - acc: 0.9400 - val_loss: 0.3080 - val_acc: 0.9167\n",
            "\n",
            "Epoch 00020: val_acc did not improve from 0.92982\n",
            "Epoch 21/200\n",
            "4/4 [==============================] - 3s 872ms/step - loss: 0.1189 - acc: 0.9702 - val_loss: 0.1817 - val_acc: 0.9167\n",
            "\n",
            "Epoch 00021: val_acc did not improve from 0.92982\n",
            "Epoch 22/200\n",
            "4/4 [==============================] - 4s 921ms/step - loss: 0.1407 - acc: 0.9493 - val_loss: 0.1573 - val_acc: 0.9474\n",
            "\n",
            "Epoch 00022: val_acc improved from 0.92982 to 0.94737, saving model to /content/drive/My Drive/Datasets/Dataset_of_clear_blurs_with_log/weights-resnet50-blur-classification-22-0.95.hdf5\n",
            "Epoch 23/200\n",
            "4/4 [==============================] - 3s 744ms/step - loss: 0.1198 - acc: 0.9594 - val_loss: 0.1516 - val_acc: 0.9474\n",
            "\n",
            "Epoch 00023: val_acc did not improve from 0.94737\n",
            "Epoch 24/200\n",
            "4/4 [==============================] - 4s 889ms/step - loss: 0.1285 - acc: 0.9608 - val_loss: 0.3063 - val_acc: 0.9211\n",
            "\n",
            "Epoch 00024: val_acc did not improve from 0.94737\n",
            "Epoch 25/200\n",
            "4/4 [==============================] - 4s 911ms/step - loss: 0.1086 - acc: 0.9709 - val_loss: 0.1475 - val_acc: 0.9561\n",
            "\n",
            "Epoch 00025: val_acc improved from 0.94737 to 0.95614, saving model to /content/drive/My Drive/Datasets/Dataset_of_clear_blurs_with_log/weights-resnet50-blur-classification-25-0.96.hdf5\n",
            "Epoch 26/200\n",
            "4/4 [==============================] - 3s 778ms/step - loss: 0.1078 - acc: 0.9504 - val_loss: 0.1360 - val_acc: 0.9693\n",
            "\n",
            "Epoch 00026: val_acc improved from 0.95614 to 0.96930, saving model to /content/drive/My Drive/Datasets/Dataset_of_clear_blurs_with_log/weights-resnet50-blur-classification-26-0.97.hdf5\n",
            "Epoch 27/200\n",
            "4/4 [==============================] - 3s 828ms/step - loss: 0.0907 - acc: 0.9648 - val_loss: 0.1223 - val_acc: 0.9825\n",
            "\n",
            "Epoch 00027: val_acc improved from 0.96930 to 0.98246, saving model to /content/drive/My Drive/Datasets/Dataset_of_clear_blurs_with_log/weights-resnet50-blur-classification-27-0.98.hdf5\n",
            "Epoch 28/200\n",
            "4/4 [==============================] - 3s 851ms/step - loss: 0.0912 - acc: 0.9698 - val_loss: 0.1274 - val_acc: 0.9561\n",
            "\n",
            "Epoch 00028: val_acc did not improve from 0.98246\n",
            "Epoch 29/200\n",
            "4/4 [==============================] - 4s 964ms/step - loss: 0.1008 - acc: 0.9736 - val_loss: 0.2282 - val_acc: 0.9474\n",
            "\n",
            "Epoch 00029: val_acc did not improve from 0.98246\n",
            "Epoch 30/200\n",
            "4/4 [==============================] - 4s 959ms/step - loss: 0.1063 - acc: 0.9692 - val_loss: 0.2752 - val_acc: 0.9474\n",
            "\n",
            "Epoch 00030: val_acc did not improve from 0.98246\n",
            "Epoch 31/200\n",
            "4/4 [==============================] - 3s 865ms/step - loss: 0.1097 - acc: 0.9671 - val_loss: 0.1072 - val_acc: 0.9825\n",
            "\n",
            "Epoch 00031: val_acc did not improve from 0.98246\n",
            "Epoch 32/200\n",
            "4/4 [==============================] - 4s 900ms/step - loss: 0.0989 - acc: 0.9608 - val_loss: 0.1124 - val_acc: 0.9605\n",
            "\n",
            "Epoch 00032: val_acc did not improve from 0.98246\n",
            "Epoch 33/200\n",
            "4/4 [==============================] - 3s 858ms/step - loss: 0.0985 - acc: 0.9751 - val_loss: 0.1030 - val_acc: 0.9693\n",
            "\n",
            "Epoch 00033: val_acc did not improve from 0.98246\n",
            "Epoch 34/200\n",
            "4/4 [==============================] - 4s 895ms/step - loss: 0.0959 - acc: 0.9608 - val_loss: 0.1126 - val_acc: 0.9649\n",
            "\n",
            "Epoch 00034: val_acc did not improve from 0.98246\n",
            "Epoch 35/200\n",
            "4/4 [==============================] - 3s 864ms/step - loss: 0.0917 - acc: 0.9746 - val_loss: 0.2303 - val_acc: 0.9518\n",
            "\n",
            "Epoch 00035: val_acc did not improve from 0.98246\n",
            "Epoch 36/200\n",
            "4/4 [==============================] - 3s 871ms/step - loss: 0.0936 - acc: 0.9692 - val_loss: 0.1172 - val_acc: 0.9386\n",
            "\n",
            "Epoch 00036: val_acc did not improve from 0.98246\n",
            "Epoch 37/200\n",
            "4/4 [==============================] - 4s 876ms/step - loss: 0.0794 - acc: 0.9706 - val_loss: 0.1099 - val_acc: 0.9518\n",
            "\n",
            "Epoch 00037: val_acc did not improve from 0.98246\n",
            "Epoch 38/200\n",
            "4/4 [==============================] - 3s 871ms/step - loss: 0.0752 - acc: 0.9685 - val_loss: 0.0974 - val_acc: 0.9605\n",
            "\n",
            "Epoch 00038: val_acc did not improve from 0.98246\n",
            "Epoch 39/200\n",
            "4/4 [==============================] - 3s 854ms/step - loss: 0.0773 - acc: 0.9758 - val_loss: 0.1035 - val_acc: 0.9649\n",
            "\n",
            "Epoch 00039: val_acc did not improve from 0.98246\n",
            "Epoch 40/200\n",
            "4/4 [==============================] - 3s 875ms/step - loss: 0.0900 - acc: 0.9628 - val_loss: 0.1202 - val_acc: 0.9518\n",
            "\n",
            "Epoch 00040: val_acc did not improve from 0.98246\n",
            "Epoch 41/200\n",
            "4/4 [==============================] - 3s 859ms/step - loss: 0.0952 - acc: 0.9662 - val_loss: 0.1124 - val_acc: 0.9474\n",
            "\n",
            "Epoch 00041: val_acc did not improve from 0.98246\n",
            "Epoch 42/200\n",
            "4/4 [==============================] - 3s 874ms/step - loss: 0.0715 - acc: 0.9665 - val_loss: 0.1366 - val_acc: 0.9211\n",
            "\n",
            "Epoch 00042: val_acc did not improve from 0.98246\n",
            "Epoch 43/200\n",
            "4/4 [==============================] - 3s 833ms/step - loss: 0.1030 - acc: 0.9768 - val_loss: 0.1442 - val_acc: 0.9123\n",
            "\n",
            "Epoch 00043: val_acc did not improve from 0.98246\n",
            "Epoch 44/200\n",
            "4/4 [==============================] - 4s 898ms/step - loss: 0.0735 - acc: 0.9789 - val_loss: 0.1066 - val_acc: 0.9561\n",
            "\n",
            "Epoch 00044: val_acc did not improve from 0.98246\n",
            "Epoch 45/200\n",
            "4/4 [==============================] - 3s 858ms/step - loss: 0.0730 - acc: 0.9860 - val_loss: 0.0957 - val_acc: 0.9737\n",
            "\n",
            "Epoch 00045: val_acc did not improve from 0.98246\n",
            "Epoch 46/200\n",
            "4/4 [==============================] - 4s 896ms/step - loss: 0.0670 - acc: 0.9769 - val_loss: 0.0902 - val_acc: 0.9430\n",
            "\n",
            "Epoch 00046: val_acc did not improve from 0.98246\n",
            "Epoch 47/200\n",
            "4/4 [==============================] - 3s 861ms/step - loss: 0.0781 - acc: 0.9724 - val_loss: 0.0787 - val_acc: 0.9693\n",
            "\n",
            "Epoch 00047: val_acc did not improve from 0.98246\n",
            "Epoch 48/200\n",
            "4/4 [==============================] - 3s 862ms/step - loss: 0.0583 - acc: 0.9806 - val_loss: 0.0714 - val_acc: 0.9825\n",
            "\n",
            "Epoch 00048: val_acc did not improve from 0.98246\n",
            "Epoch 49/200\n",
            "4/4 [==============================] - 3s 852ms/step - loss: 0.0745 - acc: 0.9788 - val_loss: 0.0722 - val_acc: 0.9781\n",
            "\n",
            "Epoch 00049: val_acc did not improve from 0.98246\n",
            "Epoch 50/200\n",
            "4/4 [==============================] - 4s 903ms/step - loss: 0.0561 - acc: 0.9880 - val_loss: 0.1003 - val_acc: 0.9298\n",
            "\n",
            "Epoch 00050: val_acc did not improve from 0.98246\n",
            "Epoch 51/200\n",
            "4/4 [==============================] - 4s 891ms/step - loss: 0.0593 - acc: 0.9852 - val_loss: 0.0801 - val_acc: 0.9649\n",
            "\n",
            "Epoch 00051: val_acc did not improve from 0.98246\n",
            "Epoch 52/200\n",
            "4/4 [==============================] - 3s 838ms/step - loss: 0.0579 - acc: 0.9836 - val_loss: 0.0887 - val_acc: 0.9605\n",
            "\n",
            "Epoch 00052: val_acc did not improve from 0.98246\n",
            "Epoch 53/200\n",
            "4/4 [==============================] - 4s 886ms/step - loss: 0.0682 - acc: 0.9786 - val_loss: 0.1058 - val_acc: 0.9474\n",
            "\n",
            "Epoch 00053: val_acc did not improve from 0.98246\n",
            "Epoch 54/200\n",
            "4/4 [==============================] - 3s 843ms/step - loss: 0.0482 - acc: 0.9826 - val_loss: 0.1285 - val_acc: 0.9342\n",
            "\n",
            "Epoch 00054: val_acc did not improve from 0.98246\n",
            "Epoch 55/200\n",
            "4/4 [==============================] - 3s 867ms/step - loss: 0.0501 - acc: 0.9900 - val_loss: 0.1194 - val_acc: 0.9386\n",
            "\n",
            "Epoch 00055: val_acc did not improve from 0.98246\n",
            "Epoch 56/200\n",
            "4/4 [==============================] - 3s 863ms/step - loss: 0.0385 - acc: 0.9886 - val_loss: 0.1372 - val_acc: 0.9211\n",
            "\n",
            "Epoch 00056: val_acc did not improve from 0.98246\n",
            "Epoch 57/200\n",
            "4/4 [==============================] - 4s 877ms/step - loss: 0.0373 - acc: 0.9886 - val_loss: 0.1737 - val_acc: 0.9167\n",
            "\n",
            "Epoch 00057: val_acc did not improve from 0.98246\n",
            "Epoch 58/200\n",
            "4/4 [==============================] - 4s 891ms/step - loss: 0.0574 - acc: 0.9812 - val_loss: 0.1533 - val_acc: 0.9254\n",
            "\n",
            "Epoch 00058: val_acc did not improve from 0.98246\n",
            "Epoch 59/200\n",
            "4/4 [==============================] - 4s 878ms/step - loss: 0.0377 - acc: 0.9886 - val_loss: 0.1784 - val_acc: 0.9211\n",
            "\n",
            "Epoch 00059: val_acc did not improve from 0.98246\n",
            "Epoch 60/200\n",
            "4/4 [==============================] - 3s 873ms/step - loss: 0.0425 - acc: 0.9866 - val_loss: 0.1551 - val_acc: 0.9167\n",
            "\n",
            "Epoch 00060: val_acc did not improve from 0.98246\n",
            "Epoch 61/200\n",
            "4/4 [==============================] - 4s 875ms/step - loss: 0.0373 - acc: 0.9920 - val_loss: 0.1894 - val_acc: 0.8947\n",
            "\n",
            "Epoch 00061: val_acc did not improve from 0.98246\n",
            "Epoch 62/200\n",
            "4/4 [==============================] - 3s 858ms/step - loss: 0.0384 - acc: 0.9910 - val_loss: 0.1807 - val_acc: 0.9035\n",
            "\n",
            "Epoch 00062: val_acc did not improve from 0.98246\n",
            "Epoch 63/200\n",
            "4/4 [==============================] - 3s 842ms/step - loss: 0.0418 - acc: 0.9856 - val_loss: 0.1693 - val_acc: 0.9035\n",
            "\n",
            "Epoch 00063: val_acc did not improve from 0.98246\n",
            "Epoch 64/200\n",
            "4/4 [==============================] - 4s 893ms/step - loss: 0.0398 - acc: 0.9832 - val_loss: 0.1358 - val_acc: 0.9298\n",
            "\n",
            "Epoch 00064: val_acc did not improve from 0.98246\n",
            "Epoch 65/200\n",
            "4/4 [==============================] - 3s 868ms/step - loss: 0.0738 - acc: 0.9826 - val_loss: 0.1444 - val_acc: 0.9386\n",
            "\n",
            "Epoch 00065: val_acc did not improve from 0.98246\n",
            "Epoch 66/200\n",
            "4/4 [==============================] - 3s 870ms/step - loss: 0.0441 - acc: 0.9820 - val_loss: 0.1699 - val_acc: 0.9211\n",
            "\n",
            "Epoch 00066: val_acc did not improve from 0.98246\n",
            "Epoch 67/200\n",
            "4/4 [==============================] - 3s 828ms/step - loss: 0.0530 - acc: 0.9806 - val_loss: 0.2752 - val_acc: 0.9167\n",
            "\n",
            "Epoch 00067: val_acc did not improve from 0.98246\n",
            "Epoch 68/200\n",
            "4/4 [==============================] - 4s 911ms/step - loss: 0.0574 - acc: 0.9792 - val_loss: 0.1987 - val_acc: 0.9079\n",
            "\n",
            "Epoch 00068: val_acc did not improve from 0.98246\n",
            "Epoch 69/200\n",
            "4/4 [==============================] - 3s 856ms/step - loss: 0.0394 - acc: 0.9930 - val_loss: 0.1934 - val_acc: 0.9123\n",
            "\n",
            "Epoch 00069: val_acc did not improve from 0.98246\n",
            "Epoch 70/200\n",
            "4/4 [==============================] - 3s 868ms/step - loss: 0.0328 - acc: 0.9860 - val_loss: 0.2781 - val_acc: 0.9211\n",
            "\n",
            "Epoch 00070: val_acc did not improve from 0.98246\n",
            "Epoch 71/200\n",
            "4/4 [==============================] - 3s 855ms/step - loss: 0.0419 - acc: 0.9920 - val_loss: 0.2101 - val_acc: 0.9079\n",
            "\n",
            "Epoch 00071: val_acc did not improve from 0.98246\n",
            "Epoch 72/200\n",
            "4/4 [==============================] - 4s 892ms/step - loss: 0.0453 - acc: 0.9846 - val_loss: 0.2742 - val_acc: 0.9123\n",
            "\n",
            "Epoch 00072: val_acc did not improve from 0.98246\n",
            "Epoch 73/200\n",
            "4/4 [==============================] - 3s 867ms/step - loss: 0.0334 - acc: 0.9872 - val_loss: 0.2020 - val_acc: 0.9079\n",
            "\n",
            "Epoch 00073: val_acc did not improve from 0.98246\n",
            "Epoch 74/200\n",
            "4/4 [==============================] - 4s 876ms/step - loss: 0.0477 - acc: 0.9886 - val_loss: 0.1926 - val_acc: 0.9211\n",
            "\n",
            "Epoch 00074: val_acc did not improve from 0.98246\n",
            "Epoch 75/200\n",
            "4/4 [==============================] - 3s 835ms/step - loss: 0.0593 - acc: 0.9764 - val_loss: 0.2692 - val_acc: 0.9298\n",
            "\n",
            "Epoch 00075: val_acc did not improve from 0.98246\n",
            "Epoch 76/200\n",
            "4/4 [==============================] - 4s 900ms/step - loss: 0.0665 - acc: 0.9712 - val_loss: 0.2360 - val_acc: 0.9474\n",
            "\n",
            "Epoch 00076: val_acc did not improve from 0.98246\n",
            "Epoch 77/200\n",
            "4/4 [==============================] - 3s 873ms/step - loss: 0.0331 - acc: 0.9940 - val_loss: 0.0961 - val_acc: 0.9386\n",
            "\n",
            "Epoch 00077: val_acc did not improve from 0.98246\n",
            "Epoch 78/200\n",
            "4/4 [==============================] - 3s 827ms/step - loss: 0.0461 - acc: 0.9923 - val_loss: 0.0703 - val_acc: 0.9605\n",
            "\n",
            "Epoch 00078: val_acc did not improve from 0.98246\n",
            "Epoch 79/200\n",
            "4/4 [==============================] - 4s 890ms/step - loss: 0.0471 - acc: 0.9860 - val_loss: 0.1859 - val_acc: 0.9868\n",
            "\n",
            "Epoch 00079: val_acc improved from 0.98246 to 0.98684, saving model to /content/drive/My Drive/Datasets/Dataset_of_clear_blurs_with_log/weights-resnet50-blur-classification-79-0.99.hdf5\n",
            "Epoch 80/200\n",
            "4/4 [==============================] - 3s 740ms/step - loss: 0.0422 - acc: 0.9900 - val_loss: 0.1905 - val_acc: 0.9868\n",
            "\n",
            "Epoch 00080: val_acc did not improve from 0.98684\n",
            "Epoch 81/200\n",
            "4/4 [==============================] - 3s 856ms/step - loss: 0.0305 - acc: 0.9960 - val_loss: 0.1430 - val_acc: 0.9868\n",
            "\n",
            "Epoch 00081: val_acc did not improve from 0.98684\n",
            "Epoch 82/200\n",
            "4/4 [==============================] - 4s 961ms/step - loss: 0.0775 - acc: 0.9716 - val_loss: 0.0464 - val_acc: 0.9956\n",
            "\n",
            "Epoch 00082: val_acc improved from 0.98684 to 0.99561, saving model to /content/drive/My Drive/Datasets/Dataset_of_clear_blurs_with_log/weights-resnet50-blur-classification-82-1.00.hdf5\n",
            "Epoch 83/200\n",
            "4/4 [==============================] - 3s 764ms/step - loss: 0.0311 - acc: 0.9940 - val_loss: 0.2009 - val_acc: 0.9737\n",
            "\n",
            "Epoch 00083: val_acc did not improve from 0.99561\n",
            "Epoch 84/200\n",
            "4/4 [==============================] - 4s 881ms/step - loss: 0.0652 - acc: 0.9805 - val_loss: 0.1974 - val_acc: 0.9781\n",
            "\n",
            "Epoch 00084: val_acc did not improve from 0.99561\n",
            "Epoch 85/200\n",
            "4/4 [==============================] - 4s 946ms/step - loss: 0.0423 - acc: 0.9846 - val_loss: 0.1549 - val_acc: 0.9868\n",
            "\n",
            "Epoch 00085: val_acc did not improve from 0.99561\n",
            "Epoch 86/200\n",
            "4/4 [==============================] - 4s 915ms/step - loss: 0.0293 - acc: 0.9926 - val_loss: 0.1869 - val_acc: 0.9912\n",
            "\n",
            "Epoch 00086: val_acc did not improve from 0.99561\n",
            "Epoch 87/200\n",
            "4/4 [==============================] - 3s 867ms/step - loss: 0.0431 - acc: 0.9818 - val_loss: 0.1908 - val_acc: 0.9737\n",
            "\n",
            "Epoch 00087: val_acc did not improve from 0.99561\n",
            "Epoch 88/200\n",
            "4/4 [==============================] - 3s 853ms/step - loss: 0.0366 - acc: 0.9920 - val_loss: 0.1831 - val_acc: 0.9825\n",
            "\n",
            "Epoch 00088: val_acc did not improve from 0.99561\n",
            "Epoch 89/200\n",
            "4/4 [==============================] - 3s 850ms/step - loss: 0.0361 - acc: 0.9886 - val_loss: 0.1716 - val_acc: 0.9912\n",
            "\n",
            "Epoch 00089: val_acc did not improve from 0.99561\n",
            "Epoch 90/200\n",
            "4/4 [==============================] - 4s 891ms/step - loss: 0.0471 - acc: 0.9826 - val_loss: 0.1704 - val_acc: 0.9825\n",
            "\n",
            "Epoch 00090: val_acc did not improve from 0.99561\n",
            "Epoch 91/200\n",
            "4/4 [==============================] - 4s 881ms/step - loss: 0.0515 - acc: 0.9798 - val_loss: 0.1608 - val_acc: 0.9912\n",
            "\n",
            "Epoch 00091: val_acc did not improve from 0.99561\n",
            "Epoch 92/200\n",
            "4/4 [==============================] - 3s 868ms/step - loss: 0.0467 - acc: 0.9880 - val_loss: 0.1057 - val_acc: 0.9825\n",
            "\n",
            "Epoch 00092: val_acc did not improve from 0.99561\n",
            "Epoch 93/200\n",
            "4/4 [==============================] - 3s 851ms/step - loss: 0.0342 - acc: 0.9896 - val_loss: 0.1596 - val_acc: 0.9825\n",
            "\n",
            "Epoch 00093: val_acc did not improve from 0.99561\n",
            "Epoch 94/200\n",
            "4/4 [==============================] - 4s 898ms/step - loss: 0.0331 - acc: 0.9906 - val_loss: 0.1610 - val_acc: 0.9825\n",
            "\n",
            "Epoch 00094: val_acc did not improve from 0.99561\n",
            "Epoch 95/200\n",
            "4/4 [==============================] - 3s 872ms/step - loss: 0.0398 - acc: 0.9856 - val_loss: 0.1664 - val_acc: 0.9825\n",
            "\n",
            "Epoch 00095: val_acc did not improve from 0.99561\n",
            "Epoch 96/200\n",
            "4/4 [==============================] - 3s 847ms/step - loss: 0.0415 - acc: 0.9906 - val_loss: 0.1699 - val_acc: 0.9825\n",
            "\n",
            "Epoch 00096: val_acc did not improve from 0.99561\n",
            "Epoch 97/200\n",
            "4/4 [==============================] - 4s 896ms/step - loss: 0.0471 - acc: 0.9792 - val_loss: 0.1778 - val_acc: 0.9737\n",
            "\n",
            "Epoch 00097: val_acc did not improve from 0.99561\n",
            "Epoch 98/200\n",
            "4/4 [==============================] - 3s 870ms/step - loss: 0.0672 - acc: 0.9792 - val_loss: 0.1796 - val_acc: 0.9825\n",
            "\n",
            "Epoch 00098: val_acc did not improve from 0.99561\n",
            "Epoch 99/200\n",
            "4/4 [==============================] - 3s 843ms/step - loss: 0.0427 - acc: 0.9886 - val_loss: 0.0292 - val_acc: 0.9912\n",
            "\n",
            "Epoch 00099: val_acc did not improve from 0.99561\n",
            "Epoch 100/200\n",
            "4/4 [==============================] - 4s 901ms/step - loss: 0.0266 - acc: 0.9960 - val_loss: 0.0269 - val_acc: 0.9912\n",
            "\n",
            "Epoch 00100: val_acc did not improve from 0.99561\n",
            "Epoch 101/200\n",
            "4/4 [==============================] - 3s 830ms/step - loss: 0.0402 - acc: 0.9906 - val_loss: 0.0489 - val_acc: 0.9825\n",
            "\n",
            "Epoch 00101: val_acc did not improve from 0.99561\n",
            "Epoch 102/200\n",
            "4/4 [==============================] - 4s 896ms/step - loss: 0.0303 - acc: 0.9906 - val_loss: 0.2095 - val_acc: 0.9474\n",
            "\n",
            "Epoch 00102: val_acc did not improve from 0.99561\n",
            "Epoch 103/200\n",
            "4/4 [==============================] - 4s 878ms/step - loss: 0.0259 - acc: 0.9926 - val_loss: 0.2262 - val_acc: 0.9561\n",
            "\n",
            "Epoch 00103: val_acc did not improve from 0.99561\n",
            "Epoch 104/200\n",
            "4/4 [==============================] - 3s 862ms/step - loss: 0.0387 - acc: 0.9926 - val_loss: 0.2098 - val_acc: 0.9474\n",
            "\n",
            "Epoch 00104: val_acc did not improve from 0.99561\n",
            "Epoch 105/200\n",
            "4/4 [==============================] - 3s 875ms/step - loss: 0.0192 - acc: 0.9940 - val_loss: 0.0598 - val_acc: 0.9825\n",
            "\n",
            "Epoch 00105: val_acc did not improve from 0.99561\n",
            "Epoch 106/200\n",
            "4/4 [==============================] - 3s 860ms/step - loss: 0.0428 - acc: 0.9856 - val_loss: 0.0518 - val_acc: 0.9825\n",
            "\n",
            "Epoch 00106: val_acc did not improve from 0.99561\n",
            "Epoch 107/200\n",
            "4/4 [==============================] - 3s 839ms/step - loss: 0.0216 - acc: 0.9940 - val_loss: 0.1239 - val_acc: 0.9737\n",
            "\n",
            "Epoch 00107: val_acc did not improve from 0.99561\n",
            "Epoch 108/200\n",
            "4/4 [==============================] - 4s 887ms/step - loss: 0.0337 - acc: 0.9960 - val_loss: 0.2344 - val_acc: 0.9474\n",
            "\n",
            "Epoch 00108: val_acc did not improve from 0.99561\n",
            "Epoch 109/200\n",
            "4/4 [==============================] - 3s 866ms/step - loss: 0.0307 - acc: 0.9906 - val_loss: 0.2212 - val_acc: 0.9561\n",
            "\n",
            "Epoch 00109: val_acc did not improve from 0.99561\n",
            "Epoch 110/200\n",
            "4/4 [==============================] - 3s 864ms/step - loss: 0.0276 - acc: 0.9926 - val_loss: 0.0612 - val_acc: 0.9737\n",
            "\n",
            "Epoch 00110: val_acc did not improve from 0.99561\n",
            "Epoch 111/200\n",
            "4/4 [==============================] - 4s 894ms/step - loss: 0.0473 - acc: 0.9812 - val_loss: 0.0676 - val_acc: 0.9649\n",
            "\n",
            "Epoch 00111: val_acc did not improve from 0.99561\n",
            "Epoch 112/200\n",
            "4/4 [==============================] - 4s 884ms/step - loss: 0.0432 - acc: 0.9872 - val_loss: 0.0866 - val_acc: 0.9649\n",
            "\n",
            "Epoch 00112: val_acc did not improve from 0.99561\n",
            "Epoch 113/200\n",
            "4/4 [==============================] - 4s 892ms/step - loss: 0.0438 - acc: 0.9840 - val_loss: 0.1060 - val_acc: 0.9561\n",
            "\n",
            "Epoch 00113: val_acc did not improve from 0.99561\n",
            "Epoch 114/200\n",
            "4/4 [==============================] - 4s 877ms/step - loss: 0.0373 - acc: 0.9920 - val_loss: 0.2188 - val_acc: 0.9561\n",
            "\n",
            "Epoch 00114: val_acc did not improve from 0.99561\n",
            "Epoch 115/200\n",
            "4/4 [==============================] - 3s 829ms/step - loss: 0.0397 - acc: 0.9838 - val_loss: 0.1872 - val_acc: 0.9737\n",
            "\n",
            "Epoch 00115: val_acc did not improve from 0.99561\n",
            "Epoch 116/200\n",
            "4/4 [==============================] - 4s 885ms/step - loss: 0.0312 - acc: 0.9940 - val_loss: 0.0458 - val_acc: 0.9912\n",
            "\n",
            "Epoch 00116: val_acc did not improve from 0.99561\n",
            "Epoch 117/200\n",
            "4/4 [==============================] - 3s 841ms/step - loss: 0.0246 - acc: 0.9940 - val_loss: 0.0710 - val_acc: 0.9825\n",
            "\n",
            "Epoch 00117: val_acc did not improve from 0.99561\n",
            "Epoch 118/200\n",
            "4/4 [==============================] - 4s 909ms/step - loss: 0.0382 - acc: 0.9912 - val_loss: 0.1852 - val_acc: 0.9649\n",
            "\n",
            "Epoch 00118: val_acc did not improve from 0.99561\n",
            "Epoch 119/200\n",
            "4/4 [==============================] - 4s 898ms/step - loss: 0.0204 - acc: 0.9940 - val_loss: 0.2036 - val_acc: 0.9649\n",
            "\n",
            "Epoch 00119: val_acc did not improve from 0.99561\n",
            "Epoch 120/200\n",
            "4/4 [==============================] - 4s 927ms/step - loss: 0.0304 - acc: 0.9920 - val_loss: 0.0422 - val_acc: 0.9825\n",
            "\n",
            "Epoch 00120: val_acc did not improve from 0.99561\n",
            "Epoch 121/200\n",
            "4/4 [==============================] - 3s 870ms/step - loss: 0.0413 - acc: 0.9896 - val_loss: 0.0294 - val_acc: 0.9912\n",
            "\n",
            "Epoch 00121: val_acc did not improve from 0.99561\n",
            "Epoch 122/200\n",
            "4/4 [==============================] - 3s 875ms/step - loss: 0.0401 - acc: 0.9886 - val_loss: 0.1903 - val_acc: 0.9737\n",
            "\n",
            "Epoch 00122: val_acc did not improve from 0.99561\n",
            "Epoch 123/200\n",
            "4/4 [==============================] - 3s 855ms/step - loss: 0.0223 - acc: 0.9940 - val_loss: 0.1540 - val_acc: 0.9737\n",
            "\n",
            "Epoch 00123: val_acc did not improve from 0.99561\n",
            "Epoch 124/200\n",
            "4/4 [==============================] - 3s 854ms/step - loss: 0.0544 - acc: 0.9858 - val_loss: 0.0330 - val_acc: 0.9912\n",
            "\n",
            "Epoch 00124: val_acc did not improve from 0.99561\n",
            "Epoch 125/200\n",
            "4/4 [==============================] - 4s 891ms/step - loss: 0.0332 - acc: 0.9900 - val_loss: 0.1741 - val_acc: 0.9474\n",
            "\n",
            "Epoch 00125: val_acc did not improve from 0.99561\n",
            "Epoch 126/200\n",
            "4/4 [==============================] - 3s 853ms/step - loss: 0.0188 - acc: 0.9940 - val_loss: 0.2681 - val_acc: 0.9298\n",
            "\n",
            "Epoch 00126: val_acc did not improve from 0.99561\n",
            "Epoch 127/200\n",
            "4/4 [==============================] - 3s 865ms/step - loss: 0.0246 - acc: 0.9892 - val_loss: 0.2581 - val_acc: 0.9298\n",
            "\n",
            "Epoch 00127: val_acc did not improve from 0.99561\n",
            "Epoch 128/200\n",
            "4/4 [==============================] - 3s 839ms/step - loss: 0.0422 - acc: 0.9872 - val_loss: 0.1138 - val_acc: 0.9430\n",
            "\n",
            "Epoch 00128: val_acc did not improve from 0.99561\n",
            "Epoch 129/200\n",
            "4/4 [==============================] - 4s 922ms/step - loss: 0.0287 - acc: 0.9892 - val_loss: 0.2364 - val_acc: 0.9605\n",
            "\n",
            "Epoch 00129: val_acc did not improve from 0.99561\n",
            "Epoch 130/200\n",
            "4/4 [==============================] - 4s 884ms/step - loss: 0.0196 - acc: 0.9960 - val_loss: 0.1970 - val_acc: 0.9737\n",
            "\n",
            "Epoch 00130: val_acc did not improve from 0.99561\n",
            "Epoch 131/200\n",
            "4/4 [==============================] - 4s 890ms/step - loss: 0.0269 - acc: 0.9960 - val_loss: 0.1843 - val_acc: 0.9737\n",
            "\n",
            "Epoch 00131: val_acc did not improve from 0.99561\n",
            "Epoch 132/200\n",
            "4/4 [==============================] - 3s 865ms/step - loss: 0.0218 - acc: 0.9960 - val_loss: 0.0167 - val_acc: 0.9912\n",
            "\n",
            "Epoch 00132: val_acc did not improve from 0.99561\n",
            "Epoch 133/200\n",
            "4/4 [==============================] - 3s 857ms/step - loss: 0.0370 - acc: 0.9900 - val_loss: 0.0122 - val_acc: 1.0000\n",
            "\n",
            "Epoch 00133: val_acc improved from 0.99561 to 1.00000, saving model to /content/drive/My Drive/Datasets/Dataset_of_clear_blurs_with_log/weights-resnet50-blur-classification-133-1.00.hdf5\n",
            "Epoch 134/200\n",
            "4/4 [==============================] - 3s 772ms/step - loss: 0.0401 - acc: 0.9836 - val_loss: 0.0822 - val_acc: 0.9825\n",
            "\n",
            "Epoch 00134: val_acc did not improve from 1.00000\n",
            "Epoch 135/200\n",
            "4/4 [==============================] - 3s 853ms/step - loss: 0.0272 - acc: 0.9892 - val_loss: 0.1686 - val_acc: 0.9781\n",
            "\n",
            "Epoch 00135: val_acc did not improve from 1.00000\n",
            "Epoch 136/200\n",
            "4/4 [==============================] - 4s 887ms/step - loss: 0.0565 - acc: 0.9858 - val_loss: 0.1656 - val_acc: 0.9912\n",
            "\n",
            "Epoch 00136: val_acc did not improve from 1.00000\n",
            "Epoch 137/200\n",
            "4/4 [==============================] - 4s 931ms/step - loss: 0.0177 - acc: 0.9960 - val_loss: 0.1613 - val_acc: 0.9912\n",
            "\n",
            "Epoch 00137: val_acc did not improve from 1.00000\n",
            "Epoch 138/200\n",
            "4/4 [==============================] - 3s 863ms/step - loss: 0.0575 - acc: 0.9940 - val_loss: 0.0453 - val_acc: 0.9912\n",
            "\n",
            "Epoch 00138: val_acc did not improve from 1.00000\n",
            "Epoch 139/200\n",
            "4/4 [==============================] - 3s 855ms/step - loss: 0.0409 - acc: 0.9940 - val_loss: 0.0682 - val_acc: 0.9737\n",
            "\n",
            "Epoch 00139: val_acc did not improve from 1.00000\n",
            "Epoch 140/200\n",
            "4/4 [==============================] - 3s 821ms/step - loss: 0.0373 - acc: 0.9940 - val_loss: 0.1626 - val_acc: 0.9825\n",
            "\n",
            "Epoch 00140: val_acc did not improve from 1.00000\n",
            "Epoch 141/200\n",
            "4/4 [==============================] - 3s 869ms/step - loss: 0.0229 - acc: 0.9940 - val_loss: 0.1669 - val_acc: 0.9912\n",
            "\n",
            "Epoch 00141: val_acc did not improve from 1.00000\n",
            "Epoch 142/200\n",
            "4/4 [==============================] - 4s 876ms/step - loss: 0.0262 - acc: 0.9900 - val_loss: 0.1619 - val_acc: 0.9825\n",
            "\n",
            "Epoch 00142: val_acc did not improve from 1.00000\n",
            "Epoch 143/200\n",
            "4/4 [==============================] - 3s 859ms/step - loss: 0.0182 - acc: 0.9960 - val_loss: 0.1573 - val_acc: 0.9912\n",
            "\n",
            "Epoch 00143: val_acc did not improve from 1.00000\n",
            "Epoch 144/200\n",
            "4/4 [==============================] - 4s 884ms/step - loss: 0.0214 - acc: 0.9892 - val_loss: 0.0172 - val_acc: 1.0000\n",
            "\n",
            "Epoch 00144: val_acc did not improve from 1.00000\n",
            "Epoch 145/200\n",
            "4/4 [==============================] - 3s 852ms/step - loss: 0.0258 - acc: 0.9926 - val_loss: 0.0186 - val_acc: 1.0000\n",
            "\n",
            "Epoch 00145: val_acc did not improve from 1.00000\n",
            "Epoch 146/200\n",
            "4/4 [==============================] - 3s 846ms/step - loss: 0.0164 - acc: 0.9980 - val_loss: 0.0240 - val_acc: 0.9912\n",
            "\n",
            "Epoch 00146: val_acc did not improve from 1.00000\n",
            "Epoch 147/200\n",
            "4/4 [==============================] - 3s 849ms/step - loss: 0.0107 - acc: 0.9980 - val_loss: 0.1519 - val_acc: 0.9912\n",
            "\n",
            "Epoch 00147: val_acc did not improve from 1.00000\n",
            "Epoch 148/200\n",
            "4/4 [==============================] - 3s 814ms/step - loss: 0.0260 - acc: 0.9940 - val_loss: 0.1514 - val_acc: 0.9912\n",
            "\n",
            "Epoch 00148: val_acc did not improve from 1.00000\n",
            "Epoch 149/200\n",
            "4/4 [==============================] - 3s 841ms/step - loss: 0.0143 - acc: 0.9960 - val_loss: 0.0977 - val_acc: 0.9912\n",
            "\n",
            "Epoch 00149: val_acc did not improve from 1.00000\n",
            "Epoch 150/200\n",
            "4/4 [==============================] - 4s 887ms/step - loss: 0.0086 - acc: 0.9980 - val_loss: 0.0556 - val_acc: 0.9825\n",
            "\n",
            "Epoch 00150: val_acc did not improve from 1.00000\n",
            "Epoch 151/200\n",
            "4/4 [==============================] - 3s 801ms/step - loss: 0.0228 - acc: 0.9886 - val_loss: 0.1206 - val_acc: 0.9825\n",
            "\n",
            "Epoch 00151: val_acc did not improve from 1.00000\n",
            "Epoch 152/200\n",
            "4/4 [==============================] - 3s 866ms/step - loss: 0.0193 - acc: 0.9906 - val_loss: 0.0237 - val_acc: 0.9912\n",
            "\n",
            "Epoch 00152: val_acc did not improve from 1.00000\n",
            "Epoch 153/200\n",
            "4/4 [==============================] - 3s 830ms/step - loss: 0.0069 - acc: 1.0000 - val_loss: 0.0291 - val_acc: 0.9912\n",
            "\n",
            "Epoch 00153: val_acc did not improve from 1.00000\n",
            "Epoch 154/200\n",
            "4/4 [==============================] - 3s 831ms/step - loss: 0.0126 - acc: 0.9960 - val_loss: 0.0672 - val_acc: 0.9825\n",
            "\n",
            "Epoch 00154: val_acc did not improve from 1.00000\n",
            "Epoch 155/200\n",
            "4/4 [==============================] - 3s 867ms/step - loss: 0.0392 - acc: 0.9880 - val_loss: 0.0371 - val_acc: 0.9912\n",
            "\n",
            "Epoch 00155: val_acc did not improve from 1.00000\n",
            "Epoch 156/200\n",
            "4/4 [==============================] - 3s 812ms/step - loss: 0.0422 - acc: 0.9906 - val_loss: 0.0186 - val_acc: 1.0000\n",
            "\n",
            "Epoch 00156: val_acc did not improve from 1.00000\n",
            "Epoch 157/200\n",
            "4/4 [==============================] - 3s 871ms/step - loss: 0.0221 - acc: 0.9940 - val_loss: 0.0197 - val_acc: 1.0000\n",
            "\n",
            "Epoch 00157: val_acc did not improve from 1.00000\n",
            "Epoch 158/200\n",
            "4/4 [==============================] - 3s 836ms/step - loss: 0.0160 - acc: 0.9940 - val_loss: 0.1413 - val_acc: 0.9912\n",
            "\n",
            "Epoch 00158: val_acc did not improve from 1.00000\n",
            "Epoch 159/200\n",
            "4/4 [==============================] - 3s 854ms/step - loss: 0.0203 - acc: 0.9940 - val_loss: 0.1649 - val_acc: 0.9912\n",
            "\n",
            "Epoch 00159: val_acc did not improve from 1.00000\n",
            "Epoch 160/200\n",
            "4/4 [==============================] - 3s 845ms/step - loss: 0.0266 - acc: 0.9946 - val_loss: 0.1693 - val_acc: 0.9825\n",
            "\n",
            "Epoch 00160: val_acc did not improve from 1.00000\n",
            "Epoch 161/200\n",
            "4/4 [==============================] - 3s 839ms/step - loss: 0.0174 - acc: 0.9926 - val_loss: 0.0151 - val_acc: 1.0000\n",
            "\n",
            "Epoch 00161: val_acc did not improve from 1.00000\n",
            "Epoch 162/200\n",
            "4/4 [==============================] - 3s 824ms/step - loss: 0.0181 - acc: 0.9940 - val_loss: 0.0133 - val_acc: 1.0000\n",
            "\n",
            "Epoch 00162: val_acc did not improve from 1.00000\n",
            "Epoch 163/200\n",
            "4/4 [==============================] - 4s 885ms/step - loss: 0.0250 - acc: 0.9940 - val_loss: 0.0159 - val_acc: 1.0000\n",
            "\n",
            "Epoch 00163: val_acc did not improve from 1.00000\n",
            "Epoch 164/200\n",
            "4/4 [==============================] - 3s 853ms/step - loss: 0.0260 - acc: 0.9906 - val_loss: 0.1604 - val_acc: 0.9912\n",
            "\n",
            "Epoch 00164: val_acc did not improve from 1.00000\n",
            "Epoch 165/200\n",
            "4/4 [==============================] - 3s 825ms/step - loss: 0.0167 - acc: 0.9926 - val_loss: 0.1658 - val_acc: 0.9825\n",
            "\n",
            "Epoch 00165: val_acc did not improve from 1.00000\n",
            "Epoch 166/200\n",
            "4/4 [==============================] - 3s 871ms/step - loss: 0.0270 - acc: 0.9960 - val_loss: 0.1623 - val_acc: 0.9825\n",
            "\n",
            "Epoch 00166: val_acc did not improve from 1.00000\n",
            "Epoch 167/200\n",
            "4/4 [==============================] - 3s 805ms/step - loss: 0.0252 - acc: 0.9980 - val_loss: 0.0220 - val_acc: 1.0000\n",
            "\n",
            "Epoch 00167: val_acc did not improve from 1.00000\n",
            "Epoch 168/200\n",
            "4/4 [==============================] - 3s 869ms/step - loss: 0.0136 - acc: 0.9980 - val_loss: 0.0222 - val_acc: 0.9912\n",
            "\n",
            "Epoch 00168: val_acc did not improve from 1.00000\n",
            "Epoch 169/200\n",
            "4/4 [==============================] - 3s 846ms/step - loss: 0.0243 - acc: 0.9920 - val_loss: 0.0208 - val_acc: 0.9825\n",
            "\n",
            "Epoch 00169: val_acc did not improve from 1.00000\n",
            "Epoch 170/200\n",
            "4/4 [==============================] - 3s 847ms/step - loss: 0.0272 - acc: 0.9886 - val_loss: 0.1731 - val_acc: 0.9649\n",
            "\n",
            "Epoch 00170: val_acc did not improve from 1.00000\n",
            "Epoch 171/200\n",
            "4/4 [==============================] - 3s 825ms/step - loss: 0.0248 - acc: 0.9960 - val_loss: 0.1745 - val_acc: 0.9737\n",
            "\n",
            "Epoch 00171: val_acc did not improve from 1.00000\n",
            "Epoch 172/200\n",
            "4/4 [==============================] - 3s 832ms/step - loss: 0.0261 - acc: 0.9960 - val_loss: 0.0618 - val_acc: 0.9825\n",
            "\n",
            "Epoch 00172: val_acc did not improve from 1.00000\n",
            "Epoch 173/200\n",
            "4/4 [==============================] - 3s 818ms/step - loss: 0.0219 - acc: 0.9940 - val_loss: 0.0227 - val_acc: 0.9912\n",
            "\n",
            "Epoch 00173: val_acc did not improve from 1.00000\n",
            "Epoch 174/200\n",
            "4/4 [==============================] - 3s 870ms/step - loss: 0.0300 - acc: 0.9926 - val_loss: 0.0361 - val_acc: 0.9912\n",
            "\n",
            "Epoch 00174: val_acc did not improve from 1.00000\n",
            "Epoch 175/200\n",
            "4/4 [==============================] - 3s 809ms/step - loss: 0.0252 - acc: 0.9960 - val_loss: 0.0394 - val_acc: 0.9912\n",
            "\n",
            "Epoch 00175: val_acc did not improve from 1.00000\n",
            "Epoch 176/200\n",
            "4/4 [==============================] - 3s 854ms/step - loss: 0.0194 - acc: 0.9946 - val_loss: 0.1669 - val_acc: 0.9825\n",
            "\n",
            "Epoch 00176: val_acc did not improve from 1.00000\n",
            "Epoch 177/200\n",
            "4/4 [==============================] - 3s 844ms/step - loss: 0.0339 - acc: 0.9946 - val_loss: 0.1550 - val_acc: 0.9912\n",
            "\n",
            "Epoch 00177: val_acc did not improve from 1.00000\n",
            "Epoch 178/200\n",
            "4/4 [==============================] - 3s 835ms/step - loss: 0.0080 - acc: 0.9980 - val_loss: 0.0506 - val_acc: 0.9912\n",
            "\n",
            "Epoch 00178: val_acc did not improve from 1.00000\n",
            "Epoch 179/200\n",
            "4/4 [==============================] - 3s 857ms/step - loss: 0.0200 - acc: 0.9920 - val_loss: 0.0161 - val_acc: 1.0000\n",
            "\n",
            "Epoch 00179: val_acc did not improve from 1.00000\n",
            "Epoch 180/200\n",
            "4/4 [==============================] - 3s 840ms/step - loss: 0.0165 - acc: 0.9960 - val_loss: 0.1453 - val_acc: 0.9825\n",
            "\n",
            "Epoch 00180: val_acc did not improve from 1.00000\n",
            "Epoch 181/200\n",
            "4/4 [==============================] - 3s 829ms/step - loss: 0.0188 - acc: 0.9960 - val_loss: 0.1561 - val_acc: 0.9825\n",
            "\n",
            "Epoch 00181: val_acc did not improve from 1.00000\n",
            "Epoch 182/200\n",
            "4/4 [==============================] - 3s 837ms/step - loss: 0.0232 - acc: 0.9940 - val_loss: 0.0120 - val_acc: 1.0000\n",
            "\n",
            "Epoch 00182: val_acc did not improve from 1.00000\n",
            "Epoch 183/200\n",
            "4/4 [==============================] - 3s 821ms/step - loss: 0.0116 - acc: 0.9946 - val_loss: 0.0122 - val_acc: 1.0000\n",
            "\n",
            "Epoch 00183: val_acc did not improve from 1.00000\n",
            "Epoch 184/200\n",
            "4/4 [==============================] - 3s 857ms/step - loss: 0.0179 - acc: 0.9946 - val_loss: 0.0641 - val_acc: 0.9912\n",
            "\n",
            "Epoch 00184: val_acc did not improve from 1.00000\n",
            "Epoch 185/200\n",
            "4/4 [==============================] - 3s 828ms/step - loss: 0.0195 - acc: 0.9960 - val_loss: 0.1648 - val_acc: 0.9825\n",
            "\n",
            "Epoch 00185: val_acc did not improve from 1.00000\n",
            "Epoch 186/200\n",
            "4/4 [==============================] - 3s 801ms/step - loss: 0.0304 - acc: 0.9892 - val_loss: 0.0397 - val_acc: 0.9912\n",
            "\n",
            "Epoch 00186: val_acc did not improve from 1.00000\n",
            "Epoch 187/200\n",
            "4/4 [==============================] - 3s 868ms/step - loss: 0.0230 - acc: 0.9966 - val_loss: 0.0868 - val_acc: 0.9561\n",
            "\n",
            "Epoch 00187: val_acc did not improve from 1.00000\n",
            "Epoch 188/200\n",
            "4/4 [==============================] - 3s 864ms/step - loss: 0.0220 - acc: 0.9940 - val_loss: 0.1284 - val_acc: 0.9737\n",
            "\n",
            "Epoch 00188: val_acc did not improve from 1.00000\n",
            "Epoch 189/200\n",
            "4/4 [==============================] - 3s 864ms/step - loss: 0.0219 - acc: 0.9950 - val_loss: 0.0798 - val_acc: 0.9649\n",
            "\n",
            "Epoch 00189: val_acc did not improve from 1.00000\n",
            "Epoch 190/200\n",
            "4/4 [==============================] - 3s 850ms/step - loss: 0.0090 - acc: 0.9970 - val_loss: 0.0428 - val_acc: 0.9912\n",
            "\n",
            "Epoch 00190: val_acc did not improve from 1.00000\n",
            "Epoch 191/200\n",
            "4/4 [==============================] - 3s 840ms/step - loss: 0.0102 - acc: 0.9960 - val_loss: 0.0509 - val_acc: 0.9825\n",
            "\n",
            "Epoch 00191: val_acc did not improve from 1.00000\n",
            "Epoch 192/200\n",
            "4/4 [==============================] - 3s 809ms/step - loss: 0.0057 - acc: 0.9980 - val_loss: 0.0549 - val_acc: 0.9825\n",
            "\n",
            "Epoch 00192: val_acc did not improve from 1.00000\n",
            "Epoch 193/200\n",
            "4/4 [==============================] - 3s 864ms/step - loss: 0.0311 - acc: 0.9912 - val_loss: 0.0745 - val_acc: 0.9737\n",
            "\n",
            "Epoch 00193: val_acc did not improve from 1.00000\n",
            "Epoch 194/200\n",
            "4/4 [==============================] - 3s 838ms/step - loss: 0.0117 - acc: 0.9940 - val_loss: 0.0494 - val_acc: 0.9825\n",
            "\n",
            "Epoch 00194: val_acc did not improve from 1.00000\n",
            "Epoch 195/200\n",
            "4/4 [==============================] - 3s 820ms/step - loss: 0.0235 - acc: 0.9889 - val_loss: 0.0465 - val_acc: 0.9825\n",
            "\n",
            "Epoch 00195: val_acc did not improve from 1.00000\n",
            "Epoch 196/200\n",
            "4/4 [==============================] - 3s 836ms/step - loss: 0.0162 - acc: 0.9940 - val_loss: 0.0498 - val_acc: 0.9912\n",
            "\n",
            "Epoch 00196: val_acc did not improve from 1.00000\n",
            "Epoch 197/200\n",
            "4/4 [==============================] - 3s 811ms/step - loss: 0.0126 - acc: 0.9940 - val_loss: 0.0539 - val_acc: 0.9781\n",
            "\n",
            "Epoch 00197: val_acc did not improve from 1.00000\n",
            "Epoch 198/200\n",
            "4/4 [==============================] - 3s 830ms/step - loss: 0.0110 - acc: 0.9960 - val_loss: 0.0628 - val_acc: 0.9737\n",
            "\n",
            "Epoch 00198: val_acc did not improve from 1.00000\n",
            "Epoch 199/200\n",
            "4/4 [==============================] - 3s 844ms/step - loss: 0.0187 - acc: 0.9949 - val_loss: 0.0835 - val_acc: 0.9649\n",
            "\n",
            "Epoch 00199: val_acc did not improve from 1.00000\n",
            "Epoch 200/200\n",
            "4/4 [==============================] - 3s 849ms/step - loss: 0.0173 - acc: 0.9940 - val_loss: 0.0787 - val_acc: 0.9649\n",
            "\n",
            "Epoch 00200: val_acc did not improve from 1.00000\n"
          ],
          "name": "stdout"
        }
      ]
    },
    {
      "cell_type": "code",
      "metadata": {
        "id": "Pu0OQGa1glbv",
        "colab_type": "code",
        "outputId": "f1f82863-54d5-441c-808c-f9596a7ca34f",
        "colab": {
          "base_uri": "https://localhost:8080/",
          "height": 295
        }
      },
      "source": [
        "# Plot training & validation accuracy values\n",
        "plt.plot(H.history['acc'])\n",
        "plt.plot(H.history['val_acc'])\n",
        "plt.title('Model accuracy')\n",
        "plt.ylabel('Accuracy')\n",
        "plt.xlabel('Epoch')\n",
        "plt.legend(['Train', 'Test'], loc='upper left')\n",
        "plt.show()"
      ],
      "execution_count": 109,
      "outputs": [
        {
          "output_type": "display_data",
          "data": {
            "image/png": "[encoded data removed]",
            "text/plain": [
              "<Figure size 432x288 with 1 Axes>"
            ]
          },
          "metadata": {
            "tags": []
          }
        }
      ]
    },
    {
      "cell_type": "code",
      "metadata": {
        "id": "7j2GhdNqglwD",
        "colab_type": "code",
        "outputId": "c191d16c-7ad4-4b78-9365-94d9886e6adf",
        "colab": {
          "base_uri": "https://localhost:8080/",
          "height": 295
        }
      },
      "source": [
        "# Plot training & validation loss values\n",
        "plt.plot(H.history['loss'])\n",
        "plt.plot(H.history['val_loss'])\n",
        "plt.title('Model loss')\n",
        "plt.ylabel('Loss')\n",
        "plt.xlabel('Epoch')\n",
        "plt.legend(['Train', 'Test'], loc='upper left')\n",
        "plt.show()"
      ],
      "execution_count": 110,
      "outputs": [
        {
          "output_type": "display_data",
          "data": {
            "image/png": "[encoded data removed]",
            "text/plain": [
              "<Figure size 432x288 with 1 Axes>"
            ]
          },
          "metadata": {
            "tags": []
          }
        }
      ]
    },
    {
      "cell_type": "code",
      "metadata": {
        "id": "6Qhfdu5EgsRj",
        "colab_type": "code",
        "outputId": "18535910-13e4-4a09-86a4-64e8756791ce",
        "colab": {
          "base_uri": "https://localhost:8080/",
          "height": 34
        }
      },
      "source": [
        "H.history['val_loss'][132]"
      ],
      "execution_count": 113,
      "outputs": [
        {
          "output_type": "execute_result",
          "data": {
            "text/plain": [
              "0.012231504544615746"
            ]
          },
          "metadata": {
            "tags": []
          },
          "execution_count": 113
        }
      ]
    },
    {
      "cell_type": "code",
      "metadata": {
        "id": "hVfUxSRd-RwZ",
        "colab_type": "code",
        "colab": {
          "base_uri": "https://localhost:8080/",
          "height": 34
        },
        "outputId": "6049d5b4-7031-4873-9b2e-0d891b46e0e2"
      },
      "source": [
        "H.history['val_loss'][180]"
      ],
      "execution_count": 114,
      "outputs": [
        {
          "output_type": "execute_result",
          "data": {
            "text/plain": [
              "0.1561286300420761"
            ]
          },
          "metadata": {
            "tags": []
          },
          "execution_count": 114
        }
      ]
    },
    {
      "cell_type": "code",
      "metadata": {
        "id": "YEijaGLd-aps",
        "colab_type": "code",
        "colab": {
          "base_uri": "https://localhost:8080/",
          "height": 34
        },
        "outputId": "c1616236-370c-4554-fa55-683dd897d746"
      },
      "source": [
        "H.history['val_loss'][np.argmin(H.history['val_loss'])]"
      ],
      "execution_count": 115,
      "outputs": [
        {
          "output_type": "execute_result",
          "data": {
            "text/plain": [
              "0.012016808614134789"
            ]
          },
          "metadata": {
            "tags": []
          },
          "execution_count": 115
        }
      ]
    },
    {
      "cell_type": "markdown",
      "metadata": {
        "id": "KKw8vFYWfmjp",
        "colab_type": "text"
      },
      "source": [
        "# Checking model on custom images"
      ]
    },
    {
      "cell_type": "code",
      "metadata": {
        "id": "YMqTbAjOgAtI",
        "colab_type": "code",
        "colab": {}
      },
      "source": [
        "from keras.models import load_model"
      ],
      "execution_count": 0,
      "outputs": []
    },
    {
      "cell_type": "code",
      "metadata": {
        "colab_type": "code",
        "id": "QkXGf6NnDUi5",
        "colab": {}
      },
      "source": [
        "model = load_model('/content/drive/My Drive/weights/After_training_on_clear_blur/weights-resnet50-blur-classification-64-0.97.hdf5')"
      ],
      "execution_count": 0,
      "outputs": []
    },
    {
      "cell_type": "code",
      "metadata": {
        "id": "vExB5bTw8Qss",
        "colab_type": "code",
        "colab": {}
      },
      "source": [
        "total_num = 0\n",
        "num_of_success = 0\n",
        "dir_for_test_images = '/content/drive/My Drive/Dataset_blured_images'\n",
        "for dir in os.listdir(dir_for_test_images):\n",
        "  if dir.find('.') == -1:\n",
        "    print('Processing directory \\''+ dir+'\\'', flush=True)\n",
        "    for filename in os.listdir(dir_for_test_images+'/'+dir):\n",
        "      image_PIL = PIL.Image.open(dir_for_test_images+'/'+dir+'/'+filename).convert('RGB')\n",
        "      image_PIL = image_PIL.resize((224,224))\n",
        "      image_cv = np.array(image_PIL)\n",
        "      image_cv_4_dim = np.expand_dims(image_cv, axis=0)\n",
        "      input_image_for_dataset = image_cv_4_dim\n",
        "      prediction = model.predict(input_image_for_dataset)\n",
        "      class_predicted = mlb.classes_[[prediction == np.max(prediction[0])][0][0]][0]\n",
        "      total_num += 1\n",
        "      if class_predicted == filename.split('_')[-3]:\n",
        "        num_of_success += 1\n",
        "        print(dir)\n",
        "        print(class_predicted)\n",
        "print('accuracy = '+str(num_of_success/total_num))"
      ],
      "execution_count": 0,
      "outputs": []
    },
    {
      "cell_type": "code",
      "metadata": {
        "id": "kLyTsRGV_Vj3",
        "colab_type": "code",
        "outputId": "b1e35e22-4565-444a-bef1-49009751c5a5",
        "colab": {
          "base_uri": "https://localhost:8080/",
          "height": 34
        }
      },
      "source": [
        "num_of_success"
      ],
      "execution_count": 0,
      "outputs": [
        {
          "output_type": "execute_result",
          "data": {
            "text/plain": [
              "148"
            ]
          },
          "metadata": {
            "tags": []
          },
          "execution_count": 121
        }
      ]
    },
    {
      "cell_type": "code",
      "metadata": {
        "id": "XbqO7H67Ugu_",
        "colab_type": "code",
        "colab": {}
      },
      "source": [
        ""
      ],
      "execution_count": 0,
      "outputs": []
    }
  ]
}