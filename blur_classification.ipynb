{
  "nbformat": 4,
  "nbformat_minor": 0,
  "metadata": {
    "colab": {
      "name": "blur_classification.ipynb",
      "provenance": [],
      "collapsed_sections": [
        "0lRaF3qSUyTe",
        "BmPSI6uxP2l-"
      ],
      "include_colab_link": true
    },
    "kernelspec": {
      "name": "python3",
      "display_name": "Python 3"
    },
    "accelerator": "GPU"
  },
  "cells": [
    {
      "cell_type": "markdown",
      "metadata": {
        "id": "view-in-github",
        "colab_type": "text"
      },
      "source": [
        "<a href=\"https://colab.research.google.com/github/IaroslavS/blur_classification/blob/master/blur_classification.ipynb\" target=\"_parent\"><img src=\"https://colab.research.google.com/assets/colab-badge.svg\" alt=\"Open In Colab\"/></a>"
      ]
    },
    {
      "cell_type": "code",
      "metadata": {
        "id": "YyVC5QgA8UuF",
        "colab_type": "code",
        "colab": {}
      },
      "source": [
        "from skimage.io import imshow, show\n",
        "from skimage.io import imread, imsave\n",
        "import matplotlib.pyplot as plt\n",
        "import pylab\n",
        "import math\n",
        "import numpy as np\n",
        "from skimage.color import rgb2gray, gray2rgb\n",
        "from tqdm import tqdm_notebook, tqdm\n",
        "import pandas as pd\n",
        "import cv2\n",
        "import os\n",
        "import PIL"
      ],
      "execution_count": 0,
      "outputs": []
    },
    {
      "cell_type": "code",
      "metadata": {
        "id": "8MmuCRuArJoJ",
        "colab_type": "code",
        "colab": {}
      },
      "source": [
        "IMAGE_DIMS = (512, 512, 1)\n",
        "input_dir_images_for_blurring = '/content/drive/My Drive/Input_dir_images_for_blurring'\n",
        "output_dir_images_for_blurring = '/content/drive/My Drive/Datasets/Dataset_of_blurred_images'\n",
        "dir_with_non_blurred_images = '/content/drive/My Drive/Images_from_COCO'\n",
        "flag_look_for_spectres_instead_of_images = False\n",
        "flag_make_log_pixels = False"
      ],
      "execution_count": 0,
      "outputs": []
    },
    {
      "cell_type": "markdown",
      "metadata": {
        "id": "8OdrbreulQJ3",
        "colab_type": "text"
      },
      "source": [
        "##Defining blur kernels"
      ]
    },
    {
      "cell_type": "code",
      "metadata": {
        "id": "CgkV9KY--a4d",
        "colab_type": "code",
        "colab": {}
      },
      "source": [
        "def h_circular_scattering(x, y, param1=20, param2 = None, x_c = None, y_c = None):\n",
        "  r = param1\n",
        "  x = x - x_c\n",
        "  y = y - y_c\n",
        "  result = 0\n",
        "  if (x*x + y*y) <= r*r:\n",
        "    result = 1/(math.pi*(r*r))\n",
        "  return result\n",
        "\n",
        "def h_Gauss(x, y, C=1, param1=10, param2 = None, x_c = None, y_c = None):\n",
        "  sigma = param1\n",
        "  x = x - x_c\n",
        "  y = y - y_c\n",
        "  return (C * (math.e ** ( -(x**2 + y**2)/(2*(sigma**2))) ))\n",
        "\n",
        "def h_linear_smearing(x,y, param1=32, param2 = 0, x_c = None, y_c = None):\n",
        "  r = param1\n",
        "  alpha = param2\n",
        "  if abs(alpha) > 45: alpha = -math.copysign(90-abs(alpha), alpha)\n",
        "  x = x - x_c\n",
        "  y = -y + y_c\n",
        "  D = r - (x**2 + y**2) ** 0.5\n",
        "  distance_r = (x**2 + y**2) ** 0.5\n",
        "  alpha = math.radians(alpha)\n",
        "  result = 0\n",
        "  if ( (x**2 + y**2) <= ((r**2)/4) ) and ( y == int(round(x*math.tan(alpha),0)) ):\n",
        "    result = 1\n",
        "  return result"
      ],
      "execution_count": 0,
      "outputs": []
    },
    {
      "cell_type": "markdown",
      "metadata": {
        "id": "j1nd3fqXYFE_",
        "colab_type": "text"
      },
      "source": [
        "## Creating the blur function for given image, type of blur and parameters of the kernel blur"
      ]
    },
    {
      "cell_type": "code",
      "metadata": {
        "id": "y8MhyRH7YjFS",
        "colab_type": "code",
        "colab": {}
      },
      "source": [
        "def blur(_image, kernel_blur, param1, param2):\n",
        "\n",
        "  # creating samples from the kernel blur---------------------------------------------------------------------------\n",
        "  v = np.zeros((_image.shape[0],_image.shape[1]))\n",
        "  for i in range(_image.shape[0]):\n",
        "    for j in range(_image.shape[1]):\n",
        "      v[i][j] = kernel_blur(j, i, param1=param1, param2=param2, x_c = (_image.shape[1] // 2), y_c = (_image.shape[0] // 2))\n",
        "  v = np.reshape(v,-1)\n",
        "  v = v/np.sum(v) # Normalizing the sample matrix of the kernel blur. The sum of the elements of the matrix will be equal to one\n",
        "  #----------------------------------------------------------------------------------------------------------------------\n",
        "  \n",
        "  #--------------------------------------------------------\n",
        "  if (kernel_blur == h_linear_smearing) and (abs(param2) > 45):\n",
        "    _image = np.transpose(_image[::-1])\n",
        "  #--------------------------------------------------------\n",
        "\n",
        "  #------Fourier Transform---------------------------------\n",
        "  F_image = np.fft.fft(np.reshape(_image,(1,-1)))\n",
        "  F_h = np.fft.fft(np.reshape(v,-1))\n",
        "  #--------------------------------------------------------\n",
        "  \n",
        "  #--We take only the amplitudes from the Fourier image-----\n",
        "  F_h = np.reshape(F_h, -1)\n",
        "  for i in range(F_h.shape[-1]):\n",
        "    F_h[i] = abs(F_h[i])\n",
        "  #--------------------------------------------------------\n",
        "  \n",
        "  F = F_h*F_image # Multiply the Fourier transform of the image with the Fourier transform of the kernel blur (see convolution theorem)\n",
        "  f = np.fft.ifft(F) # Inverse fourier transform\n",
        "  f = np.reshape(f,_image.shape)\n",
        "  \n",
        "  if (kernel_blur == h_linear_smearing) and (abs(param2) > 45):\n",
        "    f = np.transpose(f)[::-1]\n",
        "  \n",
        "  f_real = np.zeros(f.shape, dtype=float)\n",
        "  for i in range(f.shape[0]):\n",
        "    for j in range(f.shape[1]):\n",
        "      f_real[i][j] = abs(f[i][j])\n",
        "  return f_real"
      ],
      "execution_count": 0,
      "outputs": []
    },
    {
      "cell_type": "markdown",
      "metadata": {
        "id": "U_uHhQ-zWLcF",
        "colab_type": "text"
      },
      "source": [
        "##Получение картинки амплитуды спектра размытого изображения"
      ]
    },
    {
      "cell_type": "code",
      "metadata": {
        "id": "cFj4ndviWK0M",
        "colab_type": "code",
        "colab": {}
      },
      "source": [
        "def get_pic_FT(_image):\n",
        "  F_image = np.fft.fft(np.reshape(_image,(1,-1)))\n",
        "  temp_F = np.copy(F_image)\n",
        "  temp_F = np.reshape(temp_F, _image.shape)\n",
        "  temp = np.zeros(temp_F.shape, dtype=float)\n",
        "  temp = np.reshape(temp, _image.shape)\n",
        "  for i in range(temp_F.shape[0]):\n",
        "    k = i + temp_F.shape[0] // 2\n",
        "    if k > (temp_F.shape[0]-1): k = i - temp_F.shape[0] // 2\n",
        "    for j in range(temp_F.shape[1]):\n",
        "      l = j + temp_F.shape[1] // 2\n",
        "      if l > (temp_F.shape[1]-1): l = j - temp_F.shape[1] // 2\n",
        "      temp[i][j] = abs(temp_F[k][l])\n",
        "  return temp"
      ],
      "execution_count": 0,
      "outputs": []
    },
    {
      "cell_type": "markdown",
      "metadata": {
        "id": "v_yH0IOJAkux",
        "colab_type": "text"
      },
      "source": [
        "#Создание датасета"
      ]
    },
    {
      "cell_type": "code",
      "metadata": {
        "id": "oyL1wHkHZLWa",
        "colab_type": "code",
        "outputId": "51de4822-7eb7-4153-d5a3-dd7bbcae60cf",
        "colab": {
          "base_uri": "https://localhost:8080/",
          "height": 34
        }
      },
      "source": [
        "from google.colab import drive\n",
        "drive.mount('/content/drive')"
      ],
      "execution_count": 39,
      "outputs": [
        {
          "output_type": "stream",
          "text": [
            "Drive already mounted at /content/drive; to attempt to forcibly remount, call drive.mount(\"/content/drive\", force_remount=True).\n"
          ],
          "name": "stdout"
        }
      ]
    },
    {
      "cell_type": "code",
      "metadata": {
        "id": "G6lkDUGWKoCZ",
        "colab_type": "code",
        "colab": {}
      },
      "source": [
        "# The choice of blurrings: h_linear_smearing ,h_Gauss, h_circular_scattering\n",
        "functions = [h_linear_smearing, h_Gauss, h_circular_scattering]"
      ],
      "execution_count": 0,
      "outputs": []
    },
    {
      "cell_type": "code",
      "metadata": {
        "id": "FtBAJCv0KWZC",
        "colab_type": "code",
        "colab": {}
      },
      "source": [
        "def blur_and_save_from_one_image(_image, _filename, make_log_pixels=False, look_for_spectres_instead_of_images=False):\n",
        "  for function in functions: \n",
        "    num_images_for_one_blur = len(np.arange(2,int(_image.shape[0]*0.15)))\n",
        "    fname = _filename[:_filename.rfind('.')]\n",
        "    if function == h_linear_smearing: fname += '_linear smearing'\n",
        "    elif function == h_circular_scattering: fname += '_circular scattering'\n",
        "    elif function == h_Gauss: fname += '_Gauss'\n",
        "    if function == h_circular_scattering:\n",
        "      radiuses = np.arange(2,int(_image.shape[0]*0.15))\n",
        "      param1 = radiuses\n",
        "      param2 = None\n",
        "    if function == h_Gauss:\n",
        "      sigmas = np.linspace(0.1, 60, num_images_for_one_blur)\n",
        "      param1 = sigmas\n",
        "      param2 = None\n",
        "    if function == h_linear_smearing:\n",
        "      radiuses = np.linspace(2,_image.shape[0]*0.15, int(num_images_for_one_blur ** 0.5))\n",
        "      alpha_upper = 90.0\n",
        "      alpha_lower = -90.0\n",
        "      alphas = np.linspace(alpha_lower, alpha_upper, int(num_images_for_one_blur ** 0.5))\n",
        "      param1 = radiuses\n",
        "      param2 = alphas\n",
        "    for parameter_1 in param1:\n",
        "    \n",
        "      if type(param2) == type(np.arange(0.1,0.2,0.1)):\n",
        "        for parameter_2 in param2:\n",
        "          image_new = blur(_image, function, param1=parameter_1, param2=parameter_2)\n",
        "          if look_for_spectres_instead_of_images: image_new = get_pic_FT(image_new)\n",
        "          if make_log_pixels: \n",
        "            image_new = np.reshape(image_new,(-1))\n",
        "            for i in range(len(image_new)):\n",
        "              if image_new[i] != 0:\n",
        "                image_new[i] = math.log(image_new[i])\n",
        "            image_new = np.reshape(image_new,_image.shape)\n",
        "          image_new = (image_new - np.min(image_new))/(np.max(image_new)-np.min(image_new))\n",
        "          image_new = image_new*255\n",
        "          image_output = image_new.astype(np.uint8)\n",
        "          fname = _filename[:_filename.rfind('.')]\n",
        "          if function == h_linear_smearing: fname += '_linear smearing'\n",
        "          elif function == h_circular_scattering: fname += '_circular scattering'\n",
        "          elif function == h_Gauss: fname += '_Gauss'\n",
        "          fname += '_' + str(parameter_1) + '_' + str(parameter_2)\n",
        "          array_to_file.append([fname+'.png', fname.split('_')[-3], fname.split('_')[-2], fname.split('_')[-1][:fname.rfind('.')], _filename[:_filename.rfind('.')]])\n",
        "          imsave(output_dir_images_for_blurring+'/'+_filename[:_filename.rfind('.')] +'/'+fname+'.png', image_output)\n",
        "      elif type(param2) == type(None):\n",
        "        image_new = blur(_image, function, param1=parameter_1, param2=None)\n",
        "        if look_for_spectres_instead_of_images: image_new = get_pic_FT(image_new)\n",
        "        if make_log_pixels: \n",
        "          image_new = np.reshape(image_new,(-1))\n",
        "          for i in range(len(image_new)):\n",
        "            if image_new[i] != 0:\n",
        "              image_new[i] = math.log(image_new[i])\n",
        "          image_new = np.reshape(image_new,_image.shape)\n",
        "        image_new = (image_new - np.min(image_new))/(np.max(image_new)-np.min(image_new))\n",
        "        image_new = image_new*255\n",
        "        image_output = image_new.astype(np.uint8)\n",
        "        fname = _filename[:_filename.rfind('.')]\n",
        "        if function == h_linear_smearing: fname += '_linear smearing'\n",
        "        elif function == h_circular_scattering: fname += '_circular scattering'\n",
        "        elif function == h_Gauss: fname += '_Gauss'\n",
        "        fname += '_' + str(parameter_1) + '_' + str(param2)\n",
        "        array_to_file.append([fname+'.png', fname.split('_')[-3], fname.split('_')[-2], fname.split('_')[-1][:fname.rfind('.')], _filename[:_filename.rfind('.')]])\n",
        "        imsave(output_dir_images_for_blurring+'/'+_filename[:_filename.rfind('.')] +'/'+fname+'.png', image_output)"
      ],
      "execution_count": 0,
      "outputs": []
    },
    {
      "cell_type": "code",
      "metadata": {
        "id": "r877rA7xw0_k",
        "colab_type": "code",
        "colab": {}
      },
      "source": [
        "for filename in os.listdir(dir_with_non_blurred_images):\n",
        "  if filename.find('None') == -1:\n",
        "    os.rename(dir_with_non_blurred_images+'/'+filename, dir_with_non_blurred_images+'/'+filename.replace('_','-')[:filename.rfind('.')]+'_None_None_None'+filename[filename.rfind('.'):])"
      ],
      "execution_count": 0,
      "outputs": []
    },
    {
      "cell_type": "code",
      "metadata": {
        "id": "aWvRovofW_KN",
        "colab_type": "code",
        "outputId": "98cb0d0e-c9f4-4093-9431-962a5b8df4c2",
        "colab": {
          "base_uri": "https://localhost:8080/",
          "height": 34
        }
      },
      "source": [
        "array_to_file = []\n",
        "for filename in tqdm_notebook(os.listdir(input_dir_images_for_blurring)):\n",
        "  if os.path.isdir(output_dir_images_for_blurring+'/'+filename[:filename.rfind('.')]) == False:\n",
        "    os.mkdir(output_dir_images_for_blurring+'/'+filename[:filename.rfind('.')])\n",
        "  image_PIL = PIL.Image.open(input_dir_images_for_blurring+'/'+filename).convert('RGB')\n",
        "  image_PIL = image_PIL.resize((IMAGE_DIMS[0],IMAGE_DIMS[1]))\n",
        "  image_cv = np.array(image_PIL)\n",
        "  image_gray = rgb2gray(image_cv)\n",
        "  input_image_for_dataset = image_gray\n",
        "  blur_and_save_from_one_image(input_image_for_dataset, filename, make_log_pixels=flag_make_log_pixels, \n",
        "                               look_for_spectres_instead_of_images=flag_look_for_spectres_instead_of_images)"
      ],
      "execution_count": 44,
      "outputs": [
        {
          "output_type": "display_data",
          "data": {
            "application/vnd.jupyter.widget-view+json": {
              "model_id": "324ad27772274366952a27045895f7bb",
              "version_minor": 0,
              "version_major": 2
            },
            "text/plain": [
              "HBox(children=(IntProgress(value=0, max=10), HTML(value='')))"
            ]
          },
          "metadata": {
            "tags": []
          }
        },
        {
          "output_type": "stream",
          "text": [
            "\n"
          ],
          "name": "stdout"
        }
      ]
    },
    {
      "cell_type": "code",
      "metadata": {
        "id": "Krb7G3xC0Rrz",
        "colab_type": "code",
        "outputId": "2ea28c7a-16bb-49a0-f7d1-b8af2c5c65bb",
        "colab": {
          "base_uri": "https://localhost:8080/",
          "height": 16
        }
      },
      "source": [
        "if not(os.path.isdir(output_dir_images_for_blurring+'/Non-blurred-images')):\n",
        "  os.mkdir(output_dir_images_for_blurring+'/Non-blurred-images')\n",
        "for filename in tqdm_notebook(os.listdir(dir_with_non_blurred_images)):\n",
        "  image_PIL = PIL.Image.open(dir_with_non_blurred_images+'/'+filename).convert('RGB')\n",
        "  image_PIL = image_PIL.resize((IMAGE_DIMS[0],IMAGE_DIMS[1]))\n",
        "  image_cv = np.array(image_PIL)\n",
        "  image_gray = rgb2gray(image_cv)\n",
        "  image_new = np.copy(image_gray)\n",
        "  if flag_look_for_spectres_instead_of_images:\n",
        "    image_new = get_pic_FT(image_new)\n",
        "  if flag_make_log_pixels:\n",
        "    image_new = np.reshape(image_new,(-1))\n",
        "    for i in range(len(image_new)):\n",
        "      if image_new[i] != 0:\n",
        "        image_new[i] = math.log(image_new[i])\n",
        "    image_new = np.reshape(image_new,image_gray.shape)\n",
        "  image_new = (image_new - np.min(image_new))/(np.max(image_new) - np.min(image_new))\n",
        "  image_new = image_new*255\n",
        "  image_new = image_new.astype('uint8')\n",
        "  image_output = image_new\n",
        "  imsave(output_dir_images_for_blurring+'/Non-blurred-images/'+filename, image_output)"
      ],
      "execution_count": 0,
      "outputs": [
        {
          "output_type": "display_data",
          "data": {
            "application/vnd.jupyter.widget-view+json": {
              "model_id": "4ba6d635593e4e46aa2c6f23f14f694a",
              "version_minor": 0,
              "version_major": 2
            },
            "text/plain": [
              "HBox(children=(IntProgress(value=0, max=707), HTML(value='')))"
            ]
          },
          "metadata": {
            "tags": []
          }
        }
      ]
    },
    {
      "cell_type": "code",
      "metadata": {
        "id": "Pjs2S4ZHJ9OC",
        "colab_type": "code",
        "colab": {}
      },
      "source": [
        "# сохранение в csv файл 'dataset_csv'\n",
        "pd.DataFrame(array_to_file).to_csv(output_dir_images_for_blurring+'/'+'dataset_csv'+'.csv', index=False)"
      ],
      "execution_count": 0,
      "outputs": []
    },
    {
      "cell_type": "code",
      "metadata": {
        "id": "er2oDrcIzunw",
        "colab_type": "code",
        "outputId": "9e5668cf-a4a7-4ad2-e05a-9763b95c22af",
        "colab": {
          "base_uri": "https://localhost:8080/",
          "height": 34
        }
      },
      "source": [
        "# Ищем изображения в папках, которые не занесены в файл .csv и записываем их в файл .csv\n",
        "data_frame = pd.read_csv(output_dir_images_for_blurring+'/'+'dataset_csv'+'.csv')\n",
        "for dir_path_images in tqdm_notebook(os.listdir(output_dir_images_for_blurring)):\n",
        "  if dir_path_images.find('.') == -1:\n",
        "    for fname in os.listdir(output_dir_images_for_blurring+'/'+dir_path_images):\n",
        "      if not (fname in [x for x in data_frame['0']]):\n",
        "        a = []\n",
        "        a += [fname]\n",
        "        a += [fname.split('_')[-3]]\n",
        "        a += [fname.split('_')[-2]]\n",
        "        a += [fname.split('_')[-1]][:fname.rfind('.')]\n",
        "        a += [dir_path_images]\n",
        "        a = np.reshape(np.array(a), (1,-1))\n",
        "        a = pd.DataFrame(a,columns=['0','1','2','3','4'])\n",
        "        data_frame = pd.concat([data_frame, a])\n",
        "\n",
        "# Удаляем те записи, по которым отсутствует фактически изображение\n",
        "flag = True\n",
        "while flag:\n",
        "  flag = True\n",
        "  for i in range(len(data_frame)):\n",
        "    for dir_path_images in os.listdir(output_dir_images_for_blurring):\n",
        "      if dir_path_images.find('.') == -1:\n",
        "        if os.listdir(output_dir_images_for_blurring+'/'+dir_path_images).count(data_frame.iloc[i][0]) != 0:\n",
        "          flag = False\n",
        "          break\n",
        "    if flag:\n",
        "      data_frame = data_frame.drop(index=i) \n",
        "    if flag:\n",
        "      break\n",
        "      \n",
        "# сохранение в csv файл 'dataset_csv'\n",
        "data_frame = data_frame.sort_values(['1'])\n",
        "pd.DataFrame(data_frame).to_csv(output_dir_images_for_blurring+'/'+'dataset_csv'+'.csv', index=False)"
      ],
      "execution_count": 51,
      "outputs": [
        {
          "output_type": "display_data",
          "data": {
            "application/vnd.jupyter.widget-view+json": {
              "model_id": "6dc7fcd1054b4a0b902ebca806888823",
              "version_minor": 0,
              "version_major": 2
            },
            "text/plain": [
              "HBox(children=(IntProgress(value=0, max=21), HTML(value='')))"
            ]
          },
          "metadata": {
            "tags": []
          }
        },
        {
          "output_type": "stream",
          "text": [
            "\n"
          ],
          "name": "stdout"
        }
      ]
    },
    {
      "cell_type": "markdown",
      "metadata": {
        "id": "W6Bw4u7vrVvF",
        "colab_type": "text"
      },
      "source": [
        "# Обучение модели"
      ]
    },
    {
      "cell_type": "code",
      "metadata": {
        "id": "RfE7sUjsYogY",
        "colab_type": "code",
        "outputId": "c641fd5d-cc96-4ab3-e736-f20f71b7535d",
        "colab": {
          "base_uri": "https://localhost:8080/",
          "height": 81
        }
      },
      "source": [
        "from keras.models import Sequential\n",
        "from keras.layers import Dense\n",
        "import pandas as pd\n",
        "import cv2\n",
        "from sklearn.utils import shuffle\n",
        "from keras.preprocessing.image import img_to_array\n",
        "import numpy as np\n",
        "from skimage.color import rgb2gray, gray2rgb\n",
        "import random\n",
        "from sklearn.preprocessing import MultiLabelBinarizer\n",
        "from sklearn.model_selection import train_test_split\n",
        "from keras.preprocessing.image import ImageDataGenerator\n",
        "from tqdm import tqdm_notebook\n",
        "import matplotlib.pyplot as plt\n",
        "\n",
        "\n",
        "import math\n",
        "from keras.optimizers import Adam, SGD\n",
        "\n",
        "import shutil\n",
        "\n",
        "from keras.callbacks import ModelCheckpoint\n",
        "\n",
        "import numpy as np\n",
        "from keras.layers import Input\n",
        "from keras import layers\n",
        "from keras.layers import Dense\n",
        "from keras.layers import Activation\n",
        "from keras.layers import Flatten\n",
        "from keras.layers import Conv2D\n",
        "from keras.layers import MaxPooling2D\n",
        "from keras.layers import GlobalMaxPooling2D\n",
        "from keras.layers import ZeroPadding2D\n",
        "from keras.layers import AveragePooling2D\n",
        "from keras.layers import GlobalAveragePooling2D\n",
        "from keras.layers import BatchNormalization\n",
        "from keras.layers.core import Dropout\n",
        "from keras.models import Model\n",
        "from keras.preprocessing import image\n",
        "import keras.backend as K\n",
        "from keras.utils import layer_utils\n",
        "from keras.utils.data_utils import get_file\n",
        "from keras.applications.imagenet_utils import decode_predictions\n",
        "from keras.applications.imagenet_utils import preprocess_input\n",
        "from keras_applications.imagenet_utils import _obtain_input_shape\n",
        "from keras.engine.topology import get_source_inputs\n",
        "from PIL import Image\n",
        "\n",
        "from keras import backend as K"
      ],
      "execution_count": 0,
      "outputs": [
        {
          "output_type": "stream",
          "text": [
            "Using TensorFlow backend.\n"
          ],
          "name": "stderr"
        },
        {
          "output_type": "display_data",
          "data": {
            "text/html": [
              "<p style=\"color: red;\">\n",
              "The default version of TensorFlow in Colab will soon switch to TensorFlow 2.x.<br>\n",
              "We recommend you <a href=\"https://www.tensorflow.org/guide/migrate\" target=\"_blank\">upgrade</a> now \n",
              "or ensure your notebook will continue to use TensorFlow 1.x via the <code>%tensorflow_version 1.x</code> magic:\n",
              "<a href=\"https://colab.research.google.com/notebooks/tensorflow_version.ipynb\" target=\"_blank\">more info</a>.</p>\n"
            ],
            "text/plain": [
              "<IPython.core.display.HTML object>"
            ]
          },
          "metadata": {
            "tags": []
          }
        }
      ]
    },
    {
      "cell_type": "code",
      "metadata": {
        "id": "-QZRlMbhE7hw",
        "colab_type": "code",
        "outputId": "5736e1ae-d23e-4bf2-807f-b8397bfc3631",
        "colab": {
          "base_uri": "https://localhost:8080/",
          "height": 125
        }
      },
      "source": [
        "from google.colab import drive\n",
        "drive.mount('/content/drive')"
      ],
      "execution_count": 0,
      "outputs": [
        {
          "output_type": "stream",
          "text": [
            "Go to this URL in a browser: https://accounts.google.com/o/oauth2/auth?client_id=947318989803-6bn6qk8qdgf4n4g3pfee6491hc0brc4i.apps.googleusercontent.com&redirect_uri=urn%3aietf%3awg%3aoauth%3a2.0%3aoob&response_type=code&scope=email%20https%3a%2f%2fwww.googleapis.com%2fauth%2fdocs.test%20https%3a%2f%2fwww.googleapis.com%2fauth%2fdrive%20https%3a%2f%2fwww.googleapis.com%2fauth%2fdrive.photos.readonly%20https%3a%2f%2fwww.googleapis.com%2fauth%2fpeopleapi.readonly\n",
            "\n",
            "Enter your authorization code:\n",
            "··········\n",
            "Mounted at /content/drive\n"
          ],
          "name": "stdout"
        }
      ]
    },
    {
      "cell_type": "code",
      "metadata": {
        "id": "kYSvmQXaboW2",
        "colab_type": "code",
        "colab": {}
      },
      "source": [
        "# Here we copy files from directory with blurred images and copy them to directory, where model will take images for training\n",
        "dir_with_blurred_images = '/content/drive/My Drive/Datasets/Dataset_of_spectres_of_blurred_images'"
      ],
      "execution_count": 0,
      "outputs": []
    },
    {
      "cell_type": "code",
      "metadata": {
        "id": "0Spa-HtM3fdu",
        "colab_type": "code",
        "colab": {}
      },
      "source": [
        "EPOCHS = 100\n",
        "INIT_LR = 1e-5 # initial learning rate\n",
        "BS = 64 # batch size\n",
        "IMAGE_DIMS = (512, 512, 1) "
      ],
      "execution_count": 0,
      "outputs": []
    },
    {
      "cell_type": "code",
      "metadata": {
        "id": "pt1Hzo_9vMNI",
        "colab_type": "code",
        "colab": {}
      },
      "source": [
        "dataframe = pd.read_csv(dir_with_blurred_images+'/dataset_csv.csv')"
      ],
      "execution_count": 0,
      "outputs": []
    },
    {
      "cell_type": "code",
      "metadata": {
        "id": "GltBY1zhQnVd",
        "colab_type": "code",
        "colab": {}
      },
      "source": [
        "fraction_of_train_set = 0.8\n",
        "result_test_dataframe = pd.DataFrame({})\n",
        "result_train_dataframe = pd.DataFrame({})\n",
        "for label in np.unique(np.array(dataframe.iloc[:,1].tolist())):\n",
        "  dataframe_labeled = dataframe.loc[dataframe['1']==label]\n",
        "  number_of_samples = fraction_of_train_set*len(dataframe_labeled)\n",
        "  indexes_for_train = random.sample(list(dataframe_labeled.index), int(number_of_samples))\n",
        "  train_dataframe = dataframe_labeled.loc[indexes_for_train]\n",
        "  test_dataframe = dataframe_labeled.copy()\n",
        "  for index in indexes_for_train:\n",
        "    test_dataframe = test_dataframe.drop(index)\n",
        "  result_test_dataframe = pd.concat([result_test_dataframe,test_dataframe])\n",
        "  result_train_dataframe = pd.concat([result_train_dataframe, train_dataframe])\n",
        "test_dataframe = result_test_dataframe.copy()\n",
        "train_dataframe = result_train_dataframe.copy()"
      ],
      "execution_count": 0,
      "outputs": []
    },
    {
      "cell_type": "code",
      "metadata": {
        "id": "Y84BbCSQhAzx",
        "colab_type": "code",
        "colab": {}
      },
      "source": [
        "for i in range(len(train_dataframe)):\n",
        "  train_dataframe.iloc[i,0] = train_dataframe.iloc[i,4]+'/'+train_dataframe.iloc[i,0]\n",
        "for i in range(len(test_dataframe)):\n",
        "  test_dataframe.iloc[i,0] = test_dataframe.iloc[i,4]+'/'+test_dataframe.iloc[i,0]"
      ],
      "execution_count": 0,
      "outputs": []
    },
    {
      "cell_type": "code",
      "metadata": {
        "id": "XBMg8M_b07RM",
        "colab_type": "code",
        "colab": {}
      },
      "source": [
        "def identity_block(input_tensor, kernel_size, filters, stage, block):\n",
        "    \"\"\"The identity block is the block that has no conv layer at shortcut.\n",
        "    # Arguments\n",
        "        input_tensor: input tensor\n",
        "        kernel_size: defualt 3, the kernel size of middle conv layer at main path\n",
        "        filters: list of integers, the filterss of 3 conv layer at main path\n",
        "        stage: integer, current stage label, used for generating layer names\n",
        "        block: 'a','b'..., current block label, used for generating layer names\n",
        "    # Returns\n",
        "        Output tensor for the block.\n",
        "    \"\"\"\n",
        "    filters1, filters2, filters3 = filters\n",
        "    if K.image_data_format() == 'channels_last':\n",
        "        bn_axis = 3\n",
        "    else:\n",
        "        bn_axis = 1\n",
        "    conv_name_base = 'res' + str(stage) + block + '_branch'\n",
        "    bn_name_base = 'bn' + str(stage) + block + '_branch'\n",
        "\n",
        "    x = Conv2D(filters1, (1, 1), name=conv_name_base + '2a')(input_tensor)\n",
        "    x = BatchNormalization(axis=bn_axis, name=bn_name_base + '2a')(x)\n",
        "    x = Activation('relu')(x)\n",
        "\n",
        "    x = Conv2D(filters2, kernel_size,\n",
        "               padding='same', name=conv_name_base + '2b')(x)\n",
        "    x = BatchNormalization(axis=bn_axis, name=bn_name_base + '2b')(x)\n",
        "    x = Activation('relu')(x)\n",
        "\n",
        "    x = Conv2D(filters3, (1, 1), name=conv_name_base + '2c')(x)\n",
        "    x = BatchNormalization(axis=bn_axis, name=bn_name_base + '2c')(x)\n",
        "\n",
        "    x = layers.add([x, input_tensor])\n",
        "    x = Activation('relu')(x)\n",
        "    return x\n",
        "  \n",
        "def conv_block(input_tensor, kernel_size, filters, stage, block, strides=(2, 2)):\n",
        "    \"\"\"conv_block is the block that has a conv layer at shortcut\n",
        "    # Arguments\n",
        "        input_tensor: input tensor\n",
        "        kernel_size: defualt 3, the kernel size of middle conv layer at main path\n",
        "        filters: list of integers, the filterss of 3 conv layer at main path\n",
        "        stage: integer, current stage label, used for generating layer names\n",
        "        block: 'a','b'..., current block label, used for generating layer names\n",
        "    # Returns\n",
        "        Output tensor for the block.\n",
        "    Note that from stage 3, the first conv layer at main path is with strides=(2,2)\n",
        "    And the shortcut should have strides=(2,2) as well\n",
        "    \"\"\"\n",
        "    filters1, filters2, filters3 = filters\n",
        "    if K.image_data_format() == 'channels_last':\n",
        "        bn_axis = 3\n",
        "    else:\n",
        "        bn_axis = 1\n",
        "    conv_name_base = 'res' + str(stage) + block + '_branch'\n",
        "    bn_name_base = 'bn' + str(stage) + block + '_branch'\n",
        "\n",
        "    x = Conv2D(filters1, (1, 1), strides=strides,\n",
        "               name=conv_name_base + '2a')(input_tensor)\n",
        "    x = BatchNormalization(axis=bn_axis, name=bn_name_base + '2a')(x)\n",
        "    x = Activation('relu')(x)\n",
        "\n",
        "    x = Conv2D(filters2, kernel_size, padding='same',\n",
        "               name=conv_name_base + '2b')(x)\n",
        "    x = BatchNormalization(axis=bn_axis, name=bn_name_base + '2b')(x)\n",
        "    x = Activation('relu')(x)\n",
        "\n",
        "    x = Conv2D(filters3, (1, 1), name=conv_name_base + '2c')(x)\n",
        "    x = BatchNormalization(axis=bn_axis, name=bn_name_base + '2c')(x)\n",
        "\n",
        "    shortcut = Conv2D(filters3, (1, 1), strides=strides,\n",
        "                      name=conv_name_base + '1')(input_tensor)\n",
        "    shortcut = BatchNormalization(axis=bn_axis, name=bn_name_base + '1')(shortcut)\n",
        "\n",
        "    x = layers.add([x, shortcut])\n",
        "    x = Activation('relu')(x)\n",
        "    return x\n",
        "  \n",
        "def ResNet50(include_top=True, weights=None,\n",
        "             input_tensor=None, input_shape=None,\n",
        "             pooling=None,\n",
        "             classes=1000):\n",
        "    \"\"\"Instantiates the ResNet50 architecture.\n",
        "    Optionally loads weights pre-trained\n",
        "    on ImageNet. Note that when using TensorFlow,\n",
        "    for best performance you should set\n",
        "    `image_data_format=\"channels_last\"` in your Keras config\n",
        "    at ~/.keras/keras.json.\n",
        "    The model and the weights are compatible with both\n",
        "    TensorFlow and Theano. The data format\n",
        "    convention used by the model is the one\n",
        "    specified in your Keras config file.\n",
        "    # Arguments\n",
        "        include_top: whether to include the fully-connected\n",
        "            layer at the top of the network.\n",
        "        weights: one of `None` (random initialization)\n",
        "            or \"imagenet\" (pre-training on ImageNet).\n",
        "        input_tensor: optional Keras tensor (i.e. output of `layers.Input()`)\n",
        "            to use as image input for the model.\n",
        "        input_shape: optional shape tuple, only to be specified\n",
        "            if `include_top` is False (otherwise the input shape\n",
        "            has to be `(224, 224, 3)` (with `channels_last` data format)\n",
        "            or `(3, 224, 244)` (with `channels_first` data format).\n",
        "            It should have exactly 3 inputs channels,\n",
        "            and width and height should be no smaller than 197.\n",
        "            E.g. `(200, 200, 3)` would be one valid value.\n",
        "        pooling: Optional pooling mode for feature extraction\n",
        "            when `include_top` is `False`.\n",
        "            - `None` means that the output of the model will be\n",
        "                the 4D tensor output of the\n",
        "                last convolutional layer.\n",
        "            - `avg` means that global average pooling\n",
        "                will be applied to the output of the\n",
        "                last convolutional layer, and thus\n",
        "                the output of the model will be a 2D tensor.\n",
        "            - `max` means that global max pooling will\n",
        "                be applied.\n",
        "        classes: optional number of classes to classify images\n",
        "            into, only to be specified if `include_top` is True, and\n",
        "            if no `weights` argument is specified.\n",
        "    # Returns\n",
        "        A Keras model instance.\n",
        "    # Raises\n",
        "        ValueError: in case of invalid argument for `weights`,\n",
        "            or invalid input shape.\n",
        "    \"\"\"\n",
        "    # Determine proper input shape\n",
        "    input_shape = _obtain_input_shape(input_shape,\n",
        "                                      default_size=224,\n",
        "                                      min_size=197,\n",
        "                                      data_format=K.image_data_format(),\n",
        "                                      require_flatten=True)\n",
        "\n",
        "    if input_tensor is None:\n",
        "        img_input = Input(shape=input_shape)\n",
        "    else:\n",
        "        if not K.is_keras_tensor(input_tensor):\n",
        "            img_input = Input(tensor=input_tensor, shape=input_shape)\n",
        "        else:\n",
        "            img_input = input_tensor\n",
        "    if K.image_data_format() == 'channels_last':\n",
        "        bn_axis = 3\n",
        "    else:\n",
        "        bn_axis = 1\n",
        "\n",
        "    x = ZeroPadding2D((3, 3))(img_input)\n",
        "    x = Conv2D(64, (7, 7), strides=(2, 2), name='conv1')(x)\n",
        "    x = BatchNormalization(axis=bn_axis, name='bn_conv1')(x)\n",
        "    x = Activation('relu')(x)\n",
        "    x = MaxPooling2D((3, 3), strides=(2, 2))(x)\n",
        "\n",
        "    x = conv_block(x, 3, [64, 64, 256], stage=2, block='a', strides=(1, 1))\n",
        "    x = identity_block(x, 3, [64, 64, 256], stage=2, block='b')\n",
        "    x = identity_block(x, 3, [64, 64, 256], stage=2, block='c')\n",
        "\n",
        "    x = conv_block(x, 3, [128, 128, 512], stage=3, block='a')\n",
        "    x = identity_block(x, 3, [128, 128, 512], stage=3, block='b')\n",
        "    x = identity_block(x, 3, [128, 128, 512], stage=3, block='c')\n",
        "    x = identity_block(x, 3, [128, 128, 512], stage=3, block='d')\n",
        "\n",
        "    x = conv_block(x, 3, [256, 256, 1024], stage=4, block='a')\n",
        "    x = identity_block(x, 3, [256, 256, 1024], stage=4, block='b')\n",
        "    x = identity_block(x, 3, [256, 256, 1024], stage=4, block='c')\n",
        "    x = identity_block(x, 3, [256, 256, 1024], stage=4, block='d')\n",
        "    x = identity_block(x, 3, [256, 256, 1024], stage=4, block='e')\n",
        "    x = identity_block(x, 3, [256, 256, 1024], stage=4, block='f')\n",
        "\n",
        "    x = conv_block(x, 3, [512, 512, 2048], stage=5, block='a')\n",
        "    x = identity_block(x, 3, [512, 512, 2048], stage=5, block='b')\n",
        "    x = identity_block(x, 3, [512, 512, 2048], stage=5, block='c')\n",
        "\n",
        "    x = AveragePooling2D((7, 7), name='avg_pool')(x)\n",
        "\n",
        "    if include_top:\n",
        "        x = Flatten()(x)\n",
        "        x = Dense(classes, activation='softmax', name='fc1000')(x)\n",
        "    else:\n",
        "        if pooling == 'avg':\n",
        "            x = GlobalAveragePooling2D()(x)\n",
        "        elif pooling == 'max':\n",
        "            x = GlobalMaxPooling2D()(x)\n",
        "\n",
        "    # Ensure that the model takes into account\n",
        "    # any potential predecessors of `input_tensor`.\n",
        "    if input_tensor is not None:\n",
        "        inputs = get_source_inputs(input_tensor)\n",
        "    else:\n",
        "        inputs = img_input\n",
        "    # Create model.\n",
        "    model = Model(inputs, x, name='resnet50')\n",
        "\n",
        "    return model"
      ],
      "execution_count": 0,
      "outputs": []
    },
    {
      "cell_type": "code",
      "metadata": {
        "id": "VgSH76glWe9x",
        "colab_type": "code",
        "outputId": "b543c410-a14f-4384-c602-55ff2ae57b1a",
        "colab": {
          "base_uri": "https://localhost:8080/",
          "height": 498
        }
      },
      "source": [
        "resnet50_model = ResNet50(input_tensor=None, input_shape=None,\n",
        "             pooling=None,\n",
        "             classes=4)"
      ],
      "execution_count": 0,
      "outputs": [
        {
          "output_type": "stream",
          "text": [
            "WARNING:tensorflow:From /usr/local/lib/python3.6/dist-packages/keras/backend/tensorflow_backend.py:66: The name tf.get_default_graph is deprecated. Please use tf.compat.v1.get_default_graph instead.\n",
            "\n",
            "WARNING:tensorflow:From /usr/local/lib/python3.6/dist-packages/keras/backend/tensorflow_backend.py:541: The name tf.placeholder is deprecated. Please use tf.compat.v1.placeholder instead.\n",
            "\n",
            "WARNING:tensorflow:From /usr/local/lib/python3.6/dist-packages/keras/backend/tensorflow_backend.py:4432: The name tf.random_uniform is deprecated. Please use tf.random.uniform instead.\n",
            "\n",
            "WARNING:tensorflow:From /usr/local/lib/python3.6/dist-packages/keras/backend/tensorflow_backend.py:190: The name tf.get_default_session is deprecated. Please use tf.compat.v1.get_default_session instead.\n",
            "\n",
            "WARNING:tensorflow:From /usr/local/lib/python3.6/dist-packages/keras/backend/tensorflow_backend.py:197: The name tf.ConfigProto is deprecated. Please use tf.compat.v1.ConfigProto instead.\n",
            "\n",
            "WARNING:tensorflow:From /usr/local/lib/python3.6/dist-packages/keras/backend/tensorflow_backend.py:203: The name tf.Session is deprecated. Please use tf.compat.v1.Session instead.\n",
            "\n",
            "WARNING:tensorflow:From /usr/local/lib/python3.6/dist-packages/keras/backend/tensorflow_backend.py:207: The name tf.global_variables is deprecated. Please use tf.compat.v1.global_variables instead.\n",
            "\n",
            "WARNING:tensorflow:From /usr/local/lib/python3.6/dist-packages/keras/backend/tensorflow_backend.py:216: The name tf.is_variable_initialized is deprecated. Please use tf.compat.v1.is_variable_initialized instead.\n",
            "\n",
            "WARNING:tensorflow:From /usr/local/lib/python3.6/dist-packages/keras/backend/tensorflow_backend.py:223: The name tf.variables_initializer is deprecated. Please use tf.compat.v1.variables_initializer instead.\n",
            "\n",
            "WARNING:tensorflow:From /usr/local/lib/python3.6/dist-packages/keras/backend/tensorflow_backend.py:2041: The name tf.nn.fused_batch_norm is deprecated. Please use tf.compat.v1.nn.fused_batch_norm instead.\n",
            "\n",
            "WARNING:tensorflow:From /usr/local/lib/python3.6/dist-packages/keras/backend/tensorflow_backend.py:148: The name tf.placeholder_with_default is deprecated. Please use tf.compat.v1.placeholder_with_default instead.\n",
            "\n",
            "WARNING:tensorflow:From /usr/local/lib/python3.6/dist-packages/keras/backend/tensorflow_backend.py:4267: The name tf.nn.max_pool is deprecated. Please use tf.nn.max_pool2d instead.\n",
            "\n",
            "WARNING:tensorflow:From /usr/local/lib/python3.6/dist-packages/keras/backend/tensorflow_backend.py:4271: The name tf.nn.avg_pool is deprecated. Please use tf.nn.avg_pool2d instead.\n",
            "\n"
          ],
          "name": "stdout"
        }
      ]
    },
    {
      "cell_type": "code",
      "metadata": {
        "id": "t3QTi30f3fd_",
        "colab_type": "code",
        "outputId": "4cbb5c2a-b954-4c3b-8009-9bf865cba22c",
        "colab": {
          "base_uri": "https://localhost:8080/",
          "height": 161
        }
      },
      "source": [
        "opt = Adam(lr=INIT_LR, decay=INIT_LR / EPOCHS)\n",
        "resnet50_model.compile(optimizer=opt,\n",
        "              loss='binary_crossentropy',\n",
        "              metrics=['accuracy'])"
      ],
      "execution_count": 0,
      "outputs": [
        {
          "output_type": "stream",
          "text": [
            "WARNING:tensorflow:From /usr/local/lib/python3.6/dist-packages/keras/optimizers.py:793: The name tf.train.Optimizer is deprecated. Please use tf.compat.v1.train.Optimizer instead.\n",
            "\n",
            "WARNING:tensorflow:From /usr/local/lib/python3.6/dist-packages/keras/backend/tensorflow_backend.py:3657: The name tf.log is deprecated. Please use tf.math.log instead.\n",
            "\n",
            "WARNING:tensorflow:From /usr/local/lib/python3.6/dist-packages/tensorflow_core/python/ops/nn_impl.py:183: where (from tensorflow.python.ops.array_ops) is deprecated and will be removed in a future version.\n",
            "Instructions for updating:\n",
            "Use tf.where in 2.0, which has the same broadcast rule as np.where\n"
          ],
          "name": "stdout"
        }
      ]
    },
    {
      "cell_type": "code",
      "metadata": {
        "id": "DNCdmkPrr7pM",
        "colab_type": "code",
        "outputId": "ed2c897b-3ea8-4745-8966-3667a3d88088",
        "colab": {
          "base_uri": "https://localhost:8080/",
          "height": 52
        }
      },
      "source": [
        "train_df = train_dataframe\n",
        "valid_df = test_dataframe\n",
        "\n",
        "train_datagen = ImageDataGenerator(\n",
        "        rescale=1./255,\n",
        "        horizontal_flip=True,\n",
        "        vertical_flip=True,\n",
        "        rotation_range=90)\n",
        "\n",
        "test_datagen = ImageDataGenerator(rescale=1./255)\n",
        "\n",
        "train_generator = train_datagen.flow_from_dataframe(\n",
        "        dataframe=train_df,\n",
        "        directory=dir_with_blurred_images,\n",
        "        x_col=\"0\",\n",
        "        y_col=\"1\",\n",
        "        target_size=(224, 224),\n",
        "        batch_size=BS,\n",
        "        class_mode='categorical')\n",
        "\n",
        "validation_generator = test_datagen.flow_from_dataframe(\n",
        "        dataframe=valid_df,\n",
        "        directory=dir_with_blurred_images,\n",
        "        x_col=\"0\",\n",
        "        y_col=\"1\",\n",
        "        target_size=(224, 224),\n",
        "        batch_size=BS,\n",
        "        class_mode='categorical')"
      ],
      "execution_count": 0,
      "outputs": [
        {
          "output_type": "stream",
          "text": [
            "Found 2261 validated image filenames belonging to 4 classes.\n",
            "Found 566 validated image filenames belonging to 4 classes.\n"
          ],
          "name": "stdout"
        }
      ]
    },
    {
      "cell_type": "code",
      "metadata": {
        "id": "xrWuwPtD7crO",
        "colab_type": "code",
        "colab": {}
      },
      "source": [
        "filepath_model_to_save = dir_with_blurred_images+'/weights-resnet50-blur-classification-{epoch:02d}-{val_acc:.2f}.hdf5'\n",
        "checkpoint = ModelCheckpoint(filepath_model_to_save, monitor='val_acc', verbose=1, save_best_only=True, mode='max')\n",
        "callbacks_list = [checkpoint]"
      ],
      "execution_count": 0,
      "outputs": []
    },
    {
      "cell_type": "markdown",
      "metadata": {
        "id": "BmPSI6uxP2l-",
        "colab_type": "text"
      },
      "source": [
        "# Results of training on blurred images from 20 original images"
      ]
    },
    {
      "cell_type": "code",
      "metadata": {
        "id": "E-u2ZZwvL2La",
        "colab_type": "code",
        "colab": {}
      },
      "source": [
        "from keras.models import Sequential\n",
        "from keras.layers import Dense\n",
        "import pandas as pd\n",
        "import cv2\n",
        "from sklearn.utils import shuffle\n",
        "from keras.preprocessing.image import img_to_array\n",
        "import numpy as np\n",
        "from skimage.color import rgb2gray, gray2rgb\n",
        "import random\n",
        "from sklearn.preprocessing import MultiLabelBinarizer\n",
        "from sklearn.model_selection import train_test_split\n",
        "from keras.preprocessing.image import ImageDataGenerator\n",
        "from tqdm import tqdm_notebook\n",
        "import matplotlib.pyplot as plt\n",
        "\n",
        "\n",
        "import math\n",
        "from keras.optimizers import Adam, SGD\n",
        "\n",
        "import shutil\n",
        "\n",
        "from keras.callbacks import ModelCheckpoint\n",
        "\n",
        "import numpy as np\n",
        "from keras.layers import Input\n",
        "from keras import layers\n",
        "from keras.layers import Dense\n",
        "from keras.layers import Activation\n",
        "from keras.layers import Flatten\n",
        "from keras.layers import Conv2D\n",
        "from keras.layers import MaxPooling2D\n",
        "from keras.layers import GlobalMaxPooling2D\n",
        "from keras.layers import ZeroPadding2D\n",
        "from keras.layers import AveragePooling2D\n",
        "from keras.layers import GlobalAveragePooling2D\n",
        "from keras.layers import BatchNormalization\n",
        "from keras.layers.core import Dropout\n",
        "from keras.models import Model\n",
        "from keras.preprocessing import image\n",
        "import keras.backend as K\n",
        "from keras.utils import layer_utils\n",
        "from keras.utils.data_utils import get_file\n",
        "from keras.applications.imagenet_utils import decode_predictions\n",
        "from keras.applications.imagenet_utils import preprocess_input\n",
        "from keras_applications.imagenet_utils import _obtain_input_shape\n",
        "from keras.engine.topology import get_source_inputs\n",
        "from PIL import Image\n",
        "\n",
        "from keras import backend as K"
      ],
      "execution_count": 0,
      "outputs": []
    },
    {
      "cell_type": "code",
      "metadata": {
        "id": "DmL926tbJPZs",
        "colab_type": "code",
        "colab": {
          "base_uri": "https://localhost:8080/",
          "height": 34
        },
        "outputId": "8b482abd-0424-4443-cd31-302d162ea481"
      },
      "source": [
        "from google.colab import drive\n",
        "drive.mount('/content/drive')"
      ],
      "execution_count": 46,
      "outputs": [
        {
          "output_type": "stream",
          "text": [
            "Drive already mounted at /content/drive; to attempt to forcibly remount, call drive.mount(\"/content/drive\", force_remount=True).\n"
          ],
          "name": "stdout"
        }
      ]
    },
    {
      "cell_type": "code",
      "metadata": {
        "id": "kGL5163lJPTi",
        "colab_type": "code",
        "colab": {
          "base_uri": "https://localhost:8080/",
          "height": 425
        },
        "outputId": "d50477b9-e208-4145-a427-2638ef765b4a"
      },
      "source": [
        "dir_with_blurred_images = '/content/drive/My Drive/Datasets/Dataset_of_blurred_images'\n",
        "dataframe = pd.read_csv(dir_with_blurred_images+'/dataset_csv.csv')"
      ],
      "execution_count": 49,
      "outputs": [
        {
          "output_type": "error",
          "ename": "FileNotFoundError",
          "evalue": "ignored",
          "traceback": [
            "\u001b[0;31m---------------------------------------------------------------------------\u001b[0m",
            "\u001b[0;31mFileNotFoundError\u001b[0m                         Traceback (most recent call last)",
            "\u001b[0;32m<ipython-input-49-23fc804a23d4>\u001b[0m in \u001b[0;36m<module>\u001b[0;34m()\u001b[0m\n\u001b[1;32m      1\u001b[0m \u001b[0mdir_with_blurred_images\u001b[0m \u001b[0;34m=\u001b[0m \u001b[0;34m'/content/drive/My Drive/Datasets/Dataset_of_blurred_images'\u001b[0m\u001b[0;34m\u001b[0m\u001b[0;34m\u001b[0m\u001b[0m\n\u001b[0;32m----> 2\u001b[0;31m \u001b[0mdataframe\u001b[0m \u001b[0;34m=\u001b[0m \u001b[0mpd\u001b[0m\u001b[0;34m.\u001b[0m\u001b[0mread_csv\u001b[0m\u001b[0;34m(\u001b[0m\u001b[0mdir_with_blurred_images\u001b[0m\u001b[0;34m+\u001b[0m\u001b[0;34m'/dataset_csv.csv'\u001b[0m\u001b[0;34m)\u001b[0m\u001b[0;34m\u001b[0m\u001b[0;34m\u001b[0m\u001b[0m\n\u001b[0m",
            "\u001b[0;32m/usr/local/lib/python3.6/dist-packages/pandas/io/parsers.py\u001b[0m in \u001b[0;36mparser_f\u001b[0;34m(filepath_or_buffer, sep, delimiter, header, names, index_col, usecols, squeeze, prefix, mangle_dupe_cols, dtype, engine, converters, true_values, false_values, skipinitialspace, skiprows, skipfooter, nrows, na_values, keep_default_na, na_filter, verbose, skip_blank_lines, parse_dates, infer_datetime_format, keep_date_col, date_parser, dayfirst, cache_dates, iterator, chunksize, compression, thousands, decimal, lineterminator, quotechar, quoting, doublequote, escapechar, comment, encoding, dialect, error_bad_lines, warn_bad_lines, delim_whitespace, low_memory, memory_map, float_precision)\u001b[0m\n\u001b[1;32m    683\u001b[0m         )\n\u001b[1;32m    684\u001b[0m \u001b[0;34m\u001b[0m\u001b[0m\n\u001b[0;32m--> 685\u001b[0;31m         \u001b[0;32mreturn\u001b[0m \u001b[0m_read\u001b[0m\u001b[0;34m(\u001b[0m\u001b[0mfilepath_or_buffer\u001b[0m\u001b[0;34m,\u001b[0m \u001b[0mkwds\u001b[0m\u001b[0;34m)\u001b[0m\u001b[0;34m\u001b[0m\u001b[0;34m\u001b[0m\u001b[0m\n\u001b[0m\u001b[1;32m    686\u001b[0m \u001b[0;34m\u001b[0m\u001b[0m\n\u001b[1;32m    687\u001b[0m     \u001b[0mparser_f\u001b[0m\u001b[0;34m.\u001b[0m\u001b[0m__name__\u001b[0m \u001b[0;34m=\u001b[0m \u001b[0mname\u001b[0m\u001b[0;34m\u001b[0m\u001b[0;34m\u001b[0m\u001b[0m\n",
            "\u001b[0;32m/usr/local/lib/python3.6/dist-packages/pandas/io/parsers.py\u001b[0m in \u001b[0;36m_read\u001b[0;34m(filepath_or_buffer, kwds)\u001b[0m\n\u001b[1;32m    455\u001b[0m \u001b[0;34m\u001b[0m\u001b[0m\n\u001b[1;32m    456\u001b[0m     \u001b[0;31m# Create the parser.\u001b[0m\u001b[0;34m\u001b[0m\u001b[0;34m\u001b[0m\u001b[0;34m\u001b[0m\u001b[0m\n\u001b[0;32m--> 457\u001b[0;31m     \u001b[0mparser\u001b[0m \u001b[0;34m=\u001b[0m \u001b[0mTextFileReader\u001b[0m\u001b[0;34m(\u001b[0m\u001b[0mfp_or_buf\u001b[0m\u001b[0;34m,\u001b[0m \u001b[0;34m**\u001b[0m\u001b[0mkwds\u001b[0m\u001b[0;34m)\u001b[0m\u001b[0;34m\u001b[0m\u001b[0;34m\u001b[0m\u001b[0m\n\u001b[0m\u001b[1;32m    458\u001b[0m \u001b[0;34m\u001b[0m\u001b[0m\n\u001b[1;32m    459\u001b[0m     \u001b[0;32mif\u001b[0m \u001b[0mchunksize\u001b[0m \u001b[0;32mor\u001b[0m \u001b[0miterator\u001b[0m\u001b[0;34m:\u001b[0m\u001b[0;34m\u001b[0m\u001b[0;34m\u001b[0m\u001b[0m\n",
            "\u001b[0;32m/usr/local/lib/python3.6/dist-packages/pandas/io/parsers.py\u001b[0m in \u001b[0;36m__init__\u001b[0;34m(self, f, engine, **kwds)\u001b[0m\n\u001b[1;32m    893\u001b[0m             \u001b[0mself\u001b[0m\u001b[0;34m.\u001b[0m\u001b[0moptions\u001b[0m\u001b[0;34m[\u001b[0m\u001b[0;34m\"has_index_names\"\u001b[0m\u001b[0;34m]\u001b[0m \u001b[0;34m=\u001b[0m \u001b[0mkwds\u001b[0m\u001b[0;34m[\u001b[0m\u001b[0;34m\"has_index_names\"\u001b[0m\u001b[0;34m]\u001b[0m\u001b[0;34m\u001b[0m\u001b[0;34m\u001b[0m\u001b[0m\n\u001b[1;32m    894\u001b[0m \u001b[0;34m\u001b[0m\u001b[0m\n\u001b[0;32m--> 895\u001b[0;31m         \u001b[0mself\u001b[0m\u001b[0;34m.\u001b[0m\u001b[0m_make_engine\u001b[0m\u001b[0;34m(\u001b[0m\u001b[0mself\u001b[0m\u001b[0;34m.\u001b[0m\u001b[0mengine\u001b[0m\u001b[0;34m)\u001b[0m\u001b[0;34m\u001b[0m\u001b[0;34m\u001b[0m\u001b[0m\n\u001b[0m\u001b[1;32m    896\u001b[0m \u001b[0;34m\u001b[0m\u001b[0m\n\u001b[1;32m    897\u001b[0m     \u001b[0;32mdef\u001b[0m \u001b[0mclose\u001b[0m\u001b[0;34m(\u001b[0m\u001b[0mself\u001b[0m\u001b[0;34m)\u001b[0m\u001b[0;34m:\u001b[0m\u001b[0;34m\u001b[0m\u001b[0;34m\u001b[0m\u001b[0m\n",
            "\u001b[0;32m/usr/local/lib/python3.6/dist-packages/pandas/io/parsers.py\u001b[0m in \u001b[0;36m_make_engine\u001b[0;34m(self, engine)\u001b[0m\n\u001b[1;32m   1133\u001b[0m     \u001b[0;32mdef\u001b[0m \u001b[0m_make_engine\u001b[0m\u001b[0;34m(\u001b[0m\u001b[0mself\u001b[0m\u001b[0;34m,\u001b[0m \u001b[0mengine\u001b[0m\u001b[0;34m=\u001b[0m\u001b[0;34m\"c\"\u001b[0m\u001b[0;34m)\u001b[0m\u001b[0;34m:\u001b[0m\u001b[0;34m\u001b[0m\u001b[0;34m\u001b[0m\u001b[0m\n\u001b[1;32m   1134\u001b[0m         \u001b[0;32mif\u001b[0m \u001b[0mengine\u001b[0m \u001b[0;34m==\u001b[0m \u001b[0;34m\"c\"\u001b[0m\u001b[0;34m:\u001b[0m\u001b[0;34m\u001b[0m\u001b[0;34m\u001b[0m\u001b[0m\n\u001b[0;32m-> 1135\u001b[0;31m             \u001b[0mself\u001b[0m\u001b[0;34m.\u001b[0m\u001b[0m_engine\u001b[0m \u001b[0;34m=\u001b[0m \u001b[0mCParserWrapper\u001b[0m\u001b[0;34m(\u001b[0m\u001b[0mself\u001b[0m\u001b[0;34m.\u001b[0m\u001b[0mf\u001b[0m\u001b[0;34m,\u001b[0m \u001b[0;34m**\u001b[0m\u001b[0mself\u001b[0m\u001b[0;34m.\u001b[0m\u001b[0moptions\u001b[0m\u001b[0;34m)\u001b[0m\u001b[0;34m\u001b[0m\u001b[0;34m\u001b[0m\u001b[0m\n\u001b[0m\u001b[1;32m   1136\u001b[0m         \u001b[0;32melse\u001b[0m\u001b[0;34m:\u001b[0m\u001b[0;34m\u001b[0m\u001b[0;34m\u001b[0m\u001b[0m\n\u001b[1;32m   1137\u001b[0m             \u001b[0;32mif\u001b[0m \u001b[0mengine\u001b[0m \u001b[0;34m==\u001b[0m \u001b[0;34m\"python\"\u001b[0m\u001b[0;34m:\u001b[0m\u001b[0;34m\u001b[0m\u001b[0;34m\u001b[0m\u001b[0m\n",
            "\u001b[0;32m/usr/local/lib/python3.6/dist-packages/pandas/io/parsers.py\u001b[0m in \u001b[0;36m__init__\u001b[0;34m(self, src, **kwds)\u001b[0m\n\u001b[1;32m   1915\u001b[0m         \u001b[0mkwds\u001b[0m\u001b[0;34m[\u001b[0m\u001b[0;34m\"usecols\"\u001b[0m\u001b[0;34m]\u001b[0m \u001b[0;34m=\u001b[0m \u001b[0mself\u001b[0m\u001b[0;34m.\u001b[0m\u001b[0musecols\u001b[0m\u001b[0;34m\u001b[0m\u001b[0;34m\u001b[0m\u001b[0m\n\u001b[1;32m   1916\u001b[0m \u001b[0;34m\u001b[0m\u001b[0m\n\u001b[0;32m-> 1917\u001b[0;31m         \u001b[0mself\u001b[0m\u001b[0;34m.\u001b[0m\u001b[0m_reader\u001b[0m \u001b[0;34m=\u001b[0m \u001b[0mparsers\u001b[0m\u001b[0;34m.\u001b[0m\u001b[0mTextReader\u001b[0m\u001b[0;34m(\u001b[0m\u001b[0msrc\u001b[0m\u001b[0;34m,\u001b[0m \u001b[0;34m**\u001b[0m\u001b[0mkwds\u001b[0m\u001b[0;34m)\u001b[0m\u001b[0;34m\u001b[0m\u001b[0;34m\u001b[0m\u001b[0m\n\u001b[0m\u001b[1;32m   1918\u001b[0m         \u001b[0mself\u001b[0m\u001b[0;34m.\u001b[0m\u001b[0munnamed_cols\u001b[0m \u001b[0;34m=\u001b[0m \u001b[0mself\u001b[0m\u001b[0;34m.\u001b[0m\u001b[0m_reader\u001b[0m\u001b[0;34m.\u001b[0m\u001b[0munnamed_cols\u001b[0m\u001b[0;34m\u001b[0m\u001b[0;34m\u001b[0m\u001b[0m\n\u001b[1;32m   1919\u001b[0m \u001b[0;34m\u001b[0m\u001b[0m\n",
            "\u001b[0;32mpandas/_libs/parsers.pyx\u001b[0m in \u001b[0;36mpandas._libs.parsers.TextReader.__cinit__\u001b[0;34m()\u001b[0m\n",
            "\u001b[0;32mpandas/_libs/parsers.pyx\u001b[0m in \u001b[0;36mpandas._libs.parsers.TextReader._setup_parser_source\u001b[0;34m()\u001b[0m\n",
            "\u001b[0;31mFileNotFoundError\u001b[0m: [Errno 2] File b'/content/drive/My Drive/Datasets/Dataset_of_blurred_images/dataset_csv.csv' does not exist: b'/content/drive/My Drive/Datasets/Dataset_of_blurred_images/dataset_csv.csv'"
          ]
        }
      ]
    },
    {
      "cell_type": "code",
      "metadata": {
        "id": "PJT4IIWRJf9E",
        "colab_type": "code",
        "colab": {}
      },
      "source": [
        "EPOCHS = 200\n",
        "INIT_LR = 1e-5 # initial learning rate\n",
        "BS = 64 # batch size\n",
        "IMAGE_DIMS = (512, 512, 1) "
      ],
      "execution_count": 0,
      "outputs": []
    },
    {
      "cell_type": "code",
      "metadata": {
        "id": "kngkHzXxJf2x",
        "colab_type": "code",
        "colab": {}
      },
      "source": [
        "fraction_of_train_set = 0.8\n",
        "result_test_dataframe = pd.DataFrame({})\n",
        "result_train_dataframe = pd.DataFrame({})\n",
        "for label in np.unique(np.array(dataframe.iloc[:,1].tolist())):\n",
        "  dataframe_labeled = dataframe.loc[dataframe['1']==label]\n",
        "  number_of_samples = fraction_of_train_set*len(dataframe_labeled)\n",
        "  indexes_for_train = random.sample(list(dataframe_labeled.index), int(number_of_samples))\n",
        "  train_dataframe = dataframe_labeled.loc[indexes_for_train]\n",
        "  test_dataframe = dataframe_labeled.copy()\n",
        "  for index in indexes_for_train:\n",
        "    test_dataframe = test_dataframe.drop(index)\n",
        "  result_test_dataframe = pd.concat([result_test_dataframe,test_dataframe])\n",
        "  result_train_dataframe = pd.concat([result_train_dataframe, train_dataframe])\n",
        "test_dataframe = result_test_dataframe.copy()\n",
        "train_dataframe = result_train_dataframe.copy()\n",
        "\n",
        "for i in range(len(train_dataframe)):\n",
        "  train_dataframe.iloc[i,0] = train_dataframe.iloc[i,4]+'/'+train_dataframe.iloc[i,0]\n",
        "for i in range(len(test_dataframe)):\n",
        "  test_dataframe.iloc[i,0] = test_dataframe.iloc[i,4]+'/'+test_dataframe.iloc[i,0]"
      ],
      "execution_count": 0,
      "outputs": []
    },
    {
      "cell_type": "code",
      "metadata": {
        "id": "RaF08_ffJfxs",
        "colab_type": "code",
        "colab": {}
      },
      "source": [
        "def identity_block(input_tensor, kernel_size, filters, stage, block):\n",
        "    \"\"\"The identity block is the block that has no conv layer at shortcut.\n",
        "    # Arguments\n",
        "        input_tensor: input tensor\n",
        "        kernel_size: defualt 3, the kernel size of middle conv layer at main path\n",
        "        filters: list of integers, the filterss of 3 conv layer at main path\n",
        "        stage: integer, current stage label, used for generating layer names\n",
        "        block: 'a','b'..., current block label, used for generating layer names\n",
        "    # Returns\n",
        "        Output tensor for the block.\n",
        "    \"\"\"\n",
        "    filters1, filters2, filters3 = filters\n",
        "    if K.image_data_format() == 'channels_last':\n",
        "        bn_axis = 3\n",
        "    else:\n",
        "        bn_axis = 1\n",
        "    conv_name_base = 'res' + str(stage) + block + '_branch'\n",
        "    bn_name_base = 'bn' + str(stage) + block + '_branch'\n",
        "\n",
        "    x = Conv2D(filters1, (1, 1), name=conv_name_base + '2a')(input_tensor)\n",
        "    x = BatchNormalization(axis=bn_axis, name=bn_name_base + '2a')(x)\n",
        "    x = Activation('relu')(x)\n",
        "\n",
        "    x = Conv2D(filters2, kernel_size,\n",
        "               padding='same', name=conv_name_base + '2b')(x)\n",
        "    x = BatchNormalization(axis=bn_axis, name=bn_name_base + '2b')(x)\n",
        "    x = Activation('relu')(x)\n",
        "\n",
        "    x = Conv2D(filters3, (1, 1), name=conv_name_base + '2c')(x)\n",
        "    x = BatchNormalization(axis=bn_axis, name=bn_name_base + '2c')(x)\n",
        "\n",
        "    x = layers.add([x, input_tensor])\n",
        "    x = Activation('relu')(x)\n",
        "    return x\n",
        "  \n",
        "def conv_block(input_tensor, kernel_size, filters, stage, block, strides=(2, 2)):\n",
        "    \"\"\"conv_block is the block that has a conv layer at shortcut\n",
        "    # Arguments\n",
        "        input_tensor: input tensor\n",
        "        kernel_size: defualt 3, the kernel size of middle conv layer at main path\n",
        "        filters: list of integers, the filterss of 3 conv layer at main path\n",
        "        stage: integer, current stage label, used for generating layer names\n",
        "        block: 'a','b'..., current block label, used for generating layer names\n",
        "    # Returns\n",
        "        Output tensor for the block.\n",
        "    Note that from stage 3, the first conv layer at main path is with strides=(2,2)\n",
        "    And the shortcut should have strides=(2,2) as well\n",
        "    \"\"\"\n",
        "    filters1, filters2, filters3 = filters\n",
        "    if K.image_data_format() == 'channels_last':\n",
        "        bn_axis = 3\n",
        "    else:\n",
        "        bn_axis = 1\n",
        "    conv_name_base = 'res' + str(stage) + block + '_branch'\n",
        "    bn_name_base = 'bn' + str(stage) + block + '_branch'\n",
        "\n",
        "    x = Conv2D(filters1, (1, 1), strides=strides,\n",
        "               name=conv_name_base + '2a')(input_tensor)\n",
        "    x = BatchNormalization(axis=bn_axis, name=bn_name_base + '2a')(x)\n",
        "    x = Activation('relu')(x)\n",
        "\n",
        "    x = Conv2D(filters2, kernel_size, padding='same',\n",
        "               name=conv_name_base + '2b')(x)\n",
        "    x = BatchNormalization(axis=bn_axis, name=bn_name_base + '2b')(x)\n",
        "    x = Activation('relu')(x)\n",
        "\n",
        "    x = Conv2D(filters3, (1, 1), name=conv_name_base + '2c')(x)\n",
        "    x = BatchNormalization(axis=bn_axis, name=bn_name_base + '2c')(x)\n",
        "\n",
        "    shortcut = Conv2D(filters3, (1, 1), strides=strides,\n",
        "                      name=conv_name_base + '1')(input_tensor)\n",
        "    shortcut = BatchNormalization(axis=bn_axis, name=bn_name_base + '1')(shortcut)\n",
        "\n",
        "    x = layers.add([x, shortcut])\n",
        "    x = Activation('relu')(x)\n",
        "    return x\n",
        "  \n",
        "def ResNet50_for_spectres(include_top=True, weights=None,\n",
        "             input_tensor=None, input_shape=None,\n",
        "             pooling=None,\n",
        "             classes=1000):\n",
        "    \"\"\"Instantiates the ResNet50 architecture.\n",
        "    Optionally loads weights pre-trained\n",
        "    on ImageNet. Note that when using TensorFlow,\n",
        "    for best performance you should set\n",
        "    `image_data_format=\"channels_last\"` in your Keras config\n",
        "    at ~/.keras/keras.json.\n",
        "    The model and the weights are compatible with both\n",
        "    TensorFlow and Theano. The data format\n",
        "    convention used by the model is the one\n",
        "    specified in your Keras config file.\n",
        "    # Arguments\n",
        "        include_top: whether to include the fully-connected\n",
        "            layer at the top of the network.\n",
        "        weights: one of `None` (random initialization)\n",
        "            or \"imagenet\" (pre-training on ImageNet).\n",
        "        input_tensor: optional Keras tensor (i.e. output of `layers.Input()`)\n",
        "            to use as image input for the model.\n",
        "        input_shape: optional shape tuple, only to be specified\n",
        "            if `include_top` is False (otherwise the input shape\n",
        "            has to be `(224, 224, 3)` (with `channels_last` data format)\n",
        "            or `(3, 224, 244)` (with `channels_first` data format).\n",
        "            It should have exactly 3 inputs channels,\n",
        "            and width and height should be no smaller than 197.\n",
        "            E.g. `(200, 200, 3)` would be one valid value.\n",
        "        pooling: Optional pooling mode for feature extraction\n",
        "            when `include_top` is `False`.\n",
        "            - `None` means that the output of the model will be\n",
        "                the 4D tensor output of the\n",
        "                last convolutional layer.\n",
        "            - `avg` means that global average pooling\n",
        "                will be applied to the output of the\n",
        "                last convolutional layer, and thus\n",
        "                the output of the model will be a 2D tensor.\n",
        "            - `max` means that global max pooling will\n",
        "                be applied.\n",
        "        classes: optional number of classes to classify images\n",
        "            into, only to be specified if `include_top` is True, and\n",
        "            if no `weights` argument is specified.\n",
        "    # Returns\n",
        "        A Keras model instance.\n",
        "    # Raises\n",
        "        ValueError: in case of invalid argument for `weights`,\n",
        "            or invalid input shape.\n",
        "    \"\"\"\n",
        "    # Determine proper input shape\n",
        "    input_shape = _obtain_input_shape(input_shape,\n",
        "                                      default_size=224,\n",
        "                                      min_size=197,\n",
        "                                      data_format=K.image_data_format(),\n",
        "                                      require_flatten=True)\n",
        "\n",
        "    if input_tensor is None:\n",
        "        img_input = Input(shape=input_shape)\n",
        "    else:\n",
        "        if not K.is_keras_tensor(input_tensor):\n",
        "            img_input = Input(tensor=input_tensor, shape=input_shape)\n",
        "        else:\n",
        "            img_input = input_tensor\n",
        "    if K.image_data_format() == 'channels_last':\n",
        "        bn_axis = 3\n",
        "    else:\n",
        "        bn_axis = 1\n",
        "\n",
        "    x = ZeroPadding2D((3, 3))(img_input)\n",
        "    x = Conv2D(64, (7, 7), strides=(2, 2), name='conv1')(x)\n",
        "    x = BatchNormalization(axis=bn_axis, name='bn_conv1')(x)\n",
        "    x = Activation('relu')(x)\n",
        "    x = MaxPooling2D((3, 3), strides=(2, 2))(x)\n",
        "\n",
        "    x = conv_block(x, 3, [64, 64, 256], stage=2, block='a', strides=(1, 1))\n",
        "    x = identity_block(x, 3, [64, 64, 256], stage=2, block='b')\n",
        "    x = identity_block(x, 3, [64, 64, 256], stage=2, block='c')\n",
        "\n",
        "    x = conv_block(x, 3, [128, 128, 512], stage=3, block='a')\n",
        "    x = identity_block(x, 3, [128, 128, 512], stage=3, block='b')\n",
        "    x = identity_block(x, 3, [128, 128, 512], stage=3, block='c')\n",
        "\n",
        "    x = conv_block(x, 3, [256, 256, 1024], stage=4, block='a')\n",
        "    x = identity_block(x, 3, [256, 256, 1024], stage=4, block='b')\n",
        "    x = identity_block(x, 3, [256, 256, 1024], stage=4, block='c')\n",
        "\n",
        "    x = AveragePooling2D((7, 7), name='avg_pool')(x)\n",
        "\n",
        "    if include_top:\n",
        "        x = Flatten()(x)\n",
        "        x = Dense(classes, activation='softmax', name='fc1000')(x)\n",
        "    else:\n",
        "        if pooling == 'avg':\n",
        "            x = GlobalAveragePooling2D()(x)\n",
        "        elif pooling == 'max':\n",
        "            x = GlobalMaxPooling2D()(x)\n",
        "\n",
        "    # Ensure that the model takes into account\n",
        "    # any potential predecessors of `input_tensor`.\n",
        "    if input_tensor is not None:\n",
        "        inputs = get_source_inputs(input_tensor)\n",
        "    else:\n",
        "        inputs = img_input\n",
        "    # Create model.\n",
        "    model = Model(inputs, x, name='resnet50')\n",
        "\n",
        "    return model"
      ],
      "execution_count": 0,
      "outputs": []
    },
    {
      "cell_type": "code",
      "metadata": {
        "id": "OOafzWuWJ7Mp",
        "colab_type": "code",
        "colab": {}
      },
      "source": [
        "resnet50_model_for_spectres = ResNet50_for_spectres(input_tensor=None, input_shape=None,\n",
        "             pooling=None,\n",
        "             classes=4)\n",
        "\n",
        "opt = Adam(lr=INIT_LR, decay=INIT_LR / EPOCHS)\n",
        "resnet50_model_for_spectres.compile(optimizer=opt,\n",
        "              loss='binary_crossentropy',\n",
        "              metrics=['accuracy'])"
      ],
      "execution_count": 0,
      "outputs": []
    },
    {
      "cell_type": "code",
      "metadata": {
        "id": "eDdkP3m7J7Hc",
        "colab_type": "code",
        "colab": {}
      },
      "source": [
        "train_df = train_dataframe\n",
        "valid_df = test_dataframe\n",
        "\n",
        "train_datagen = ImageDataGenerator(\n",
        "        rescale=1./255,\n",
        "        horizontal_flip=True,\n",
        "        vertical_flip=True,\n",
        "        rotation_range=90)\n",
        "\n",
        "test_datagen = ImageDataGenerator(rescale=1./255)\n",
        "\n",
        "train_generator = train_datagen.flow_from_dataframe(\n",
        "        dataframe=train_df,\n",
        "        directory=dir_with_blurred_images,\n",
        "        x_col=\"0\",\n",
        "        y_col=\"1\",\n",
        "        target_size=(224, 224),\n",
        "        batch_size=BS,\n",
        "        class_mode='categorical')\n",
        "\n",
        "validation_generator = test_datagen.flow_from_dataframe(\n",
        "        dataframe=valid_df,\n",
        "        directory=dir_with_blurred_images,\n",
        "        x_col=\"0\",\n",
        "        y_col=\"1\",\n",
        "        target_size=(224, 224),\n",
        "        batch_size=BS,\n",
        "        class_mode='categorical')"
      ],
      "execution_count": 0,
      "outputs": []
    },
    {
      "cell_type": "code",
      "metadata": {
        "id": "4wyYm0HTJ7BK",
        "colab_type": "code",
        "colab": {}
      },
      "source": [
        "filepath_model_to_save = dir_with_blurred_images+'/weights-resnet50-blur-classification-spectres-of-images-{epoch:02d}-{val_acc:.2f}.hdf5'\n",
        "checkpoint = ModelCheckpoint(filepath_model_to_save, monitor='val_acc', verbose=1, save_best_only=True, mode='max')\n",
        "callbacks_list = [checkpoint]"
      ],
      "execution_count": 0,
      "outputs": []
    },
    {
      "cell_type": "code",
      "metadata": {
        "id": "R3wLDsb0KXdZ",
        "colab_type": "code",
        "colab": {}
      },
      "source": [
        "H=resnet50_model_for_spectres.fit_generator(\n",
        "        train_generator,\n",
        "        steps_per_epoch=math.ceil(len(train_df) / BS),\n",
        "        epochs=EPOCHS,\n",
        "        validation_data=validation_generator,\n",
        "        validation_steps=math.ceil(len(valid_df) / BS),\n",
        "        verbose=1,\n",
        "        callbacks = callbacks_list)"
      ],
      "execution_count": 0,
      "outputs": []
    },
    {
      "cell_type": "code",
      "metadata": {
        "id": "WYVopmW23_n-",
        "colab_type": "code",
        "outputId": "747d6142-31b9-42b0-f30a-bf0a8ddea388",
        "colab": {
          "base_uri": "https://localhost:8080/",
          "height": 294
        }
      },
      "source": [
        "# Plot training & validation accuracy values\n",
        "plt.plot(H.history['acc'])\n",
        "plt.plot(H.history['val_acc'])\n",
        "plt.title('Model accuracy')\n",
        "plt.ylabel('Accuracy')\n",
        "plt.xlabel('Epoch')\n",
        "plt.legend(['Train', 'Test'], loc='upper left')\n",
        "plt.show()"
      ],
      "execution_count": 0,
      "outputs": [
        {
          "output_type": "display_data",
          "data": {
            "image/png": "[encoded data removed]",
            "text/plain": [
              "<Figure size 432x288 with 1 Axes>"
            ]
          },
          "metadata": {
            "tags": []
          }
        }
      ]
    },
    {
      "cell_type": "code",
      "metadata": {
        "id": "KBQ_RipkQDlI",
        "colab_type": "code",
        "outputId": "a9f5e78d-0a63-4ea3-9cde-f141ede89854",
        "colab": {
          "base_uri": "https://localhost:8080/",
          "height": 294
        }
      },
      "source": [
        "# Plot training & validation loss values\n",
        "plt.plot(H.history['loss'])\n",
        "plt.plot(H.history['val_loss'])\n",
        "plt.title('Model loss')\n",
        "plt.ylabel('Loss')\n",
        "plt.xlabel('Epoch')\n",
        "plt.legend(['Train', 'Test'], loc='upper left')\n",
        "plt.show()"
      ],
      "execution_count": 0,
      "outputs": [
        {
          "output_type": "display_data",
          "data": {
            "image/png": "[encoded data removed]",
            "text/plain": [
              "<Figure size 432x288 with 1 Axes>"
            ]
          },
          "metadata": {
            "tags": []
          }
        }
      ]
    },
    {
      "cell_type": "code",
      "metadata": {
        "id": "iv2IPtizT0ge",
        "colab_type": "code",
        "outputId": "967efbbc-785b-4583-ae22-7a60f1eab712",
        "colab": {
          "base_uri": "https://localhost:8080/",
          "height": 34
        }
      },
      "source": [
        "H.history['val_acc'][np.argmin(H.history['val_loss'])]"
      ],
      "execution_count": 0,
      "outputs": [
        {
          "output_type": "execute_result",
          "data": {
            "text/plain": [
              "0.7641509636393133"
            ]
          },
          "metadata": {
            "tags": []
          },
          "execution_count": 51
        }
      ]
    },
    {
      "cell_type": "markdown",
      "metadata": {
        "colab_type": "text",
        "id": "D56M2ge-Sa9-"
      },
      "source": [
        "# Training on spectres of blurred images"
      ]
    },
    {
      "cell_type": "code",
      "metadata": {
        "id": "Qwm9A6G35Du7",
        "colab_type": "code",
        "colab": {
          "base_uri": "https://localhost:8080/",
          "height": 81
        },
        "outputId": "28056240-a14c-4782-8256-59e89bc4df0d"
      },
      "source": [
        "from keras.models import Sequential\n",
        "from keras.layers import Dense\n",
        "import pandas as pd\n",
        "import cv2\n",
        "from sklearn.utils import shuffle\n",
        "from keras.preprocessing.image import img_to_array\n",
        "import numpy as np\n",
        "from skimage.color import rgb2gray, gray2rgb\n",
        "import random\n",
        "from sklearn.preprocessing import MultiLabelBinarizer\n",
        "from sklearn.model_selection import train_test_split\n",
        "from keras.preprocessing.image import ImageDataGenerator\n",
        "from tqdm import tqdm_notebook\n",
        "import matplotlib.pyplot as plt\n",
        "\n",
        "\n",
        "import math\n",
        "from keras.optimizers import Adam, SGD\n",
        "\n",
        "import shutil\n",
        "\n",
        "from keras.callbacks import ModelCheckpoint\n",
        "\n",
        "import numpy as np\n",
        "from keras.layers import Input\n",
        "from keras import layers\n",
        "from keras.layers import Dense\n",
        "from keras.layers import Activation\n",
        "from keras.layers import Flatten\n",
        "from keras.layers import Conv2D\n",
        "from keras.layers import MaxPooling2D\n",
        "from keras.layers import GlobalMaxPooling2D\n",
        "from keras.layers import ZeroPadding2D\n",
        "from keras.layers import AveragePooling2D\n",
        "from keras.layers import GlobalAveragePooling2D\n",
        "from keras.layers import BatchNormalization\n",
        "from keras.layers.core import Dropout\n",
        "from keras.models import Model\n",
        "from keras.preprocessing import image\n",
        "import keras.backend as K\n",
        "from keras.utils import layer_utils\n",
        "from keras.utils.data_utils import get_file\n",
        "from keras.applications.imagenet_utils import decode_predictions\n",
        "from keras.applications.imagenet_utils import preprocess_input\n",
        "from keras_applications.imagenet_utils import _obtain_input_shape\n",
        "from keras.engine.topology import get_source_inputs\n",
        "from PIL import Image\n",
        "\n",
        "from keras import backend as K"
      ],
      "execution_count": 1,
      "outputs": [
        {
          "output_type": "stream",
          "text": [
            "Using TensorFlow backend.\n"
          ],
          "name": "stderr"
        },
        {
          "output_type": "display_data",
          "data": {
            "text/html": [
              "<p style=\"color: red;\">\n",
              "The default version of TensorFlow in Colab will soon switch to TensorFlow 2.x.<br>\n",
              "We recommend you <a href=\"https://www.tensorflow.org/guide/migrate\" target=\"_blank\">upgrade</a> now \n",
              "or ensure your notebook will continue to use TensorFlow 1.x via the <code>%tensorflow_version 1.x</code> magic:\n",
              "<a href=\"https://colab.research.google.com/notebooks/tensorflow_version.ipynb\" target=\"_blank\">more info</a>.</p>\n"
            ],
            "text/plain": [
              "<IPython.core.display.HTML object>"
            ]
          },
          "metadata": {
            "tags": []
          }
        }
      ]
    },
    {
      "cell_type": "code",
      "metadata": {
        "id": "chPNGRyT6TqZ",
        "colab_type": "code",
        "outputId": "ee2a7b13-d510-4144-c87d-cf0667e39c25",
        "colab": {
          "base_uri": "https://localhost:8080/",
          "height": 125
        }
      },
      "source": [
        "from google.colab import drive\n",
        "drive.mount('/content/drive')"
      ],
      "execution_count": 2,
      "outputs": [
        {
          "output_type": "stream",
          "text": [
            "Go to this URL in a browser: https://accounts.google.com/o/oauth2/auth?client_id=947318989803-6bn6qk8qdgf4n4g3pfee6491hc0brc4i.apps.googleusercontent.com&redirect_uri=urn%3aietf%3awg%3aoauth%3a2.0%3aoob&response_type=code&scope=email%20https%3a%2f%2fwww.googleapis.com%2fauth%2fdocs.test%20https%3a%2f%2fwww.googleapis.com%2fauth%2fdrive%20https%3a%2f%2fwww.googleapis.com%2fauth%2fdrive.photos.readonly%20https%3a%2f%2fwww.googleapis.com%2fauth%2fpeopleapi.readonly\n",
            "\n",
            "Enter your authorization code:\n",
            "··········\n",
            "Mounted at /content/drive\n"
          ],
          "name": "stdout"
        }
      ]
    },
    {
      "cell_type": "code",
      "metadata": {
        "id": "_k_cC7zj6TkP",
        "colab_type": "code",
        "colab": {}
      },
      "source": [
        "dir_with_blurred_images = '/content/drive/My Drive/Datasets/Dataset_of_spectres_of_blurred_images'"
      ],
      "execution_count": 0,
      "outputs": []
    },
    {
      "cell_type": "code",
      "metadata": {
        "id": "ooLd6IlN6oJO",
        "colab_type": "code",
        "colab": {}
      },
      "source": [
        "EPOCHS = 200\n",
        "INIT_LR = 1e-5 # initial learning rate\n",
        "BS = 64 # batch size\n",
        "IMAGE_DIMS = (512, 512, 1) "
      ],
      "execution_count": 0,
      "outputs": []
    },
    {
      "cell_type": "code",
      "metadata": {
        "id": "iQkiazr96oB_",
        "colab_type": "code",
        "colab": {}
      },
      "source": [
        "dataframe = pd.read_csv(dir_with_blurred_images+'/dataset_csv.csv')"
      ],
      "execution_count": 0,
      "outputs": []
    },
    {
      "cell_type": "code",
      "metadata": {
        "id": "rVqHP7Z463km",
        "colab_type": "code",
        "colab": {}
      },
      "source": [
        "fraction_of_train_set = 0.8\n",
        "result_test_dataframe = pd.DataFrame({})\n",
        "result_train_dataframe = pd.DataFrame({})\n",
        "for label in np.unique(np.array(dataframe.iloc[:,1].tolist())):\n",
        "  dataframe_labeled = dataframe.loc[dataframe['1']==label]\n",
        "  number_of_samples = fraction_of_train_set*len(dataframe_labeled)\n",
        "  indexes_for_train = random.sample(list(dataframe_labeled.index), int(number_of_samples))\n",
        "  train_dataframe = dataframe_labeled.loc[indexes_for_train]\n",
        "  test_dataframe = dataframe_labeled.copy()\n",
        "  for index in indexes_for_train:\n",
        "    test_dataframe = test_dataframe.drop(index)\n",
        "  result_test_dataframe = pd.concat([result_test_dataframe,test_dataframe])\n",
        "  result_train_dataframe = pd.concat([result_train_dataframe, train_dataframe])\n",
        "test_dataframe = result_test_dataframe.copy()\n",
        "train_dataframe = result_train_dataframe.copy()"
      ],
      "execution_count": 0,
      "outputs": []
    },
    {
      "cell_type": "code",
      "metadata": {
        "id": "2OMB-MsUdXh2",
        "colab_type": "code",
        "colab": {}
      },
      "source": [
        "for i in range(len(train_dataframe)):\n",
        "  train_dataframe.iloc[i,0] = train_dataframe.iloc[i,4]+'/'+train_dataframe.iloc[i,0]\n",
        "for i in range(len(test_dataframe)):\n",
        "  test_dataframe.iloc[i,0] = test_dataframe.iloc[i,4]+'/'+test_dataframe.iloc[i,0]"
      ],
      "execution_count": 0,
      "outputs": []
    },
    {
      "cell_type": "code",
      "metadata": {
        "id": "IMJYBRiy5VO0",
        "colab_type": "code",
        "colab": {}
      },
      "source": [
        "def identity_block(input_tensor, kernel_size, filters, stage, block):\n",
        "    \"\"\"The identity block is the block that has no conv layer at shortcut.\n",
        "    # Arguments\n",
        "        input_tensor: input tensor\n",
        "        kernel_size: defualt 3, the kernel size of middle conv layer at main path\n",
        "        filters: list of integers, the filterss of 3 conv layer at main path\n",
        "        stage: integer, current stage label, used for generating layer names\n",
        "        block: 'a','b'..., current block label, used for generating layer names\n",
        "    # Returns\n",
        "        Output tensor for the block.\n",
        "    \"\"\"\n",
        "    filters1, filters2, filters3 = filters\n",
        "    if K.image_data_format() == 'channels_last':\n",
        "        bn_axis = 3\n",
        "    else:\n",
        "        bn_axis = 1\n",
        "    conv_name_base = 'res' + str(stage) + block + '_branch'\n",
        "    bn_name_base = 'bn' + str(stage) + block + '_branch'\n",
        "\n",
        "    x = Conv2D(filters1, (1, 1), name=conv_name_base + '2a')(input_tensor)\n",
        "    x = BatchNormalization(axis=bn_axis, name=bn_name_base + '2a')(x)\n",
        "    x = Activation('relu')(x)\n",
        "\n",
        "    x = Conv2D(filters2, kernel_size,\n",
        "               padding='same', name=conv_name_base + '2b')(x)\n",
        "    x = BatchNormalization(axis=bn_axis, name=bn_name_base + '2b')(x)\n",
        "    x = Activation('relu')(x)\n",
        "\n",
        "    x = Conv2D(filters3, (1, 1), name=conv_name_base + '2c')(x)\n",
        "    x = BatchNormalization(axis=bn_axis, name=bn_name_base + '2c')(x)\n",
        "\n",
        "    x = layers.add([x, input_tensor])\n",
        "    x = Activation('relu')(x)\n",
        "    return x\n",
        "  \n",
        "def conv_block(input_tensor, kernel_size, filters, stage, block, strides=(2, 2)):\n",
        "    \"\"\"conv_block is the block that has a conv layer at shortcut\n",
        "    # Arguments\n",
        "        input_tensor: input tensor\n",
        "        kernel_size: defualt 3, the kernel size of middle conv layer at main path\n",
        "        filters: list of integers, the filterss of 3 conv layer at main path\n",
        "        stage: integer, current stage label, used for generating layer names\n",
        "        block: 'a','b'..., current block label, used for generating layer names\n",
        "    # Returns\n",
        "        Output tensor for the block.\n",
        "    Note that from stage 3, the first conv layer at main path is with strides=(2,2)\n",
        "    And the shortcut should have strides=(2,2) as well\n",
        "    \"\"\"\n",
        "    filters1, filters2, filters3 = filters\n",
        "    if K.image_data_format() == 'channels_last':\n",
        "        bn_axis = 3\n",
        "    else:\n",
        "        bn_axis = 1\n",
        "    conv_name_base = 'res' + str(stage) + block + '_branch'\n",
        "    bn_name_base = 'bn' + str(stage) + block + '_branch'\n",
        "\n",
        "    x = Conv2D(filters1, (1, 1), strides=strides,\n",
        "               name=conv_name_base + '2a')(input_tensor)\n",
        "    x = BatchNormalization(axis=bn_axis, name=bn_name_base + '2a')(x)\n",
        "    x = Activation('relu')(x)\n",
        "\n",
        "    x = Conv2D(filters2, kernel_size, padding='same',\n",
        "               name=conv_name_base + '2b')(x)\n",
        "    x = BatchNormalization(axis=bn_axis, name=bn_name_base + '2b')(x)\n",
        "    x = Activation('relu')(x)\n",
        "\n",
        "    x = Conv2D(filters3, (1, 1), name=conv_name_base + '2c')(x)\n",
        "    x = BatchNormalization(axis=bn_axis, name=bn_name_base + '2c')(x)\n",
        "\n",
        "    shortcut = Conv2D(filters3, (1, 1), strides=strides,\n",
        "                      name=conv_name_base + '1')(input_tensor)\n",
        "    shortcut = BatchNormalization(axis=bn_axis, name=bn_name_base + '1')(shortcut)\n",
        "\n",
        "    x = layers.add([x, shortcut])\n",
        "    x = Activation('relu')(x)\n",
        "    return x\n",
        "  \n",
        "def ResNet50_for_spectres(include_top=True, weights=None,\n",
        "             input_tensor=None, input_shape=None,\n",
        "             pooling=None,\n",
        "             classes=1000):\n",
        "    \"\"\"Instantiates the ResNet50 architecture.\n",
        "    Optionally loads weights pre-trained\n",
        "    on ImageNet. Note that when using TensorFlow,\n",
        "    for best performance you should set\n",
        "    `image_data_format=\"channels_last\"` in your Keras config\n",
        "    at ~/.keras/keras.json.\n",
        "    The model and the weights are compatible with both\n",
        "    TensorFlow and Theano. The data format\n",
        "    convention used by the model is the one\n",
        "    specified in your Keras config file.\n",
        "    # Arguments\n",
        "        include_top: whether to include the fully-connected\n",
        "            layer at the top of the network.\n",
        "        weights: one of `None` (random initialization)\n",
        "            or \"imagenet\" (pre-training on ImageNet).\n",
        "        input_tensor: optional Keras tensor (i.e. output of `layers.Input()`)\n",
        "            to use as image input for the model.\n",
        "        input_shape: optional shape tuple, only to be specified\n",
        "            if `include_top` is False (otherwise the input shape\n",
        "            has to be `(224, 224, 3)` (with `channels_last` data format)\n",
        "            or `(3, 224, 244)` (with `channels_first` data format).\n",
        "            It should have exactly 3 inputs channels,\n",
        "            and width and height should be no smaller than 197.\n",
        "            E.g. `(200, 200, 3)` would be one valid value.\n",
        "        pooling: Optional pooling mode for feature extraction\n",
        "            when `include_top` is `False`.\n",
        "            - `None` means that the output of the model will be\n",
        "                the 4D tensor output of the\n",
        "                last convolutional layer.\n",
        "            - `avg` means that global average pooling\n",
        "                will be applied to the output of the\n",
        "                last convolutional layer, and thus\n",
        "                the output of the model will be a 2D tensor.\n",
        "            - `max` means that global max pooling will\n",
        "                be applied.\n",
        "        classes: optional number of classes to classify images\n",
        "            into, only to be specified if `include_top` is True, and\n",
        "            if no `weights` argument is specified.\n",
        "    # Returns\n",
        "        A Keras model instance.\n",
        "    # Raises\n",
        "        ValueError: in case of invalid argument for `weights`,\n",
        "            or invalid input shape.\n",
        "    \"\"\"\n",
        "    # Determine proper input shape\n",
        "    input_shape = _obtain_input_shape(input_shape,\n",
        "                                      default_size=224,\n",
        "                                      min_size=197,\n",
        "                                      data_format=K.image_data_format(),\n",
        "                                      require_flatten=True)\n",
        "\n",
        "    if input_tensor is None:\n",
        "        img_input = Input(shape=input_shape)\n",
        "    else:\n",
        "        if not K.is_keras_tensor(input_tensor):\n",
        "            img_input = Input(tensor=input_tensor, shape=input_shape)\n",
        "        else:\n",
        "            img_input = input_tensor\n",
        "    if K.image_data_format() == 'channels_last':\n",
        "        bn_axis = 3\n",
        "    else:\n",
        "        bn_axis = 1\n",
        "\n",
        "    x = ZeroPadding2D((3, 3))(img_input)\n",
        "    x = Conv2D(64, (7, 7), strides=(2, 2), name='conv1')(x)\n",
        "    x = BatchNormalization(axis=bn_axis, name='bn_conv1')(x)\n",
        "    x = Activation('relu')(x)\n",
        "    x = MaxPooling2D((3, 3), strides=(2, 2))(x)\n",
        "\n",
        "    x = conv_block(x, 3, [64, 64, 256], stage=2, block='a', strides=(1, 1))\n",
        "    x = identity_block(x, 3, [64, 64, 256], stage=2, block='b')\n",
        "    x = identity_block(x, 3, [64, 64, 256], stage=2, block='c')\n",
        "\n",
        "    x = conv_block(x, 3, [128, 128, 512], stage=3, block='a')\n",
        "    x = identity_block(x, 3, [128, 128, 512], stage=3, block='b')\n",
        "    x = identity_block(x, 3, [128, 128, 512], stage=3, block='c')\n",
        "\n",
        "    x = conv_block(x, 3, [256, 256, 1024], stage=4, block='a')\n",
        "    x = identity_block(x, 3, [256, 256, 1024], stage=4, block='b')\n",
        "    x = identity_block(x, 3, [256, 256, 1024], stage=4, block='c')\n",
        "\n",
        "    x = AveragePooling2D((7, 7), name='avg_pool')(x)\n",
        "\n",
        "    if include_top:\n",
        "        x = Flatten()(x)\n",
        "        x = Dense(classes, activation='softmax', name='fc1000')(x)\n",
        "    else:\n",
        "        if pooling == 'avg':\n",
        "            x = GlobalAveragePooling2D()(x)\n",
        "        elif pooling == 'max':\n",
        "            x = GlobalMaxPooling2D()(x)\n",
        "\n",
        "    # Ensure that the model takes into account\n",
        "    # any potential predecessors of `input_tensor`.\n",
        "    if input_tensor is not None:\n",
        "        inputs = get_source_inputs(input_tensor)\n",
        "    else:\n",
        "        inputs = img_input\n",
        "    # Create model.\n",
        "    model = Model(inputs, x, name='resnet50')\n",
        "\n",
        "    return model"
      ],
      "execution_count": 0,
      "outputs": []
    },
    {
      "cell_type": "code",
      "metadata": {
        "id": "dv4XMVcJ5VKP",
        "colab_type": "code",
        "colab": {}
      },
      "source": [
        "resnet50_model_for_spectres = ResNet50_for_spectres(input_tensor=None, input_shape=None,\n",
        "             pooling=None,\n",
        "             classes=4)"
      ],
      "execution_count": 0,
      "outputs": []
    },
    {
      "cell_type": "code",
      "metadata": {
        "id": "g1bBdaRT5DrG",
        "colab_type": "code",
        "colab": {}
      },
      "source": [
        "opt = Adam(lr=INIT_LR, decay=INIT_LR / EPOCHS)\n",
        "resnet50_model_for_spectres.compile(optimizer=opt,\n",
        "              loss='binary_crossentropy',\n",
        "              metrics=['accuracy'])"
      ],
      "execution_count": 0,
      "outputs": []
    },
    {
      "cell_type": "code",
      "metadata": {
        "id": "QfaIwhRb5Dlo",
        "colab_type": "code",
        "colab": {
          "base_uri": "https://localhost:8080/",
          "height": 52
        },
        "outputId": "3aa190ff-90e3-4c4a-d737-379f163e3776"
      },
      "source": [
        "train_df = train_dataframe\n",
        "valid_df = test_dataframe\n",
        "\n",
        "train_datagen = ImageDataGenerator(\n",
        "        rescale=1./255,\n",
        "        horizontal_flip=True,\n",
        "        vertical_flip=True,\n",
        "        rotation_range=90)\n",
        "\n",
        "test_datagen = ImageDataGenerator(rescale=1./255)\n",
        "\n",
        "train_generator = train_datagen.flow_from_dataframe(\n",
        "        dataframe=train_df,\n",
        "        directory=dir_with_blurred_images,\n",
        "        x_col=\"0\",\n",
        "        y_col=\"1\",\n",
        "        target_size=(224, 224),\n",
        "        batch_size=BS,\n",
        "        class_mode='categorical')\n",
        "\n",
        "validation_generator = test_datagen.flow_from_dataframe(\n",
        "        dataframe=valid_df,\n",
        "        directory=dir_with_blurred_images,\n",
        "        x_col=\"0\",\n",
        "        y_col=\"1\",\n",
        "        target_size=(224, 224),\n",
        "        batch_size=BS,\n",
        "        class_mode='categorical')"
      ],
      "execution_count": 23,
      "outputs": [
        {
          "output_type": "stream",
          "text": [
            "Found 2261 validated image filenames belonging to 4 classes.\n",
            "Found 566 validated image filenames belonging to 4 classes.\n"
          ],
          "name": "stdout"
        }
      ]
    },
    {
      "cell_type": "code",
      "metadata": {
        "id": "oj7gvaH95Df3",
        "colab_type": "code",
        "colab": {}
      },
      "source": [
        "filepath_model_to_save = dir_with_blurred_images+'/weights-resnet50-blur-classification-spectres-of-images-{epoch:02d}-{val_acc:.2f}.hdf5'\n",
        "checkpoint = ModelCheckpoint(filepath_model_to_save, monitor='val_acc', verbose=1, save_best_only=True, mode='max')\n",
        "callbacks_list = [checkpoint]"
      ],
      "execution_count": 0,
      "outputs": []
    },
    {
      "cell_type": "code",
      "metadata": {
        "colab_type": "code",
        "outputId": "eb65abb4-24d6-4220-8d4f-14ca79d2ca94",
        "id": "UTm7UI35SaDR",
        "colab": {
          "base_uri": "https://localhost:8080/",
          "height": 1000
        }
      },
      "source": [
        "H=resnet50_model_for_spectres.fit_generator(\n",
        "        train_generator,\n",
        "        steps_per_epoch=math.ceil(len(train_df) / BS),\n",
        "        epochs=EPOCHS,\n",
        "        validation_data=validation_generator,\n",
        "        validation_steps=math.ceil(len(valid_df) / BS),\n",
        "        verbose=1,\n",
        "        callbacks = callbacks_list)"
      ],
      "execution_count": 25,
      "outputs": [
        {
          "output_type": "stream",
          "text": [
            "Epoch 1/200\n",
            "36/36 [==============================] - 679s 19s/step - loss: 0.4456 - acc: 0.7968 - val_loss: 0.4327 - val_acc: 0.8083\n",
            "\n",
            "Epoch 00001: val_acc improved from -inf to 0.80830, saving model to /content/drive/My Drive/Datasets/Dataset_of_spectres_of_blurred_images/weights-resnet50-blur-classification-spectres-of-images-01-0.81.hdf5\n",
            "Epoch 2/200\n",
            "36/36 [==============================] - 42s 1s/step - loss: 0.2787 - acc: 0.8703 - val_loss: 0.4581 - val_acc: 0.7761\n",
            "\n",
            "Epoch 00002: val_acc did not improve from 0.80830\n",
            "Epoch 3/200\n",
            "36/36 [==============================] - 50s 1s/step - loss: 0.2503 - acc: 0.8894 - val_loss: 0.6424 - val_acc: 0.7412\n",
            "\n",
            "Epoch 00003: val_acc did not improve from 0.80830\n",
            "Epoch 4/200\n",
            "36/36 [==============================] - 50s 1s/step - loss: 0.2275 - acc: 0.8983 - val_loss: 0.7300 - val_acc: 0.7420\n",
            "\n",
            "Epoch 00004: val_acc did not improve from 0.80830\n",
            "Epoch 5/200\n",
            "36/36 [==============================] - 50s 1s/step - loss: 0.2112 - acc: 0.9130 - val_loss: 0.6787 - val_acc: 0.7443\n",
            "\n",
            "Epoch 00005: val_acc did not improve from 0.80830\n",
            "Epoch 6/200\n",
            "36/36 [==============================] - 50s 1s/step - loss: 0.1948 - acc: 0.9219 - val_loss: 0.7096 - val_acc: 0.7420\n",
            "\n",
            "Epoch 00006: val_acc did not improve from 0.80830\n",
            "Epoch 7/200\n",
            "36/36 [==============================] - 51s 1s/step - loss: 0.1821 - acc: 0.9243 - val_loss: 0.5771 - val_acc: 0.7694\n",
            "\n",
            "Epoch 00007: val_acc did not improve from 0.80830\n",
            "Epoch 8/200\n",
            "36/36 [==============================] - 51s 1s/step - loss: 0.1703 - acc: 0.9355 - val_loss: 0.5574 - val_acc: 0.7778\n",
            "\n",
            "Epoch 00008: val_acc did not improve from 0.80830\n",
            "Epoch 9/200\n",
            "36/36 [==============================] - 51s 1s/step - loss: 0.1604 - acc: 0.9390 - val_loss: 0.7014 - val_acc: 0.7562\n",
            "\n",
            "Epoch 00009: val_acc did not improve from 0.80830\n",
            "Epoch 10/200\n",
            "36/36 [==============================] - 50s 1s/step - loss: 0.1493 - acc: 0.9433 - val_loss: 0.6995 - val_acc: 0.7509\n",
            "\n",
            "Epoch 00010: val_acc did not improve from 0.80830\n",
            "Epoch 11/200\n",
            "36/36 [==============================] - 51s 1s/step - loss: 0.1373 - acc: 0.9482 - val_loss: 0.5049 - val_acc: 0.8145\n",
            "\n",
            "Epoch 00011: val_acc improved from 0.80830 to 0.81449, saving model to /content/drive/My Drive/Datasets/Dataset_of_spectres_of_blurred_images/weights-resnet50-blur-classification-spectres-of-images-11-0.81.hdf5\n",
            "Epoch 12/200\n",
            "36/36 [==============================] - 51s 1s/step - loss: 0.1271 - acc: 0.9542 - val_loss: 0.6208 - val_acc: 0.7694\n",
            "\n",
            "Epoch 00012: val_acc did not improve from 0.81449\n",
            "Epoch 13/200\n",
            "36/36 [==============================] - 51s 1s/step - loss: 0.1317 - acc: 0.9534 - val_loss: 0.5406 - val_acc: 0.8136\n",
            "\n",
            "Epoch 00013: val_acc did not improve from 0.81449\n",
            "Epoch 14/200\n",
            "36/36 [==============================] - 51s 1s/step - loss: 0.1171 - acc: 0.9568 - val_loss: 0.4582 - val_acc: 0.8445\n",
            "\n",
            "Epoch 00014: val_acc improved from 0.81449 to 0.84452, saving model to /content/drive/My Drive/Datasets/Dataset_of_spectres_of_blurred_images/weights-resnet50-blur-classification-spectres-of-images-14-0.84.hdf5\n",
            "Epoch 15/200\n",
            "36/36 [==============================] - 50s 1s/step - loss: 0.1079 - acc: 0.9636 - val_loss: 0.6662 - val_acc: 0.7694\n",
            "\n",
            "Epoch 00015: val_acc did not improve from 0.84452\n",
            "Epoch 16/200\n",
            "36/36 [==============================] - 50s 1s/step - loss: 0.1125 - acc: 0.9604 - val_loss: 0.7060 - val_acc: 0.7659\n",
            "\n",
            "Epoch 00016: val_acc did not improve from 0.84452\n",
            "Epoch 17/200\n",
            "36/36 [==============================] - 50s 1s/step - loss: 0.1011 - acc: 0.9654 - val_loss: 0.6596 - val_acc: 0.7778\n",
            "\n",
            "Epoch 00017: val_acc did not improve from 0.84452\n",
            "Epoch 18/200\n",
            "36/36 [==============================] - 51s 1s/step - loss: 0.0924 - acc: 0.9724 - val_loss: 0.5741 - val_acc: 0.8132\n",
            "\n",
            "Epoch 00018: val_acc did not improve from 0.84452\n",
            "Epoch 19/200\n",
            "36/36 [==============================] - 51s 1s/step - loss: 0.0826 - acc: 0.9732 - val_loss: 0.5206 - val_acc: 0.8238\n",
            "\n",
            "Epoch 00019: val_acc did not improve from 0.84452\n",
            "Epoch 20/200\n",
            "36/36 [==============================] - 51s 1s/step - loss: 0.0841 - acc: 0.9716 - val_loss: 0.4077 - val_acc: 0.8564\n",
            "\n",
            "Epoch 00020: val_acc improved from 0.84452 to 0.85645, saving model to /content/drive/My Drive/Datasets/Dataset_of_spectres_of_blurred_images/weights-resnet50-blur-classification-spectres-of-images-20-0.86.hdf5\n",
            "Epoch 21/200\n",
            "36/36 [==============================] - 51s 1s/step - loss: 0.0907 - acc: 0.9692 - val_loss: 0.4712 - val_acc: 0.8507\n",
            "\n",
            "Epoch 00021: val_acc did not improve from 0.85645\n",
            "Epoch 22/200\n",
            "36/36 [==============================] - 51s 1s/step - loss: 0.0792 - acc: 0.9751 - val_loss: 0.4928 - val_acc: 0.8542\n",
            "\n",
            "Epoch 00022: val_acc did not improve from 0.85645\n",
            "Epoch 23/200\n",
            "36/36 [==============================] - 51s 1s/step - loss: 0.0749 - acc: 0.9780 - val_loss: 0.4566 - val_acc: 0.8653\n",
            "\n",
            "Epoch 00023: val_acc improved from 0.85645 to 0.86528, saving model to /content/drive/My Drive/Datasets/Dataset_of_spectres_of_blurred_images/weights-resnet50-blur-classification-spectres-of-images-23-0.87.hdf5\n",
            "Epoch 24/200\n",
            "36/36 [==============================] - 51s 1s/step - loss: 0.0750 - acc: 0.9743 - val_loss: 0.6630 - val_acc: 0.8180\n",
            "\n",
            "Epoch 00024: val_acc did not improve from 0.86528\n",
            "Epoch 25/200\n",
            "36/36 [==============================] - 50s 1s/step - loss: 0.0761 - acc: 0.9747 - val_loss: 0.7043 - val_acc: 0.7902\n",
            "\n",
            "Epoch 00025: val_acc did not improve from 0.86528\n",
            "Epoch 26/200\n",
            "36/36 [==============================] - 50s 1s/step - loss: 0.0755 - acc: 0.9779 - val_loss: 0.7799 - val_acc: 0.7827\n",
            "\n",
            "Epoch 00026: val_acc did not improve from 0.86528\n",
            "Epoch 27/200\n",
            "36/36 [==============================] - 51s 1s/step - loss: 0.0687 - acc: 0.9789 - val_loss: 0.7052 - val_acc: 0.7933\n",
            "\n",
            "Epoch 00027: val_acc did not improve from 0.86528\n",
            "Epoch 28/200\n",
            "36/36 [==============================] - 50s 1s/step - loss: 0.0649 - acc: 0.9805 - val_loss: 0.8697 - val_acc: 0.7562\n",
            "\n",
            "Epoch 00028: val_acc did not improve from 0.86528\n",
            "Epoch 29/200\n",
            "36/36 [==============================] - 50s 1s/step - loss: 0.0692 - acc: 0.9787 - val_loss: 0.6789 - val_acc: 0.7827\n",
            "\n",
            "Epoch 00029: val_acc did not improve from 0.86528\n",
            "Epoch 30/200\n",
            "36/36 [==============================] - 51s 1s/step - loss: 0.0632 - acc: 0.9809 - val_loss: 0.6542 - val_acc: 0.7831\n",
            "\n",
            "Epoch 00030: val_acc did not improve from 0.86528\n",
            "Epoch 31/200\n",
            "36/36 [==============================] - 51s 1s/step - loss: 0.0608 - acc: 0.9842 - val_loss: 0.6536 - val_acc: 0.7778\n",
            "\n",
            "Epoch 00031: val_acc did not improve from 0.86528\n",
            "Epoch 32/200\n",
            "36/36 [==============================] - 50s 1s/step - loss: 0.0639 - acc: 0.9815 - val_loss: 0.9570 - val_acc: 0.7491\n",
            "\n",
            "Epoch 00032: val_acc did not improve from 0.86528\n",
            "Epoch 33/200\n",
            "36/36 [==============================] - 51s 1s/step - loss: 0.0623 - acc: 0.9815 - val_loss: 0.9881 - val_acc: 0.7619\n",
            "\n",
            "Epoch 00033: val_acc did not improve from 0.86528\n",
            "Epoch 34/200\n",
            "36/36 [==============================] - 51s 1s/step - loss: 0.0602 - acc: 0.9820 - val_loss: 0.7643 - val_acc: 0.7619\n",
            "\n",
            "Epoch 00034: val_acc did not improve from 0.86528\n",
            "Epoch 35/200\n",
            "36/36 [==============================] - 51s 1s/step - loss: 0.0530 - acc: 0.9857 - val_loss: 0.8389 - val_acc: 0.7615\n",
            "\n",
            "Epoch 00035: val_acc did not improve from 0.86528\n",
            "Epoch 36/200\n",
            "36/36 [==============================] - 51s 1s/step - loss: 0.0529 - acc: 0.9836 - val_loss: 0.4637 - val_acc: 0.8273\n",
            "\n",
            "Epoch 00036: val_acc did not improve from 0.86528\n",
            "Epoch 37/200\n",
            "36/36 [==============================] - 51s 1s/step - loss: 0.0580 - acc: 0.9804 - val_loss: 0.3779 - val_acc: 0.8653\n",
            "\n",
            "Epoch 00037: val_acc improved from 0.86528 to 0.86528, saving model to /content/drive/My Drive/Datasets/Dataset_of_spectres_of_blurred_images/weights-resnet50-blur-classification-spectres-of-images-37-0.87.hdf5\n",
            "Epoch 38/200\n",
            "36/36 [==============================] - 51s 1s/step - loss: 0.0483 - acc: 0.9872 - val_loss: 0.3548 - val_acc: 0.8693\n",
            "\n",
            "Epoch 00038: val_acc improved from 0.86528 to 0.86926, saving model to /content/drive/My Drive/Datasets/Dataset_of_spectres_of_blurred_images/weights-resnet50-blur-classification-spectres-of-images-38-0.87.hdf5\n",
            "Epoch 39/200\n",
            "36/36 [==============================] - 50s 1s/step - loss: 0.0522 - acc: 0.9859 - val_loss: 0.4734 - val_acc: 0.8538\n",
            "\n",
            "Epoch 00039: val_acc did not improve from 0.86926\n",
            "Epoch 40/200\n",
            "36/36 [==============================] - 50s 1s/step - loss: 0.0519 - acc: 0.9868 - val_loss: 0.4389 - val_acc: 0.8463\n",
            "\n",
            "Epoch 00040: val_acc did not improve from 0.86926\n",
            "Epoch 41/200\n",
            "36/36 [==============================] - 51s 1s/step - loss: 0.0509 - acc: 0.9877 - val_loss: 0.4250 - val_acc: 0.8454\n",
            "\n",
            "Epoch 00041: val_acc did not improve from 0.86926\n",
            "Epoch 42/200\n",
            "36/36 [==============================] - 50s 1s/step - loss: 0.0460 - acc: 0.9885 - val_loss: 0.4526 - val_acc: 0.8242\n",
            "\n",
            "Epoch 00042: val_acc did not improve from 0.86926\n",
            "Epoch 43/200\n",
            "36/36 [==============================] - 50s 1s/step - loss: 0.0485 - acc: 0.9871 - val_loss: 0.4737 - val_acc: 0.8436\n",
            "\n",
            "Epoch 00043: val_acc did not improve from 0.86926\n",
            "Epoch 44/200\n",
            "36/36 [==============================] - 50s 1s/step - loss: 0.0478 - acc: 0.9865 - val_loss: 0.7094 - val_acc: 0.7703\n",
            "\n",
            "Epoch 00044: val_acc did not improve from 0.86926\n",
            "Epoch 45/200\n",
            "36/36 [==============================] - 50s 1s/step - loss: 0.0432 - acc: 0.9886 - val_loss: 0.4619 - val_acc: 0.8626\n",
            "\n",
            "Epoch 00045: val_acc did not improve from 0.86926\n",
            "Epoch 46/200\n",
            "36/36 [==============================] - 50s 1s/step - loss: 0.0514 - acc: 0.9863 - val_loss: 0.4459 - val_acc: 0.8352\n",
            "\n",
            "Epoch 00046: val_acc did not improve from 0.86926\n",
            "Epoch 47/200\n",
            "36/36 [==============================] - 50s 1s/step - loss: 0.0451 - acc: 0.9888 - val_loss: 0.3931 - val_acc: 0.8754\n",
            "\n",
            "Epoch 00047: val_acc improved from 0.86926 to 0.87544, saving model to /content/drive/My Drive/Datasets/Dataset_of_spectres_of_blurred_images/weights-resnet50-blur-classification-spectres-of-images-47-0.88.hdf5\n",
            "Epoch 48/200\n",
            "36/36 [==============================] - 50s 1s/step - loss: 0.0457 - acc: 0.9878 - val_loss: 0.4505 - val_acc: 0.8547\n",
            "\n",
            "Epoch 00048: val_acc did not improve from 0.87544\n",
            "Epoch 49/200\n",
            "36/36 [==============================] - 50s 1s/step - loss: 0.0450 - acc: 0.9872 - val_loss: 0.7628 - val_acc: 0.7831\n",
            "\n",
            "Epoch 00049: val_acc did not improve from 0.87544\n",
            "Epoch 50/200\n",
            "36/36 [==============================] - 50s 1s/step - loss: 0.0416 - acc: 0.9896 - val_loss: 0.5336 - val_acc: 0.8158\n",
            "\n",
            "Epoch 00050: val_acc did not improve from 0.87544\n",
            "Epoch 51/200\n",
            "36/36 [==============================] - 50s 1s/step - loss: 0.0419 - acc: 0.9891 - val_loss: 0.4612 - val_acc: 0.8410\n",
            "\n",
            "Epoch 00051: val_acc did not improve from 0.87544\n",
            "Epoch 52/200\n",
            "36/36 [==============================] - 50s 1s/step - loss: 0.0459 - acc: 0.9871 - val_loss: 0.3658 - val_acc: 0.8573\n",
            "\n",
            "Epoch 00052: val_acc did not improve from 0.87544\n",
            "Epoch 53/200\n",
            "36/36 [==============================] - 50s 1s/step - loss: 0.0445 - acc: 0.9875 - val_loss: 0.3015 - val_acc: 0.8710\n",
            "\n",
            "Epoch 00053: val_acc did not improve from 0.87544\n",
            "Epoch 54/200\n",
            "36/36 [==============================] - 50s 1s/step - loss: 0.0433 - acc: 0.9898 - val_loss: 0.3540 - val_acc: 0.8653\n",
            "\n",
            "Epoch 00054: val_acc did not improve from 0.87544\n",
            "Epoch 55/200\n",
            "36/36 [==============================] - 50s 1s/step - loss: 0.0414 - acc: 0.9898 - val_loss: 0.6509 - val_acc: 0.7977\n",
            "\n",
            "Epoch 00055: val_acc did not improve from 0.87544\n",
            "Epoch 56/200\n",
            "36/36 [==============================] - 50s 1s/step - loss: 0.0414 - acc: 0.9900 - val_loss: 0.5244 - val_acc: 0.8304\n",
            "\n",
            "Epoch 00056: val_acc did not improve from 0.87544\n",
            "Epoch 57/200\n",
            "36/36 [==============================] - 50s 1s/step - loss: 0.0401 - acc: 0.9900 - val_loss: 0.6694 - val_acc: 0.7849\n",
            "\n",
            "Epoch 00057: val_acc did not improve from 0.87544\n",
            "Epoch 58/200\n",
            "36/36 [==============================] - 50s 1s/step - loss: 0.0406 - acc: 0.9900 - val_loss: 0.6745 - val_acc: 0.7809\n",
            "\n",
            "Epoch 00058: val_acc did not improve from 0.87544\n",
            "Epoch 59/200\n",
            "36/36 [==============================] - 50s 1s/step - loss: 0.0436 - acc: 0.9891 - val_loss: 0.4863 - val_acc: 0.8118\n",
            "\n",
            "Epoch 00059: val_acc did not improve from 0.87544\n",
            "Epoch 60/200\n",
            "36/36 [==============================] - 50s 1s/step - loss: 0.0384 - acc: 0.9896 - val_loss: 0.3700 - val_acc: 0.8631\n",
            "\n",
            "Epoch 00060: val_acc did not improve from 0.87544\n",
            "Epoch 61/200\n",
            "36/36 [==============================] - 50s 1s/step - loss: 0.0389 - acc: 0.9919 - val_loss: 0.2341 - val_acc: 0.9108\n",
            "\n",
            "Epoch 00061: val_acc improved from 0.87544 to 0.91078, saving model to /content/drive/My Drive/Datasets/Dataset_of_spectres_of_blurred_images/weights-resnet50-blur-classification-spectres-of-images-61-0.91.hdf5\n",
            "Epoch 62/200\n",
            "36/36 [==============================] - 50s 1s/step - loss: 0.0403 - acc: 0.9894 - val_loss: 0.2796 - val_acc: 0.8891\n",
            "\n",
            "Epoch 00062: val_acc did not improve from 0.91078\n",
            "Epoch 63/200\n",
            "36/36 [==============================] - 50s 1s/step - loss: 0.0368 - acc: 0.9894 - val_loss: 0.2697 - val_acc: 0.8997\n",
            "\n",
            "Epoch 00063: val_acc did not improve from 0.91078\n",
            "Epoch 64/200\n",
            "36/36 [==============================] - 50s 1s/step - loss: 0.0398 - acc: 0.9901 - val_loss: 0.2183 - val_acc: 0.9112\n",
            "\n",
            "Epoch 00064: val_acc improved from 0.91078 to 0.91122, saving model to /content/drive/My Drive/Datasets/Dataset_of_spectres_of_blurred_images/weights-resnet50-blur-classification-spectres-of-images-64-0.91.hdf5\n",
            "Epoch 65/200\n",
            "36/36 [==============================] - 50s 1s/step - loss: 0.0349 - acc: 0.9922 - val_loss: 0.3004 - val_acc: 0.8803\n",
            "\n",
            "Epoch 00065: val_acc did not improve from 0.91122\n",
            "Epoch 66/200\n",
            "36/36 [==============================] - 50s 1s/step - loss: 0.0412 - acc: 0.9897 - val_loss: 0.5304 - val_acc: 0.8048\n",
            "\n",
            "Epoch 00066: val_acc did not improve from 0.91122\n",
            "Epoch 67/200\n",
            "36/36 [==============================] - 50s 1s/step - loss: 0.0342 - acc: 0.9915 - val_loss: 0.4653 - val_acc: 0.8295\n",
            "\n",
            "Epoch 00067: val_acc did not improve from 0.91122\n",
            "Epoch 68/200\n",
            "36/36 [==============================] - 51s 1s/step - loss: 0.0398 - acc: 0.9902 - val_loss: 0.3321 - val_acc: 0.8706\n",
            "\n",
            "Epoch 00068: val_acc did not improve from 0.91122\n",
            "Epoch 69/200\n",
            "36/36 [==============================] - 50s 1s/step - loss: 0.0343 - acc: 0.9916 - val_loss: 0.3599 - val_acc: 0.8591\n",
            "\n",
            "Epoch 00069: val_acc did not improve from 0.91122\n",
            "Epoch 70/200\n",
            "36/36 [==============================] - 51s 1s/step - loss: 0.0324 - acc: 0.9920 - val_loss: 0.3373 - val_acc: 0.8768\n",
            "\n",
            "Epoch 00070: val_acc did not improve from 0.91122\n",
            "Epoch 71/200\n",
            "36/36 [==============================] - 50s 1s/step - loss: 0.0359 - acc: 0.9904 - val_loss: 0.2383 - val_acc: 0.9103\n",
            "\n",
            "Epoch 00071: val_acc did not improve from 0.91122\n",
            "Epoch 72/200\n",
            "36/36 [==============================] - 51s 1s/step - loss: 0.0389 - acc: 0.9900 - val_loss: 0.2823 - val_acc: 0.8913\n",
            "\n",
            "Epoch 00072: val_acc did not improve from 0.91122\n",
            "Epoch 73/200\n",
            "36/36 [==============================] - 50s 1s/step - loss: 0.0310 - acc: 0.9929 - val_loss: 0.1880 - val_acc: 0.9205\n",
            "\n",
            "Epoch 00073: val_acc improved from 0.91122 to 0.92049, saving model to /content/drive/My Drive/Datasets/Dataset_of_spectres_of_blurred_images/weights-resnet50-blur-classification-spectres-of-images-73-0.92.hdf5\n",
            "Epoch 74/200\n",
            "36/36 [==============================] - 50s 1s/step - loss: 0.0349 - acc: 0.9915 - val_loss: 0.3000 - val_acc: 0.8759\n",
            "\n",
            "Epoch 00074: val_acc did not improve from 0.92049\n",
            "Epoch 75/200\n",
            "36/36 [==============================] - 50s 1s/step - loss: 0.0402 - acc: 0.9896 - val_loss: 0.3889 - val_acc: 0.8454\n",
            "\n",
            "Epoch 00075: val_acc did not improve from 0.92049\n",
            "Epoch 76/200\n",
            "36/36 [==============================] - 51s 1s/step - loss: 0.0345 - acc: 0.9912 - val_loss: 0.3960 - val_acc: 0.8587\n",
            "\n",
            "Epoch 00076: val_acc did not improve from 0.92049\n",
            "Epoch 77/200\n",
            "36/36 [==============================] - 50s 1s/step - loss: 0.0337 - acc: 0.9921 - val_loss: 0.3406 - val_acc: 0.8746\n",
            "\n",
            "Epoch 00077: val_acc did not improve from 0.92049\n",
            "Epoch 78/200\n",
            "36/36 [==============================] - 50s 1s/step - loss: 0.0350 - acc: 0.9910 - val_loss: 0.3184 - val_acc: 0.8728\n",
            "\n",
            "Epoch 00078: val_acc did not improve from 0.92049\n",
            "Epoch 79/200\n",
            "36/36 [==============================] - 50s 1s/step - loss: 0.0360 - acc: 0.9908 - val_loss: 0.2680 - val_acc: 0.8913\n",
            "\n",
            "Epoch 00079: val_acc did not improve from 0.92049\n",
            "Epoch 80/200\n",
            "36/36 [==============================] - 50s 1s/step - loss: 0.0326 - acc: 0.9928 - val_loss: 0.3036 - val_acc: 0.8860\n",
            "\n",
            "Epoch 00080: val_acc did not improve from 0.92049\n",
            "Epoch 81/200\n",
            "36/36 [==============================] - 50s 1s/step - loss: 0.0329 - acc: 0.9908 - val_loss: 0.3206 - val_acc: 0.8710\n",
            "\n",
            "Epoch 00081: val_acc did not improve from 0.92049\n",
            "Epoch 82/200\n",
            "36/36 [==============================] - 50s 1s/step - loss: 0.0345 - acc: 0.9921 - val_loss: 0.3685 - val_acc: 0.8675\n",
            "\n",
            "Epoch 00082: val_acc did not improve from 0.92049\n",
            "Epoch 83/200\n",
            "36/36 [==============================] - 50s 1s/step - loss: 0.0301 - acc: 0.9919 - val_loss: 0.2475 - val_acc: 0.9081\n",
            "\n",
            "Epoch 00083: val_acc did not improve from 0.92049\n",
            "Epoch 84/200\n",
            "36/36 [==============================] - 50s 1s/step - loss: 0.0347 - acc: 0.9912 - val_loss: 0.2704 - val_acc: 0.8993\n",
            "\n",
            "Epoch 00084: val_acc did not improve from 0.92049\n",
            "Epoch 85/200\n",
            "36/36 [==============================] - 50s 1s/step - loss: 0.0333 - acc: 0.9913 - val_loss: 0.2427 - val_acc: 0.9090\n",
            "\n",
            "Epoch 00085: val_acc did not improve from 0.92049\n",
            "Epoch 86/200\n",
            "36/36 [==============================] - 50s 1s/step - loss: 0.0296 - acc: 0.9936 - val_loss: 0.1844 - val_acc: 0.9236\n",
            "\n",
            "Epoch 00086: val_acc improved from 0.92049 to 0.92359, saving model to /content/drive/My Drive/Datasets/Dataset_of_spectres_of_blurred_images/weights-resnet50-blur-classification-spectres-of-images-86-0.92.hdf5\n",
            "Epoch 87/200\n",
            "36/36 [==============================] - 50s 1s/step - loss: 0.0333 - acc: 0.9916 - val_loss: 0.3548 - val_acc: 0.8750\n",
            "\n",
            "Epoch 00087: val_acc did not improve from 0.92359\n",
            "Epoch 88/200\n",
            "36/36 [==============================] - 50s 1s/step - loss: 0.0317 - acc: 0.9912 - val_loss: 0.2385 - val_acc: 0.8975\n",
            "\n",
            "Epoch 00088: val_acc did not improve from 0.92359\n",
            "Epoch 89/200\n",
            "36/36 [==============================] - 50s 1s/step - loss: 0.0322 - acc: 0.9921 - val_loss: 0.1280 - val_acc: 0.9413\n",
            "\n",
            "Epoch 00089: val_acc improved from 0.92359 to 0.94125, saving model to /content/drive/My Drive/Datasets/Dataset_of_spectres_of_blurred_images/weights-resnet50-blur-classification-spectres-of-images-89-0.94.hdf5\n",
            "Epoch 90/200\n",
            "36/36 [==============================] - 50s 1s/step - loss: 0.0339 - acc: 0.9920 - val_loss: 0.1344 - val_acc: 0.9421\n",
            "\n",
            "Epoch 00090: val_acc improved from 0.94125 to 0.94214, saving model to /content/drive/My Drive/Datasets/Dataset_of_spectres_of_blurred_images/weights-resnet50-blur-classification-spectres-of-images-90-0.94.hdf5\n",
            "Epoch 91/200\n",
            "36/36 [==============================] - 50s 1s/step - loss: 0.0292 - acc: 0.9931 - val_loss: 0.1112 - val_acc: 0.9545\n",
            "\n",
            "Epoch 00091: val_acc improved from 0.94214 to 0.95451, saving model to /content/drive/My Drive/Datasets/Dataset_of_spectres_of_blurred_images/weights-resnet50-blur-classification-spectres-of-images-91-0.95.hdf5\n",
            "Epoch 92/200\n",
            "36/36 [==============================] - 50s 1s/step - loss: 0.0308 - acc: 0.9923 - val_loss: 0.1276 - val_acc: 0.9496\n",
            "\n",
            "Epoch 00092: val_acc did not improve from 0.95451\n",
            "Epoch 93/200\n",
            "36/36 [==============================] - 50s 1s/step - loss: 0.0297 - acc: 0.9923 - val_loss: 0.1685 - val_acc: 0.9351\n",
            "\n",
            "Epoch 00093: val_acc did not improve from 0.95451\n",
            "Epoch 94/200\n",
            "36/36 [==============================] - 50s 1s/step - loss: 0.0282 - acc: 0.9929 - val_loss: 0.1925 - val_acc: 0.9214\n",
            "\n",
            "Epoch 00094: val_acc did not improve from 0.95451\n",
            "Epoch 95/200\n",
            "36/36 [==============================] - 50s 1s/step - loss: 0.0351 - acc: 0.9885 - val_loss: 0.1578 - val_acc: 0.9346\n",
            "\n",
            "Epoch 00095: val_acc did not improve from 0.95451\n",
            "Epoch 96/200\n",
            "36/36 [==============================] - 50s 1s/step - loss: 0.0348 - acc: 0.9911 - val_loss: 0.1592 - val_acc: 0.9351\n",
            "\n",
            "Epoch 00096: val_acc did not improve from 0.95451\n",
            "Epoch 97/200\n",
            "36/36 [==============================] - 50s 1s/step - loss: 0.0322 - acc: 0.9916 - val_loss: 0.1201 - val_acc: 0.9439\n",
            "\n",
            "Epoch 00097: val_acc did not improve from 0.95451\n",
            "Epoch 98/200\n",
            "36/36 [==============================] - 50s 1s/step - loss: 0.0307 - acc: 0.9916 - val_loss: 0.1473 - val_acc: 0.9298\n",
            "\n",
            "Epoch 00098: val_acc did not improve from 0.95451\n",
            "Epoch 99/200\n",
            "36/36 [==============================] - 50s 1s/step - loss: 0.0301 - acc: 0.9921 - val_loss: 0.1794 - val_acc: 0.9236\n",
            "\n",
            "Epoch 00099: val_acc did not improve from 0.95451\n",
            "Epoch 100/200\n",
            "36/36 [==============================] - 50s 1s/step - loss: 0.0318 - acc: 0.9923 - val_loss: 0.1434 - val_acc: 0.9355\n",
            "\n",
            "Epoch 00100: val_acc did not improve from 0.95451\n",
            "Epoch 101/200\n",
            "36/36 [==============================] - 50s 1s/step - loss: 0.0284 - acc: 0.9933 - val_loss: 0.1289 - val_acc: 0.9443\n",
            "\n",
            "Epoch 00101: val_acc did not improve from 0.95451\n",
            "Epoch 102/200\n",
            "36/36 [==============================] - 50s 1s/step - loss: 0.0316 - acc: 0.9924 - val_loss: 0.1284 - val_acc: 0.9413\n",
            "\n",
            "Epoch 00102: val_acc did not improve from 0.95451\n",
            "Epoch 103/200\n",
            "36/36 [==============================] - 50s 1s/step - loss: 0.0284 - acc: 0.9931 - val_loss: 0.2622 - val_acc: 0.9015\n",
            "\n",
            "Epoch 00103: val_acc did not improve from 0.95451\n",
            "Epoch 104/200\n",
            "36/36 [==============================] - 50s 1s/step - loss: 0.0273 - acc: 0.9923 - val_loss: 0.2286 - val_acc: 0.8997\n",
            "\n",
            "Epoch 00104: val_acc did not improve from 0.95451\n",
            "Epoch 105/200\n",
            "36/36 [==============================] - 50s 1s/step - loss: 0.0278 - acc: 0.9926 - val_loss: 0.2632 - val_acc: 0.8891\n",
            "\n",
            "Epoch 00105: val_acc did not improve from 0.95451\n",
            "Epoch 106/200\n",
            "36/36 [==============================] - 50s 1s/step - loss: 0.0313 - acc: 0.9914 - val_loss: 0.2136 - val_acc: 0.9033\n",
            "\n",
            "Epoch 00106: val_acc did not improve from 0.95451\n",
            "Epoch 107/200\n",
            "36/36 [==============================] - 50s 1s/step - loss: 0.0278 - acc: 0.9928 - val_loss: 0.2671 - val_acc: 0.8931\n",
            "\n",
            "Epoch 00107: val_acc did not improve from 0.95451\n",
            "Epoch 108/200\n",
            "36/36 [==============================] - 50s 1s/step - loss: 0.0295 - acc: 0.9916 - val_loss: 0.3323 - val_acc: 0.8785\n",
            "\n",
            "Epoch 00108: val_acc did not improve from 0.95451\n",
            "Epoch 109/200\n",
            "36/36 [==============================] - 51s 1s/step - loss: 0.0251 - acc: 0.9926 - val_loss: 0.1812 - val_acc: 0.9236\n",
            "\n",
            "Epoch 00109: val_acc did not improve from 0.95451\n",
            "Epoch 110/200\n",
            "36/36 [==============================] - 50s 1s/step - loss: 0.0290 - acc: 0.9924 - val_loss: 0.2691 - val_acc: 0.8958\n",
            "\n",
            "Epoch 00110: val_acc did not improve from 0.95451\n",
            "Epoch 111/200\n",
            "36/36 [==============================] - 51s 1s/step - loss: 0.0301 - acc: 0.9916 - val_loss: 0.1310 - val_acc: 0.9474\n",
            "\n",
            "Epoch 00111: val_acc did not improve from 0.95451\n",
            "Epoch 112/200\n",
            "36/36 [==============================] - 51s 1s/step - loss: 0.0292 - acc: 0.9919 - val_loss: 0.2384 - val_acc: 0.9064\n",
            "\n",
            "Epoch 00112: val_acc did not improve from 0.95451\n",
            "Epoch 113/200\n",
            "36/36 [==============================] - 51s 1s/step - loss: 0.0349 - acc: 0.9904 - val_loss: 0.1930 - val_acc: 0.9201\n",
            "\n",
            "Epoch 00113: val_acc did not improve from 0.95451\n",
            "Epoch 114/200\n",
            "36/36 [==============================] - 50s 1s/step - loss: 0.0351 - acc: 0.9902 - val_loss: 0.4715 - val_acc: 0.8308\n",
            "\n",
            "Epoch 00114: val_acc did not improve from 0.95451\n",
            "Epoch 115/200\n",
            "36/36 [==============================] - 51s 1s/step - loss: 0.0274 - acc: 0.9934 - val_loss: 0.2757 - val_acc: 0.8913\n",
            "\n",
            "Epoch 00115: val_acc did not improve from 0.95451\n",
            "Epoch 116/200\n",
            "36/36 [==============================] - 50s 1s/step - loss: 0.0264 - acc: 0.9933 - val_loss: 0.2216 - val_acc: 0.9050\n",
            "\n",
            "Epoch 00116: val_acc did not improve from 0.95451\n",
            "Epoch 117/200\n",
            "36/36 [==============================] - 51s 1s/step - loss: 0.0274 - acc: 0.9928 - val_loss: 0.1901 - val_acc: 0.9262\n",
            "\n",
            "Epoch 00117: val_acc did not improve from 0.95451\n",
            "Epoch 118/200\n",
            "36/36 [==============================] - 51s 1s/step - loss: 0.0243 - acc: 0.9939 - val_loss: 0.1796 - val_acc: 0.9293\n",
            "\n",
            "Epoch 00118: val_acc did not improve from 0.95451\n",
            "Epoch 119/200\n",
            "36/36 [==============================] - 50s 1s/step - loss: 0.0309 - acc: 0.9908 - val_loss: 0.1749 - val_acc: 0.9254\n",
            "\n",
            "Epoch 00119: val_acc did not improve from 0.95451\n",
            "Epoch 120/200\n",
            "36/36 [==============================] - 51s 1s/step - loss: 0.0277 - acc: 0.9922 - val_loss: 0.1737 - val_acc: 0.9307\n",
            "\n",
            "Epoch 00120: val_acc did not improve from 0.95451\n",
            "Epoch 121/200\n",
            "36/36 [==============================] - 50s 1s/step - loss: 0.0260 - acc: 0.9933 - val_loss: 0.2822 - val_acc: 0.9002\n",
            "\n",
            "Epoch 00121: val_acc did not improve from 0.95451\n",
            "Epoch 122/200\n",
            "36/36 [==============================] - 50s 1s/step - loss: 0.0280 - acc: 0.9932 - val_loss: 0.1870 - val_acc: 0.9196\n",
            "\n",
            "Epoch 00122: val_acc did not improve from 0.95451\n",
            "Epoch 123/200\n",
            "36/36 [==============================] - 50s 1s/step - loss: 0.0266 - acc: 0.9924 - val_loss: 0.2154 - val_acc: 0.9117\n",
            "\n",
            "Epoch 00123: val_acc did not improve from 0.95451\n",
            "Epoch 124/200\n",
            "36/36 [==============================] - 50s 1s/step - loss: 0.0282 - acc: 0.9926 - val_loss: 0.2182 - val_acc: 0.9125\n",
            "\n",
            "Epoch 00124: val_acc did not improve from 0.95451\n",
            "Epoch 125/200\n",
            "36/36 [==============================] - 51s 1s/step - loss: 0.0269 - acc: 0.9923 - val_loss: 0.1840 - val_acc: 0.9201\n",
            "\n",
            "Epoch 00125: val_acc did not improve from 0.95451\n",
            "Epoch 126/200\n",
            "36/36 [==============================] - 50s 1s/step - loss: 0.0277 - acc: 0.9924 - val_loss: 0.1622 - val_acc: 0.9311\n",
            "\n",
            "Epoch 00126: val_acc did not improve from 0.95451\n",
            "Epoch 127/200\n",
            "36/36 [==============================] - 50s 1s/step - loss: 0.0285 - acc: 0.9919 - val_loss: 0.2057 - val_acc: 0.9139\n",
            "\n",
            "Epoch 00127: val_acc did not improve from 0.95451\n",
            "Epoch 128/200\n",
            "36/36 [==============================] - 50s 1s/step - loss: 0.0248 - acc: 0.9936 - val_loss: 0.1555 - val_acc: 0.9360\n",
            "\n",
            "Epoch 00128: val_acc did not improve from 0.95451\n",
            "Epoch 129/200\n",
            "36/36 [==============================] - 50s 1s/step - loss: 0.0286 - acc: 0.9933 - val_loss: 0.0854 - val_acc: 0.9620\n",
            "\n",
            "Epoch 00129: val_acc improved from 0.95451 to 0.96201, saving model to /content/drive/My Drive/Datasets/Dataset_of_spectres_of_blurred_images/weights-resnet50-blur-classification-spectres-of-images-129-0.96.hdf5\n",
            "Epoch 130/200\n",
            "36/36 [==============================] - 50s 1s/step - loss: 0.0266 - acc: 0.9927 - val_loss: 0.1149 - val_acc: 0.9514\n",
            "\n",
            "Epoch 00130: val_acc did not improve from 0.96201\n",
            "Epoch 131/200\n",
            "36/36 [==============================] - 50s 1s/step - loss: 0.0256 - acc: 0.9924 - val_loss: 0.1584 - val_acc: 0.9280\n",
            "\n",
            "Epoch 00131: val_acc did not improve from 0.96201\n",
            "Epoch 132/200\n",
            "36/36 [==============================] - 50s 1s/step - loss: 0.0231 - acc: 0.9931 - val_loss: 0.0649 - val_acc: 0.9779\n",
            "\n",
            "Epoch 00132: val_acc improved from 0.96201 to 0.97792, saving model to /content/drive/My Drive/Datasets/Dataset_of_spectres_of_blurred_images/weights-resnet50-blur-classification-spectres-of-images-132-0.98.hdf5\n",
            "Epoch 133/200\n",
            "36/36 [==============================] - 50s 1s/step - loss: 0.0258 - acc: 0.9927 - val_loss: 0.0846 - val_acc: 0.9655\n",
            "\n",
            "Epoch 00133: val_acc did not improve from 0.97792\n",
            "Epoch 134/200\n",
            "36/36 [==============================] - 50s 1s/step - loss: 0.0307 - acc: 0.9915 - val_loss: 0.0924 - val_acc: 0.9638\n",
            "\n",
            "Epoch 00134: val_acc did not improve from 0.97792\n",
            "Epoch 135/200\n",
            "36/36 [==============================] - 50s 1s/step - loss: 0.0252 - acc: 0.9928 - val_loss: 0.0881 - val_acc: 0.9625\n",
            "\n",
            "Epoch 00135: val_acc did not improve from 0.97792\n",
            "Epoch 136/200\n",
            "36/36 [==============================] - 50s 1s/step - loss: 0.0236 - acc: 0.9938 - val_loss: 0.1141 - val_acc: 0.9527\n",
            "\n",
            "Epoch 00136: val_acc did not improve from 0.97792\n",
            "Epoch 137/200\n",
            "36/36 [==============================] - 50s 1s/step - loss: 0.0268 - acc: 0.9928 - val_loss: 0.1943 - val_acc: 0.9236\n",
            "\n",
            "Epoch 00137: val_acc did not improve from 0.97792\n",
            "Epoch 138/200\n",
            "36/36 [==============================] - 51s 1s/step - loss: 0.0244 - acc: 0.9925 - val_loss: 0.2874 - val_acc: 0.9011\n",
            "\n",
            "Epoch 00138: val_acc did not improve from 0.97792\n",
            "Epoch 139/200\n",
            "36/36 [==============================] - 50s 1s/step - loss: 0.0227 - acc: 0.9944 - val_loss: 0.1327 - val_acc: 0.9395\n",
            "\n",
            "Epoch 00139: val_acc did not improve from 0.97792\n",
            "Epoch 140/200\n",
            "36/36 [==============================] - 50s 1s/step - loss: 0.0305 - acc: 0.9912 - val_loss: 0.1609 - val_acc: 0.9355\n",
            "\n",
            "Epoch 00140: val_acc did not improve from 0.97792\n",
            "Epoch 141/200\n",
            "36/36 [==============================] - 51s 1s/step - loss: 0.0249 - acc: 0.9937 - val_loss: 0.1590 - val_acc: 0.9368\n",
            "\n",
            "Epoch 00141: val_acc did not improve from 0.97792\n",
            "Epoch 142/200\n",
            "36/36 [==============================] - 50s 1s/step - loss: 0.0264 - acc: 0.9928 - val_loss: 0.1000 - val_acc: 0.9576\n",
            "\n",
            "Epoch 00142: val_acc did not improve from 0.97792\n",
            "Epoch 143/200\n",
            "36/36 [==============================] - 51s 1s/step - loss: 0.0245 - acc: 0.9924 - val_loss: 0.0904 - val_acc: 0.9660\n",
            "\n",
            "Epoch 00143: val_acc did not improve from 0.97792\n",
            "Epoch 144/200\n",
            "36/36 [==============================] - 51s 1s/step - loss: 0.0262 - acc: 0.9934 - val_loss: 0.2142 - val_acc: 0.9103\n",
            "\n",
            "Epoch 00144: val_acc did not improve from 0.97792\n",
            "Epoch 145/200\n",
            "36/36 [==============================] - 51s 1s/step - loss: 0.0263 - acc: 0.9929 - val_loss: 0.1940 - val_acc: 0.9240\n",
            "\n",
            "Epoch 00145: val_acc did not improve from 0.97792\n",
            "Epoch 146/200\n",
            "36/36 [==============================] - 50s 1s/step - loss: 0.0270 - acc: 0.9922 - val_loss: 0.1842 - val_acc: 0.9249\n",
            "\n",
            "Epoch 00146: val_acc did not improve from 0.97792\n",
            "Epoch 147/200\n",
            "36/36 [==============================] - 50s 1s/step - loss: 0.0228 - acc: 0.9941 - val_loss: 0.1814 - val_acc: 0.9165\n",
            "\n",
            "Epoch 00147: val_acc did not improve from 0.97792\n",
            "Epoch 148/200\n",
            "36/36 [==============================] - 50s 1s/step - loss: 0.0225 - acc: 0.9939 - val_loss: 0.3269 - val_acc: 0.8847\n",
            "\n",
            "Epoch 00148: val_acc did not improve from 0.97792\n",
            "Epoch 149/200\n",
            "36/36 [==============================] - 50s 1s/step - loss: 0.0271 - acc: 0.9923 - val_loss: 0.1596 - val_acc: 0.9254\n",
            "\n",
            "Epoch 00149: val_acc did not improve from 0.97792\n",
            "Epoch 150/200\n",
            "36/36 [==============================] - 51s 1s/step - loss: 0.0237 - acc: 0.9932 - val_loss: 0.2744 - val_acc: 0.8918\n",
            "\n",
            "Epoch 00150: val_acc did not improve from 0.97792\n",
            "Epoch 151/200\n",
            "36/36 [==============================] - 50s 1s/step - loss: 0.0293 - acc: 0.9928 - val_loss: 0.2058 - val_acc: 0.9152\n",
            "\n",
            "Epoch 00151: val_acc did not improve from 0.97792\n",
            "Epoch 152/200\n",
            "36/36 [==============================] - 50s 1s/step - loss: 0.0276 - acc: 0.9925 - val_loss: 0.2017 - val_acc: 0.9178\n",
            "\n",
            "Epoch 00152: val_acc did not improve from 0.97792\n",
            "Epoch 153/200\n",
            "36/36 [==============================] - 50s 1s/step - loss: 0.0258 - acc: 0.9935 - val_loss: 0.0998 - val_acc: 0.9576\n",
            "\n",
            "Epoch 00153: val_acc did not improve from 0.97792\n",
            "Epoch 154/200\n",
            "36/36 [==============================] - 50s 1s/step - loss: 0.0226 - acc: 0.9941 - val_loss: 0.2899 - val_acc: 0.8869\n",
            "\n",
            "Epoch 00154: val_acc did not improve from 0.97792\n",
            "Epoch 155/200\n",
            "36/36 [==============================] - 50s 1s/step - loss: 0.0246 - acc: 0.9929 - val_loss: 0.3012 - val_acc: 0.8883\n",
            "\n",
            "Epoch 00155: val_acc did not improve from 0.97792\n",
            "Epoch 156/200\n",
            "36/36 [==============================] - 50s 1s/step - loss: 0.0242 - acc: 0.9937 - val_loss: 0.2965 - val_acc: 0.8922\n",
            "\n",
            "Epoch 00156: val_acc did not improve from 0.97792\n",
            "Epoch 157/200\n",
            "36/36 [==============================] - 51s 1s/step - loss: 0.0241 - acc: 0.9929 - val_loss: 0.0846 - val_acc: 0.9647\n",
            "\n",
            "Epoch 00157: val_acc did not improve from 0.97792\n",
            "Epoch 158/200\n",
            "36/36 [==============================] - 50s 1s/step - loss: 0.0245 - acc: 0.9937 - val_loss: 0.1586 - val_acc: 0.9364\n",
            "\n",
            "Epoch 00158: val_acc did not improve from 0.97792\n",
            "Epoch 159/200\n",
            "36/36 [==============================] - 50s 1s/step - loss: 0.0240 - acc: 0.9926 - val_loss: 0.1458 - val_acc: 0.9408\n",
            "\n",
            "Epoch 00159: val_acc did not improve from 0.97792\n",
            "Epoch 160/200\n",
            "36/36 [==============================] - 50s 1s/step - loss: 0.0233 - acc: 0.9942 - val_loss: 0.1853 - val_acc: 0.9245\n",
            "\n",
            "Epoch 00160: val_acc did not improve from 0.97792\n",
            "Epoch 161/200\n",
            "36/36 [==============================] - 51s 1s/step - loss: 0.0211 - acc: 0.9936 - val_loss: 0.2261 - val_acc: 0.9072\n",
            "\n",
            "Epoch 00161: val_acc did not improve from 0.97792\n",
            "Epoch 162/200\n",
            "36/36 [==============================] - 51s 1s/step - loss: 0.0218 - acc: 0.9939 - val_loss: 0.2127 - val_acc: 0.9187\n",
            "\n",
            "Epoch 00162: val_acc did not improve from 0.97792\n",
            "Epoch 163/200\n",
            "36/36 [==============================] - 51s 1s/step - loss: 0.0258 - acc: 0.9929 - val_loss: 0.0909 - val_acc: 0.9598\n",
            "\n",
            "Epoch 00163: val_acc did not improve from 0.97792\n",
            "Epoch 164/200\n",
            "36/36 [==============================] - 51s 1s/step - loss: 0.0239 - acc: 0.9931 - val_loss: 0.1318 - val_acc: 0.9373\n",
            "\n",
            "Epoch 00164: val_acc did not improve from 0.97792\n",
            "Epoch 165/200\n",
            "36/36 [==============================] - 51s 1s/step - loss: 0.0209 - acc: 0.9946 - val_loss: 0.1334 - val_acc: 0.9457\n",
            "\n",
            "Epoch 00165: val_acc did not improve from 0.97792\n",
            "Epoch 166/200\n",
            "36/36 [==============================] - 51s 1s/step - loss: 0.0267 - acc: 0.9925 - val_loss: 0.1064 - val_acc: 0.9536\n",
            "\n",
            "Epoch 00166: val_acc did not improve from 0.97792\n",
            "Epoch 167/200\n",
            "36/36 [==============================] - 51s 1s/step - loss: 0.0229 - acc: 0.9931 - val_loss: 0.2594 - val_acc: 0.9178\n",
            "\n",
            "Epoch 00167: val_acc did not improve from 0.97792\n",
            "Epoch 168/200\n",
            "36/36 [==============================] - 50s 1s/step - loss: 0.0211 - acc: 0.9937 - val_loss: 0.3221 - val_acc: 0.8927\n",
            "\n",
            "Epoch 00168: val_acc did not improve from 0.97792\n",
            "Epoch 169/200\n",
            "36/36 [==============================] - 50s 1s/step - loss: 0.0221 - acc: 0.9941 - val_loss: 0.2570 - val_acc: 0.8958\n",
            "\n",
            "Epoch 00169: val_acc did not improve from 0.97792\n",
            "Epoch 170/200\n",
            "36/36 [==============================] - 50s 1s/step - loss: 0.0202 - acc: 0.9933 - val_loss: 0.1042 - val_acc: 0.9549\n",
            "\n",
            "Epoch 00170: val_acc did not improve from 0.97792\n",
            "Epoch 171/200\n",
            "36/36 [==============================] - 51s 1s/step - loss: 0.0205 - acc: 0.9938 - val_loss: 0.1601 - val_acc: 0.9360\n",
            "\n",
            "Epoch 00171: val_acc did not improve from 0.97792\n",
            "Epoch 172/200\n",
            "36/36 [==============================] - 50s 1s/step - loss: 0.0229 - acc: 0.9938 - val_loss: 0.2198 - val_acc: 0.9192\n",
            "\n",
            "Epoch 00172: val_acc did not improve from 0.97792\n",
            "Epoch 173/200\n",
            "36/36 [==============================] - 50s 1s/step - loss: 0.0212 - acc: 0.9934 - val_loss: 0.3391 - val_acc: 0.8874\n",
            "\n",
            "Epoch 00173: val_acc did not improve from 0.97792\n",
            "Epoch 174/200\n",
            "36/36 [==============================] - 50s 1s/step - loss: 0.0232 - acc: 0.9933 - val_loss: 0.7061 - val_acc: 0.8304\n",
            "\n",
            "Epoch 00174: val_acc did not improve from 0.97792\n",
            "Epoch 175/200\n",
            "36/36 [==============================] - 51s 1s/step - loss: 0.0238 - acc: 0.9921 - val_loss: 0.4312 - val_acc: 0.8768\n",
            "\n",
            "Epoch 00175: val_acc did not improve from 0.97792\n",
            "Epoch 176/200\n",
            "36/36 [==============================] - 50s 1s/step - loss: 0.0216 - acc: 0.9932 - val_loss: 0.2911 - val_acc: 0.9042\n",
            "\n",
            "Epoch 00176: val_acc did not improve from 0.97792\n",
            "Epoch 177/200\n",
            "36/36 [==============================] - 50s 1s/step - loss: 0.0212 - acc: 0.9941 - val_loss: 0.1657 - val_acc: 0.9329\n",
            "\n",
            "Epoch 00177: val_acc did not improve from 0.97792\n",
            "Epoch 178/200\n",
            "36/36 [==============================] - 50s 1s/step - loss: 0.0234 - acc: 0.9936 - val_loss: 0.2001 - val_acc: 0.9178\n",
            "\n",
            "Epoch 00178: val_acc did not improve from 0.97792\n",
            "Epoch 179/200\n",
            "36/36 [==============================] - 50s 1s/step - loss: 0.0242 - acc: 0.9923 - val_loss: 0.1845 - val_acc: 0.9368\n",
            "\n",
            "Epoch 00179: val_acc did not improve from 0.97792\n",
            "Epoch 180/200\n",
            "36/36 [==============================] - 50s 1s/step - loss: 0.0242 - acc: 0.9934 - val_loss: 0.1061 - val_acc: 0.9580\n",
            "\n",
            "Epoch 00180: val_acc did not improve from 0.97792\n",
            "Epoch 181/200\n",
            "36/36 [==============================] - 51s 1s/step - loss: 0.0215 - acc: 0.9947 - val_loss: 0.1266 - val_acc: 0.9492\n",
            "\n",
            "Epoch 00181: val_acc did not improve from 0.97792\n",
            "Epoch 182/200\n",
            "36/36 [==============================] - 50s 1s/step - loss: 0.0205 - acc: 0.9952 - val_loss: 0.1051 - val_acc: 0.9545\n",
            "\n",
            "Epoch 00182: val_acc did not improve from 0.97792\n",
            "Epoch 183/200\n",
            "36/36 [==============================] - 51s 1s/step - loss: 0.0217 - acc: 0.9940 - val_loss: 0.2026 - val_acc: 0.9399\n",
            "\n",
            "Epoch 00183: val_acc did not improve from 0.97792\n",
            "Epoch 184/200\n",
            "36/36 [==============================] - 51s 1s/step - loss: 0.0198 - acc: 0.9945 - val_loss: 0.0482 - val_acc: 0.9863\n",
            "\n",
            "Epoch 00184: val_acc improved from 0.97792 to 0.98631, saving model to /content/drive/My Drive/Datasets/Dataset_of_spectres_of_blurred_images/weights-resnet50-blur-classification-spectres-of-images-184-0.99.hdf5\n",
            "Epoch 185/200\n",
            "36/36 [==============================] - 50s 1s/step - loss: 0.0197 - acc: 0.9941 - val_loss: 0.0424 - val_acc: 0.9859\n",
            "\n",
            "Epoch 00185: val_acc did not improve from 0.98631\n",
            "Epoch 186/200\n",
            "36/36 [==============================] - 50s 1s/step - loss: 0.0224 - acc: 0.9939 - val_loss: 0.0789 - val_acc: 0.9722\n",
            "\n",
            "Epoch 00186: val_acc did not improve from 0.98631\n",
            "Epoch 187/200\n",
            "36/36 [==============================] - 51s 1s/step - loss: 0.0275 - acc: 0.9909 - val_loss: 1.0832 - val_acc: 0.8445\n",
            "\n",
            "Epoch 00187: val_acc did not improve from 0.98631\n",
            "Epoch 188/200\n",
            "36/36 [==============================] - 51s 1s/step - loss: 0.0231 - acc: 0.9934 - val_loss: 0.2449 - val_acc: 0.9002\n",
            "\n",
            "Epoch 00188: val_acc did not improve from 0.98631\n",
            "Epoch 189/200\n",
            "36/36 [==============================] - 51s 1s/step - loss: 0.0253 - acc: 0.9926 - val_loss: 0.4028 - val_acc: 0.8830\n",
            "\n",
            "Epoch 00189: val_acc did not improve from 0.98631\n",
            "Epoch 190/200\n",
            "36/36 [==============================] - 51s 1s/step - loss: 0.0215 - acc: 0.9936 - val_loss: 0.0742 - val_acc: 0.9704\n",
            "\n",
            "Epoch 00190: val_acc did not improve from 0.98631\n",
            "Epoch 191/200\n",
            "36/36 [==============================] - 51s 1s/step - loss: 0.0210 - acc: 0.9946 - val_loss: 0.0699 - val_acc: 0.9735\n",
            "\n",
            "Epoch 00191: val_acc did not improve from 0.98631\n",
            "Epoch 192/200\n",
            "36/36 [==============================] - 51s 1s/step - loss: 0.0202 - acc: 0.9949 - val_loss: 0.1076 - val_acc: 0.9541\n",
            "\n",
            "Epoch 00192: val_acc did not improve from 0.98631\n",
            "Epoch 193/200\n",
            "36/36 [==============================] - 52s 1s/step - loss: 0.0242 - acc: 0.9932 - val_loss: 0.1212 - val_acc: 0.9496\n",
            "\n",
            "Epoch 00193: val_acc did not improve from 0.98631\n",
            "Epoch 194/200\n",
            "36/36 [==============================] - 51s 1s/step - loss: 0.0192 - acc: 0.9949 - val_loss: 0.0903 - val_acc: 0.9633\n",
            "\n",
            "Epoch 00194: val_acc did not improve from 0.98631\n",
            "Epoch 195/200\n",
            "36/36 [==============================] - 50s 1s/step - loss: 0.0216 - acc: 0.9937 - val_loss: 0.1172 - val_acc: 0.9461\n",
            "\n",
            "Epoch 00195: val_acc did not improve from 0.98631\n",
            "Epoch 196/200\n",
            "36/36 [==============================] - 50s 1s/step - loss: 0.0222 - acc: 0.9921 - val_loss: 0.1823 - val_acc: 0.9479\n",
            "\n",
            "Epoch 00196: val_acc did not improve from 0.98631\n",
            "Epoch 197/200\n",
            "36/36 [==============================] - 50s 1s/step - loss: 0.0235 - acc: 0.9929 - val_loss: 0.3279 - val_acc: 0.8913\n",
            "\n",
            "Epoch 00197: val_acc did not improve from 0.98631\n",
            "Epoch 198/200\n",
            "36/36 [==============================] - 50s 1s/step - loss: 0.0236 - acc: 0.9936 - val_loss: 0.2440 - val_acc: 0.9086\n",
            "\n",
            "Epoch 00198: val_acc did not improve from 0.98631\n",
            "Epoch 199/200\n",
            "36/36 [==============================] - 51s 1s/step - loss: 0.0202 - acc: 0.9934 - val_loss: 0.3518 - val_acc: 0.8830\n",
            "\n",
            "Epoch 00199: val_acc did not improve from 0.98631\n",
            "Epoch 200/200\n",
            "36/36 [==============================] - 51s 1s/step - loss: 0.0206 - acc: 0.9934 - val_loss: 0.1135 - val_acc: 0.9519\n",
            "\n",
            "Epoch 00200: val_acc did not improve from 0.98631\n"
          ],
          "name": "stdout"
        }
      ]
    },
    {
      "cell_type": "code",
      "metadata": {
        "id": "uitezhj05FLP",
        "colab_type": "code",
        "outputId": "2fb12610-b3f2-4bf4-b1d5-2c30885e392a",
        "colab": {
          "base_uri": "https://localhost:8080/",
          "height": 294
        }
      },
      "source": [
        "# Plot training & validation accuracy values\n",
        "plt.plot(H.history['acc'])\n",
        "plt.plot(H.history['val_acc'])\n",
        "plt.title('Model accuracy')\n",
        "plt.ylabel('Accuracy')\n",
        "plt.xlabel('Epoch')\n",
        "plt.legend(['Train', 'Test'], loc='upper left')\n",
        "plt.show()"
      ],
      "execution_count": 26,
      "outputs": [
        {
          "output_type": "display_data",
          "data": {
            "image/png": "[encoded data removed]",
            "text/plain": [
              "<Figure size 432x288 with 1 Axes>"
            ]
          },
          "metadata": {
            "tags": []
          }
        }
      ]
    },
    {
      "cell_type": "code",
      "metadata": {
        "id": "EQYUuOo86b1F",
        "colab_type": "code",
        "outputId": "764ffcec-d67c-4ebf-ad65-27a11413356b",
        "colab": {
          "base_uri": "https://localhost:8080/",
          "height": 294
        }
      },
      "source": [
        "# Plot training & validation loss values\n",
        "plt.plot(H.history['loss'])\n",
        "plt.plot(H.history['val_loss'])\n",
        "plt.title('Model loss')\n",
        "plt.ylabel('Loss')\n",
        "plt.xlabel('Epoch')\n",
        "plt.legend(['Train', 'Test'], loc='upper left')\n",
        "plt.show()"
      ],
      "execution_count": 27,
      "outputs": [
        {
          "output_type": "display_data",
          "data": {
            "image/png": "[encoded data removed]",
            "text/plain": [
              "<Figure size 432x288 with 1 Axes>"
            ]
          },
          "metadata": {
            "tags": []
          }
        }
      ]
    },
    {
      "cell_type": "code",
      "metadata": {
        "id": "HG0CZskYKxwI",
        "colab_type": "code",
        "colab": {
          "base_uri": "https://localhost:8080/",
          "height": 34
        },
        "outputId": "350f0b8b-def2-4622-a7fe-4080942e491a"
      },
      "source": [
        "np.max(H.history['val_acc'])"
      ],
      "execution_count": 33,
      "outputs": [
        {
          "output_type": "execute_result",
          "data": {
            "text/plain": [
              "0.9863074181779113"
            ]
          },
          "metadata": {
            "tags": []
          },
          "execution_count": 33
        }
      ]
    },
    {
      "cell_type": "code",
      "metadata": {
        "id": "xgHbjo2tUTWW",
        "colab_type": "code",
        "outputId": "2f194602-70ed-439f-85cb-c796e25f53c4",
        "colab": {
          "base_uri": "https://localhost:8080/",
          "height": 34
        }
      },
      "source": [
        "H.history['val_loss'][np.argmax(H.history['val_acc'])]"
      ],
      "execution_count": 30,
      "outputs": [
        {
          "output_type": "execute_result",
          "data": {
            "text/plain": [
              "0.04820064552681185"
            ]
          },
          "metadata": {
            "tags": []
          },
          "execution_count": 30
        }
      ]
    },
    {
      "cell_type": "code",
      "metadata": {
        "id": "gQU21CbXHgUc",
        "colab_type": "code",
        "colab": {
          "base_uri": "https://localhost:8080/",
          "height": 34
        },
        "outputId": "0482fb1a-68b2-4988-f49c-7abd73d8f8a9"
      },
      "source": [
        "np.min(H.history['val_loss'])"
      ],
      "execution_count": 31,
      "outputs": [
        {
          "output_type": "execute_result",
          "data": {
            "text/plain": [
              "0.0423844478787466"
            ]
          },
          "metadata": {
            "tags": []
          },
          "execution_count": 31
        }
      ]
    },
    {
      "cell_type": "markdown",
      "metadata": {
        "id": "794asHKdgc_e",
        "colab_type": "text"
      },
      "source": [
        "# Results of training on clear blur with log"
      ]
    },
    {
      "cell_type": "code",
      "metadata": {
        "id": "bfAt2Jjogig_",
        "colab_type": "code",
        "outputId": "0fccdd9d-2eb6-4953-ef87-ddfbff8545e6",
        "colab": {
          "base_uri": "https://localhost:8080/",
          "height": 1000
        }
      },
      "source": [
        "H = resnet50_model.fit_generator(aug.flow(trainX, trainY, batch_size=BS),\n",
        "                                 validation_data=(testX, testY),\n",
        "                                 steps_per_epoch=len(trainX) // BS,\n",
        "                                 epochs=EPOCHS,\n",
        "                                 verbose=1,\n",
        "                                 callbacks = callbacks_list)"
      ],
      "execution_count": 0,
      "outputs": [
        {
          "output_type": "stream",
          "text": [
            "Epoch 1/100\n",
            "5/5 [==============================] - 5s 1s/step - loss: 0.3768 - acc: 0.8319 - val_loss: 0.6314 - val_acc: 0.7597\n",
            "\n",
            "Epoch 00001: val_acc did not improve from 0.78295\n",
            "Epoch 2/100\n",
            "5/5 [==============================] - 5s 919ms/step - loss: 0.3957 - acc: 0.8409 - val_loss: 0.6150 - val_acc: 0.7597\n",
            "\n",
            "Epoch 00002: val_acc did not improve from 0.78295\n",
            "Epoch 3/100\n",
            "5/5 [==============================] - 5s 916ms/step - loss: 0.3382 - acc: 0.8710 - val_loss: 0.5984 - val_acc: 0.7829\n",
            "\n",
            "Epoch 00003: val_acc improved from 0.78295 to 0.78295, saving model to /content/drive/My Drive/Datasets/Dataset_of_clear_blurs_with_log/weights-resnet50-blur-classification-03-0.78.hdf5\n",
            "Epoch 4/100\n",
            "5/5 [==============================] - 5s 1s/step - loss: 0.3745 - acc: 0.8229 - val_loss: 0.5941 - val_acc: 0.7829\n",
            "\n",
            "Epoch 00004: val_acc did not improve from 0.78295\n",
            "Epoch 5/100\n",
            "5/5 [==============================] - 4s 830ms/step - loss: 0.3952 - acc: 0.8400 - val_loss: 0.5930 - val_acc: 0.7829\n",
            "\n",
            "Epoch 00005: val_acc did not improve from 0.78295\n",
            "Epoch 6/100\n",
            "5/5 [==============================] - 5s 1s/step - loss: 0.3764 - acc: 0.8500 - val_loss: 0.5911 - val_acc: 0.7752\n",
            "\n",
            "Epoch 00006: val_acc did not improve from 0.78295\n",
            "Epoch 7/100\n",
            "5/5 [==============================] - 5s 929ms/step - loss: 0.3420 - acc: 0.8628 - val_loss: 0.5904 - val_acc: 0.7752\n",
            "\n",
            "Epoch 00007: val_acc did not improve from 0.78295\n",
            "Epoch 8/100\n",
            "5/5 [==============================] - 5s 919ms/step - loss: 0.4493 - acc: 0.8019 - val_loss: 0.5782 - val_acc: 0.7752\n",
            "\n",
            "Epoch 00008: val_acc did not improve from 0.78295\n",
            "Epoch 9/100\n",
            "5/5 [==============================] - 5s 912ms/step - loss: 0.3796 - acc: 0.8452 - val_loss: 0.5931 - val_acc: 0.7752\n",
            "\n",
            "Epoch 00009: val_acc did not improve from 0.78295\n",
            "Epoch 10/100\n",
            "5/5 [==============================] - 5s 911ms/step - loss: 0.3651 - acc: 0.8600 - val_loss: 0.6002 - val_acc: 0.7752\n",
            "\n",
            "Epoch 00010: val_acc did not improve from 0.78295\n",
            "Epoch 11/100\n",
            "5/5 [==============================] - 5s 1s/step - loss: 0.3744 - acc: 0.8479 - val_loss: 0.6181 - val_acc: 0.7597\n",
            "\n",
            "Epoch 00011: val_acc did not improve from 0.78295\n",
            "Epoch 12/100\n",
            "5/5 [==============================] - 5s 911ms/step - loss: 0.3901 - acc: 0.8447 - val_loss: 0.6082 - val_acc: 0.7752\n",
            "\n",
            "Epoch 00012: val_acc did not improve from 0.78295\n",
            "Epoch 13/100\n",
            "5/5 [==============================] - 5s 912ms/step - loss: 0.3778 - acc: 0.8412 - val_loss: 0.5942 - val_acc: 0.7752\n",
            "\n",
            "Epoch 00013: val_acc did not improve from 0.78295\n",
            "Epoch 14/100\n",
            "5/5 [==============================] - 5s 1s/step - loss: 0.3635 - acc: 0.8729 - val_loss: 0.5969 - val_acc: 0.7752\n",
            "\n",
            "Epoch 00014: val_acc did not improve from 0.78295\n",
            "Epoch 15/100\n",
            "5/5 [==============================] - 4s 815ms/step - loss: 0.4162 - acc: 0.8044 - val_loss: 0.5931 - val_acc: 0.7597\n",
            "\n",
            "Epoch 00015: val_acc did not improve from 0.78295\n",
            "Epoch 16/100\n",
            "5/5 [==============================] - 5s 1s/step - loss: 0.3506 - acc: 0.8563 - val_loss: 0.5886 - val_acc: 0.7752\n",
            "\n",
            "Epoch 00016: val_acc did not improve from 0.78295\n",
            "Epoch 17/100\n",
            "5/5 [==============================] - 5s 912ms/step - loss: 0.4010 - acc: 0.8473 - val_loss: 0.5847 - val_acc: 0.7752\n",
            "\n",
            "Epoch 00017: val_acc did not improve from 0.78295\n",
            "Epoch 18/100\n",
            "5/5 [==============================] - 5s 912ms/step - loss: 0.3783 - acc: 0.8646 - val_loss: 0.5824 - val_acc: 0.7597\n",
            "\n",
            "Epoch 00018: val_acc did not improve from 0.78295\n",
            "Epoch 19/100\n",
            "5/5 [==============================] - 5s 918ms/step - loss: 0.3751 - acc: 0.8562 - val_loss: 0.5840 - val_acc: 0.7597\n",
            "\n",
            "Epoch 00019: val_acc did not improve from 0.78295\n",
            "Epoch 20/100\n",
            "5/5 [==============================] - 5s 934ms/step - loss: 0.3752 - acc: 0.8277 - val_loss: 0.5880 - val_acc: 0.7597\n",
            "\n",
            "Epoch 00020: val_acc did not improve from 0.78295\n",
            "Epoch 21/100\n",
            "5/5 [==============================] - 5s 1s/step - loss: 0.3716 - acc: 0.8542 - val_loss: 0.5987 - val_acc: 0.7597\n",
            "\n",
            "Epoch 00021: val_acc did not improve from 0.78295\n",
            "Epoch 22/100\n",
            "5/5 [==============================] - 5s 920ms/step - loss: 0.3359 - acc: 0.8801 - val_loss: 0.6038 - val_acc: 0.7752\n",
            "\n",
            "Epoch 00022: val_acc did not improve from 0.78295\n",
            "Epoch 23/100\n",
            "5/5 [==============================] - 4s 828ms/step - loss: 0.3934 - acc: 0.8178 - val_loss: 0.6250 - val_acc: 0.7597\n",
            "\n",
            "Epoch 00023: val_acc did not improve from 0.78295\n",
            "Epoch 24/100\n",
            "5/5 [==============================] - 5s 1s/step - loss: 0.3534 - acc: 0.8667 - val_loss: 0.6563 - val_acc: 0.7752\n",
            "\n",
            "Epoch 00024: val_acc did not improve from 0.78295\n",
            "Epoch 25/100\n",
            "5/5 [==============================] - 5s 914ms/step - loss: 0.3879 - acc: 0.8273 - val_loss: 0.7196 - val_acc: 0.7752\n",
            "\n",
            "Epoch 00025: val_acc did not improve from 0.78295\n",
            "Epoch 26/100\n",
            "5/5 [==============================] - 5s 1s/step - loss: 0.3650 - acc: 0.8479 - val_loss: 0.7470 - val_acc: 0.7752\n",
            "\n",
            "Epoch 00026: val_acc did not improve from 0.78295\n",
            "Epoch 27/100\n",
            "5/5 [==============================] - 4s 856ms/step - loss: 0.3569 - acc: 0.8644 - val_loss: 0.7233 - val_acc: 0.7829\n",
            "\n",
            "Epoch 00027: val_acc did not improve from 0.78295\n",
            "Epoch 28/100\n",
            "5/5 [==============================] - 5s 917ms/step - loss: 0.3389 - acc: 0.8713 - val_loss: 0.6919 - val_acc: 0.7829\n",
            "\n",
            "Epoch 00028: val_acc did not improve from 0.78295\n",
            "Epoch 29/100\n",
            "5/5 [==============================] - 5s 933ms/step - loss: 0.3858 - acc: 0.8602 - val_loss: 0.6423 - val_acc: 0.7674\n",
            "\n",
            "Epoch 00029: val_acc did not improve from 0.78295\n",
            "Epoch 30/100\n",
            "5/5 [==============================] - 5s 1s/step - loss: 0.3568 - acc: 0.8458 - val_loss: 0.6146 - val_acc: 0.7752\n",
            "\n",
            "Epoch 00030: val_acc did not improve from 0.78295\n",
            "Epoch 31/100\n",
            "5/5 [==============================] - 5s 915ms/step - loss: 0.3915 - acc: 0.8297 - val_loss: 0.6193 - val_acc: 0.7752\n",
            "\n",
            "Epoch 00031: val_acc did not improve from 0.78295\n",
            "Epoch 32/100\n",
            "5/5 [==============================] - 5s 914ms/step - loss: 0.3529 - acc: 0.8541 - val_loss: 0.6222 - val_acc: 0.7752\n",
            "\n",
            "Epoch 00032: val_acc did not improve from 0.78295\n",
            "Epoch 33/100\n",
            "5/5 [==============================] - 5s 1s/step - loss: 0.3376 - acc: 0.8563 - val_loss: 0.6167 - val_acc: 0.7752\n",
            "\n",
            "Epoch 00033: val_acc did not improve from 0.78295\n",
            "Epoch 34/100\n",
            "5/5 [==============================] - 5s 915ms/step - loss: 0.3650 - acc: 0.8626 - val_loss: 0.6091 - val_acc: 0.7752\n",
            "\n",
            "Epoch 00034: val_acc did not improve from 0.78295\n",
            "Epoch 35/100\n",
            "5/5 [==============================] - 5s 937ms/step - loss: 0.3684 - acc: 0.8366 - val_loss: 0.5928 - val_acc: 0.7752\n",
            "\n",
            "Epoch 00035: val_acc did not improve from 0.78295\n",
            "Epoch 36/100\n",
            "5/5 [==============================] - 5s 933ms/step - loss: 0.4365 - acc: 0.7861 - val_loss: 0.5887 - val_acc: 0.7442\n",
            "\n",
            "Epoch 00036: val_acc did not improve from 0.78295\n",
            "Epoch 37/100\n",
            "5/5 [==============================] - 5s 912ms/step - loss: 0.3537 - acc: 0.8536 - val_loss: 0.5801 - val_acc: 0.7752\n",
            "\n",
            "Epoch 00037: val_acc did not improve from 0.78295\n",
            "Epoch 38/100\n",
            "5/5 [==============================] - 5s 933ms/step - loss: 0.3799 - acc: 0.8339 - val_loss: 0.5697 - val_acc: 0.7752\n",
            "\n",
            "Epoch 00038: val_acc did not improve from 0.78295\n",
            "Epoch 39/100\n",
            "5/5 [==============================] - 5s 1s/step - loss: 0.3409 - acc: 0.8625 - val_loss: 0.5629 - val_acc: 0.7597\n",
            "\n",
            "Epoch 00039: val_acc did not improve from 0.78295\n",
            "Epoch 40/100\n",
            "5/5 [==============================] - 5s 915ms/step - loss: 0.3314 - acc: 0.9078 - val_loss: 0.5629 - val_acc: 0.7752\n",
            "\n",
            "Epoch 00040: val_acc did not improve from 0.78295\n",
            "Epoch 41/100\n",
            "5/5 [==============================] - 5s 913ms/step - loss: 0.3642 - acc: 0.8691 - val_loss: 0.5617 - val_acc: 0.7752\n",
            "\n",
            "Epoch 00041: val_acc did not improve from 0.78295\n",
            "Epoch 42/100\n",
            "5/5 [==============================] - 5s 923ms/step - loss: 0.3562 - acc: 0.8496 - val_loss: 0.5652 - val_acc: 0.7752\n",
            "\n",
            "Epoch 00042: val_acc did not improve from 0.78295\n",
            "Epoch 43/100\n",
            "5/5 [==============================] - 5s 914ms/step - loss: 0.3588 - acc: 0.8577 - val_loss: 0.5668 - val_acc: 0.7752\n",
            "\n",
            "Epoch 00043: val_acc did not improve from 0.78295\n",
            "Epoch 44/100\n",
            "5/5 [==============================] - 5s 929ms/step - loss: 0.3947 - acc: 0.8256 - val_loss: 0.5613 - val_acc: 0.7597\n",
            "\n",
            "Epoch 00044: val_acc did not improve from 0.78295\n",
            "Epoch 45/100\n",
            "5/5 [==============================] - 5s 1s/step - loss: 0.3149 - acc: 0.8833 - val_loss: 0.5551 - val_acc: 0.7287\n",
            "\n",
            "Epoch 00045: val_acc did not improve from 0.78295\n",
            "Epoch 46/100\n",
            "5/5 [==============================] - 4s 815ms/step - loss: 0.3851 - acc: 0.8378 - val_loss: 0.5563 - val_acc: 0.7287\n",
            "\n",
            "Epoch 00046: val_acc did not improve from 0.78295\n",
            "Epoch 47/100\n",
            "5/5 [==============================] - 5s 1s/step - loss: 0.3221 - acc: 0.8542 - val_loss: 0.5628 - val_acc: 0.7287\n",
            "\n",
            "Epoch 00047: val_acc did not improve from 0.78295\n",
            "Epoch 48/100\n",
            "5/5 [==============================] - 5s 915ms/step - loss: 0.3666 - acc: 0.8691 - val_loss: 0.5640 - val_acc: 0.7287\n",
            "\n",
            "Epoch 00048: val_acc did not improve from 0.78295\n",
            "Epoch 49/100\n",
            "5/5 [==============================] - 5s 914ms/step - loss: 0.3770 - acc: 0.8427 - val_loss: 0.5555 - val_acc: 0.7287\n",
            "\n",
            "Epoch 00049: val_acc did not improve from 0.78295\n",
            "Epoch 50/100\n",
            "5/5 [==============================] - 5s 1s/step - loss: 0.3264 - acc: 0.8833 - val_loss: 0.5555 - val_acc: 0.7287\n",
            "\n",
            "Epoch 00050: val_acc did not improve from 0.78295\n",
            "Epoch 51/100\n",
            "5/5 [==============================] - 4s 814ms/step - loss: 0.3765 - acc: 0.8334 - val_loss: 0.5555 - val_acc: 0.7287\n",
            "\n",
            "Epoch 00051: val_acc did not improve from 0.78295\n",
            "Epoch 52/100\n",
            "5/5 [==============================] - 5s 1s/step - loss: 0.3788 - acc: 0.8375 - val_loss: 0.5547 - val_acc: 0.7287\n",
            "\n",
            "Epoch 00052: val_acc did not improve from 0.78295\n",
            "Epoch 53/100\n",
            "5/5 [==============================] - 5s 933ms/step - loss: 0.3355 - acc: 0.8840 - val_loss: 0.5539 - val_acc: 0.7287\n",
            "\n",
            "Epoch 00053: val_acc did not improve from 0.78295\n",
            "Epoch 54/100\n",
            "5/5 [==============================] - 5s 913ms/step - loss: 0.3475 - acc: 0.8577 - val_loss: 0.5529 - val_acc: 0.7287\n",
            "\n",
            "Epoch 00054: val_acc did not improve from 0.78295\n",
            "Epoch 55/100\n",
            "5/5 [==============================] - 5s 914ms/step - loss: 0.3600 - acc: 0.8582 - val_loss: 0.5580 - val_acc: 0.7287\n",
            "\n",
            "Epoch 00055: val_acc did not improve from 0.78295\n",
            "Epoch 56/100\n",
            "5/5 [==============================] - 5s 1s/step - loss: 0.3277 - acc: 0.8708 - val_loss: 0.5670 - val_acc: 0.7287\n",
            "\n",
            "Epoch 00056: val_acc did not improve from 0.78295\n",
            "Epoch 57/100\n",
            "5/5 [==============================] - 4s 812ms/step - loss: 0.3855 - acc: 0.8334 - val_loss: 0.5581 - val_acc: 0.7519\n",
            "\n",
            "Epoch 00057: val_acc did not improve from 0.78295\n",
            "Epoch 58/100\n",
            "5/5 [==============================] - 5s 1s/step - loss: 0.3312 - acc: 0.8729 - val_loss: 0.5463 - val_acc: 0.7442\n",
            "\n",
            "Epoch 00058: val_acc did not improve from 0.78295\n",
            "Epoch 59/100\n",
            "5/5 [==============================] - 5s 912ms/step - loss: 0.3716 - acc: 0.8412 - val_loss: 0.5489 - val_acc: 0.7442\n",
            "\n",
            "Epoch 00059: val_acc did not improve from 0.78295\n",
            "Epoch 60/100\n",
            "5/5 [==============================] - 5s 911ms/step - loss: 0.3579 - acc: 0.8602 - val_loss: 0.5452 - val_acc: 0.7674\n",
            "\n",
            "Epoch 00060: val_acc did not improve from 0.78295\n",
            "Epoch 61/100\n",
            "5/5 [==============================] - 5s 932ms/step - loss: 0.3771 - acc: 0.8557 - val_loss: 0.5432 - val_acc: 0.7597\n",
            "\n",
            "Epoch 00061: val_acc did not improve from 0.78295\n",
            "Epoch 62/100\n",
            "5/5 [==============================] - 5s 931ms/step - loss: 0.3470 - acc: 0.8753 - val_loss: 0.5413 - val_acc: 0.7442\n",
            "\n",
            "Epoch 00062: val_acc did not improve from 0.78295\n",
            "Epoch 63/100\n",
            "5/5 [==============================] - 5s 1s/step - loss: 0.3951 - acc: 0.8396 - val_loss: 0.5410 - val_acc: 0.7442\n",
            "\n",
            "Epoch 00063: val_acc did not improve from 0.78295\n",
            "Epoch 64/100\n",
            "5/5 [==============================] - 5s 934ms/step - loss: 0.3204 - acc: 0.9012 - val_loss: 0.5435 - val_acc: 0.7519\n",
            "\n",
            "Epoch 00064: val_acc did not improve from 0.78295\n",
            "Epoch 65/100\n",
            "5/5 [==============================] - 5s 935ms/step - loss: 0.3572 - acc: 0.8646 - val_loss: 0.5440 - val_acc: 0.7442\n",
            "\n",
            "Epoch 00065: val_acc did not improve from 0.78295\n",
            "Epoch 66/100\n",
            "5/5 [==============================] - 5s 909ms/step - loss: 0.3764 - acc: 0.8427 - val_loss: 0.5408 - val_acc: 0.7519\n",
            "\n",
            "Epoch 00066: val_acc did not improve from 0.78295\n",
            "Epoch 67/100\n",
            "5/5 [==============================] - 5s 1s/step - loss: 0.3351 - acc: 0.8708 - val_loss: 0.5414 - val_acc: 0.7519\n",
            "\n",
            "Epoch 00067: val_acc did not improve from 0.78295\n",
            "Epoch 68/100\n",
            "5/5 [==============================] - 4s 837ms/step - loss: 0.4051 - acc: 0.8400 - val_loss: 0.5425 - val_acc: 0.7674\n",
            "\n",
            "Epoch 00068: val_acc did not improve from 0.78295\n",
            "Epoch 69/100\n",
            "5/5 [==============================] - 5s 1s/step - loss: 0.3653 - acc: 0.8521 - val_loss: 0.5429 - val_acc: 0.7752\n",
            "\n",
            "Epoch 00069: val_acc did not improve from 0.78295\n",
            "Epoch 70/100\n",
            "5/5 [==============================] - 4s 830ms/step - loss: 0.3512 - acc: 0.8489 - val_loss: 0.5398 - val_acc: 0.7752\n",
            "\n",
            "Epoch 00070: val_acc did not improve from 0.78295\n",
            "Epoch 71/100\n",
            "5/5 [==============================] - 5s 1s/step - loss: 0.3545 - acc: 0.8625 - val_loss: 0.5397 - val_acc: 0.7597\n",
            "\n",
            "Epoch 00071: val_acc did not improve from 0.78295\n",
            "Epoch 72/100\n",
            "5/5 [==============================] - 5s 912ms/step - loss: 0.3685 - acc: 0.8577 - val_loss: 0.5556 - val_acc: 0.7442\n",
            "\n",
            "Epoch 00072: val_acc did not improve from 0.78295\n",
            "Epoch 73/100\n",
            "5/5 [==============================] - 5s 917ms/step - loss: 0.3345 - acc: 0.8583 - val_loss: 0.5584 - val_acc: 0.7442\n",
            "\n",
            "Epoch 00073: val_acc did not improve from 0.78295\n",
            "Epoch 74/100\n",
            "5/5 [==============================] - 5s 911ms/step - loss: 0.3201 - acc: 0.8818 - val_loss: 0.5673 - val_acc: 0.7597\n",
            "\n",
            "Epoch 00074: val_acc did not improve from 0.78295\n",
            "Epoch 75/100\n",
            "5/5 [==============================] - 5s 928ms/step - loss: 0.3444 - acc: 0.8363 - val_loss: 0.5637 - val_acc: 0.7597\n",
            "\n",
            "Epoch 00075: val_acc did not improve from 0.78295\n",
            "Epoch 76/100\n",
            "5/5 [==============================] - 5s 1s/step - loss: 0.3529 - acc: 0.8625 - val_loss: 0.5726 - val_acc: 0.7597\n",
            "\n",
            "Epoch 00076: val_acc did not improve from 0.78295\n",
            "Epoch 77/100\n",
            "5/5 [==============================] - 5s 915ms/step - loss: 0.3590 - acc: 0.8473 - val_loss: 0.5667 - val_acc: 0.7442\n",
            "\n",
            "Epoch 00077: val_acc did not improve from 0.78295\n",
            "Epoch 78/100\n",
            "5/5 [==============================] - 5s 916ms/step - loss: 0.3549 - acc: 0.8213 - val_loss: 0.5678 - val_acc: 0.7442\n",
            "\n",
            "Epoch 00078: val_acc did not improve from 0.78295\n",
            "Epoch 79/100\n",
            "5/5 [==============================] - 5s 910ms/step - loss: 0.3564 - acc: 0.8710 - val_loss: 0.5616 - val_acc: 0.7442\n",
            "\n",
            "Epoch 00079: val_acc did not improve from 0.78295\n",
            "Epoch 80/100\n",
            "5/5 [==============================] - 5s 911ms/step - loss: 0.3481 - acc: 0.8660 - val_loss: 0.5500 - val_acc: 0.7752\n",
            "\n",
            "Epoch 00080: val_acc did not improve from 0.78295\n",
            "Epoch 81/100\n",
            "5/5 [==============================] - 5s 1s/step - loss: 0.3475 - acc: 0.8438 - val_loss: 0.5459 - val_acc: 0.7597\n",
            "\n",
            "Epoch 00081: val_acc did not improve from 0.78295\n",
            "Epoch 82/100\n",
            "5/5 [==============================] - 5s 914ms/step - loss: 0.3585 - acc: 0.8729 - val_loss: 0.5498 - val_acc: 0.7674\n",
            "\n",
            "Epoch 00082: val_acc did not improve from 0.78295\n",
            "Epoch 83/100\n",
            "5/5 [==============================] - 4s 830ms/step - loss: 0.3657 - acc: 0.8556 - val_loss: 0.5534 - val_acc: 0.7984\n",
            "\n",
            "Epoch 00083: val_acc improved from 0.78295 to 0.79845, saving model to /content/drive/My Drive/Datasets/Dataset_of_clear_blurs_with_log/weights-resnet50-blur-classification-83-0.80.hdf5\n",
            "Epoch 84/100\n",
            "5/5 [==============================] - 5s 1s/step - loss: 0.3221 - acc: 0.8750 - val_loss: 0.5531 - val_acc: 0.7984\n",
            "\n",
            "Epoch 00084: val_acc improved from 0.79845 to 0.79845, saving model to /content/drive/My Drive/Datasets/Dataset_of_clear_blurs_with_log/weights-resnet50-blur-classification-84-0.80.hdf5\n",
            "Epoch 85/100\n",
            "5/5 [==============================] - 5s 1s/step - loss: 0.3173 - acc: 0.8937 - val_loss: 0.5474 - val_acc: 0.7674\n",
            "\n",
            "Epoch 00085: val_acc did not improve from 0.79845\n",
            "Epoch 86/100\n",
            "5/5 [==============================] - 4s 850ms/step - loss: 0.3907 - acc: 0.8089 - val_loss: 0.5481 - val_acc: 0.7442\n",
            "\n",
            "Epoch 00086: val_acc did not improve from 0.79845\n",
            "Epoch 87/100\n",
            "5/5 [==============================] - 5s 934ms/step - loss: 0.3461 - acc: 0.8837 - val_loss: 0.5603 - val_acc: 0.7442\n",
            "\n",
            "Epoch 00087: val_acc did not improve from 0.79845\n",
            "Epoch 88/100\n",
            "5/5 [==============================] - 5s 1s/step - loss: 0.3565 - acc: 0.8563 - val_loss: 0.5772 - val_acc: 0.7364\n",
            "\n",
            "Epoch 00088: val_acc did not improve from 0.79845\n",
            "Epoch 89/100\n",
            "5/5 [==============================] - 4s 828ms/step - loss: 0.2910 - acc: 0.9000 - val_loss: 0.5875 - val_acc: 0.7209\n",
            "\n",
            "Epoch 00089: val_acc did not improve from 0.79845\n",
            "Epoch 90/100\n",
            "5/5 [==============================] - 5s 1s/step - loss: 0.3295 - acc: 0.8979 - val_loss: 0.5750 - val_acc: 0.7364\n",
            "\n",
            "Epoch 00090: val_acc did not improve from 0.79845\n",
            "Epoch 91/100\n",
            "5/5 [==============================] - 5s 909ms/step - loss: 0.3594 - acc: 0.8446 - val_loss: 0.5616 - val_acc: 0.7442\n",
            "\n",
            "Epoch 00091: val_acc did not improve from 0.79845\n",
            "Epoch 92/100\n",
            "5/5 [==============================] - 5s 928ms/step - loss: 0.3161 - acc: 0.8686 - val_loss: 0.5517 - val_acc: 0.7442\n",
            "\n",
            "Epoch 00092: val_acc did not improve from 0.79845\n",
            "Epoch 93/100\n",
            "5/5 [==============================] - 5s 932ms/step - loss: 0.3959 - acc: 0.8383 - val_loss: 0.5515 - val_acc: 0.7364\n",
            "\n",
            "Epoch 00093: val_acc did not improve from 0.79845\n",
            "Epoch 94/100\n",
            "5/5 [==============================] - 5s 931ms/step - loss: 0.3056 - acc: 0.8837 - val_loss: 0.5436 - val_acc: 0.7519\n",
            "\n",
            "Epoch 00094: val_acc did not improve from 0.79845\n",
            "Epoch 95/100\n",
            "5/5 [==============================] - 5s 1s/step - loss: 0.3258 - acc: 0.8854 - val_loss: 0.5442 - val_acc: 0.7674\n",
            "\n",
            "Epoch 00095: val_acc did not improve from 0.79845\n",
            "Epoch 96/100\n",
            "5/5 [==============================] - 5s 910ms/step - loss: 0.3435 - acc: 0.8730 - val_loss: 0.5490 - val_acc: 0.7984\n",
            "\n",
            "Epoch 00096: val_acc did not improve from 0.79845\n",
            "Epoch 97/100\n",
            "5/5 [==============================] - 5s 1s/step - loss: 0.3483 - acc: 0.8667 - val_loss: 0.5619 - val_acc: 0.7984\n",
            "\n",
            "Epoch 00097: val_acc did not improve from 0.79845\n",
            "Epoch 98/100\n",
            "5/5 [==============================] - 4s 835ms/step - loss: 0.3673 - acc: 0.8578 - val_loss: 0.5557 - val_acc: 0.7829\n",
            "\n",
            "Epoch 00098: val_acc did not improve from 0.79845\n",
            "Epoch 99/100\n",
            "5/5 [==============================] - 5s 1s/step - loss: 0.3391 - acc: 0.8750 - val_loss: 0.5517 - val_acc: 0.7674\n",
            "\n",
            "Epoch 00099: val_acc did not improve from 0.79845\n",
            "Epoch 100/100\n",
            "5/5 [==============================] - 5s 934ms/step - loss: 0.3175 - acc: 0.8946 - val_loss: 0.5567 - val_acc: 0.7364\n",
            "\n",
            "Epoch 00100: val_acc did not improve from 0.79845\n"
          ],
          "name": "stdout"
        }
      ]
    },
    {
      "cell_type": "code",
      "metadata": {
        "id": "Pu0OQGa1glbv",
        "colab_type": "code",
        "outputId": "8604501f-03db-4332-af90-0529f398ee11",
        "colab": {
          "base_uri": "https://localhost:8080/",
          "height": 294
        }
      },
      "source": [
        "# Plot training & validation accuracy values\n",
        "plt.plot(H.history['acc'])\n",
        "plt.plot(H.history['val_acc'])\n",
        "plt.title('Model accuracy')\n",
        "plt.ylabel('Accuracy')\n",
        "plt.xlabel('Epoch')\n",
        "plt.legend(['Train', 'Test'], loc='upper left')\n",
        "plt.show()"
      ],
      "execution_count": 0,
      "outputs": [
        {
          "output_type": "display_data",
          "data": {
            "image/png": "[encoded data removed]",
            "text/plain": [
              "<Figure size 432x288 with 1 Axes>"
            ]
          },
          "metadata": {
            "tags": []
          }
        }
      ]
    },
    {
      "cell_type": "code",
      "metadata": {
        "id": "7j2GhdNqglwD",
        "colab_type": "code",
        "outputId": "d9ec888f-c842-49d0-d64c-13c66fc05316",
        "colab": {
          "base_uri": "https://localhost:8080/",
          "height": 294
        }
      },
      "source": [
        "# Plot training & validation loss values\n",
        "plt.plot(H.history['loss'])\n",
        "plt.plot(H.history['val_loss'])\n",
        "plt.title('Model loss')\n",
        "plt.ylabel('Loss')\n",
        "plt.xlabel('Epoch')\n",
        "plt.legend(['Train', 'Test'], loc='upper left')\n",
        "plt.show()"
      ],
      "execution_count": 0,
      "outputs": [
        {
          "output_type": "display_data",
          "data": {
            "image/png": "[encoded data removed]",
            "text/plain": [
              "<Figure size 432x288 with 1 Axes>"
            ]
          },
          "metadata": {
            "tags": []
          }
        }
      ]
    },
    {
      "cell_type": "code",
      "metadata": {
        "id": "6Qhfdu5EgsRj",
        "colab_type": "code",
        "outputId": "a2d3c058-947d-4953-881d-e7ef97443462",
        "colab": {
          "base_uri": "https://localhost:8080/",
          "height": 34
        }
      },
      "source": [
        "H.history['val_acc'][np.argmin(H.history['val_loss'])]"
      ],
      "execution_count": 0,
      "outputs": [
        {
          "output_type": "execute_result",
          "data": {
            "text/plain": [
              "0.7596899368042169"
            ]
          },
          "metadata": {
            "tags": []
          },
          "execution_count": 149
        }
      ]
    },
    {
      "cell_type": "markdown",
      "metadata": {
        "id": "KKw8vFYWfmjp",
        "colab_type": "text"
      },
      "source": [
        "# Checking model on custom images"
      ]
    },
    {
      "cell_type": "code",
      "metadata": {
        "id": "YMqTbAjOgAtI",
        "colab_type": "code",
        "outputId": "30bb2edb-7eaa-412a-8f25-9eb9ab476205",
        "colab": {
          "base_uri": "https://localhost:8080/",
          "height": 81
        }
      },
      "source": [
        "from keras.models import load_model"
      ],
      "execution_count": 0,
      "outputs": [
        {
          "output_type": "stream",
          "text": [
            "Using TensorFlow backend.\n"
          ],
          "name": "stderr"
        },
        {
          "output_type": "display_data",
          "data": {
            "text/html": [
              "<p style=\"color: red;\">\n",
              "The default version of TensorFlow in Colab will soon switch to TensorFlow 2.x.<br>\n",
              "We recommend you <a href=\"https://www.tensorflow.org/guide/migrate\" target=\"_blank\">upgrade</a> now \n",
              "or ensure your notebook will continue to use TensorFlow 1.x via the <code>%tensorflow_version 1.x</code> magic:\n",
              "<a href=\"https://colab.research.google.com/notebooks/tensorflow_version.ipynb\" target=\"_blank\">more info</a>.</p>\n"
            ],
            "text/plain": [
              "<IPython.core.display.HTML object>"
            ]
          },
          "metadata": {
            "tags": []
          }
        }
      ]
    },
    {
      "cell_type": "code",
      "metadata": {
        "colab_type": "code",
        "id": "QkXGf6NnDUi5",
        "outputId": "62b275d7-a39d-4577-eaa1-8143e789f1ac",
        "colab": {
          "base_uri": "https://localhost:8080/",
          "height": 694
        }
      },
      "source": [
        "model = load_model('/content/drive/My Drive/Datasets/Dataset_of_clear_blurs_with_log/weights-resnet50-blur-classification-133-1.00.hdf5')"
      ],
      "execution_count": 0,
      "outputs": [
        {
          "output_type": "stream",
          "text": [
            "WARNING:tensorflow:From /usr/local/lib/python3.6/dist-packages/keras/backend/tensorflow_backend.py:541: The name tf.placeholder is deprecated. Please use tf.compat.v1.placeholder instead.\n",
            "\n",
            "WARNING:tensorflow:From /usr/local/lib/python3.6/dist-packages/keras/backend/tensorflow_backend.py:4432: The name tf.random_uniform is deprecated. Please use tf.random.uniform instead.\n",
            "\n",
            "WARNING:tensorflow:From /usr/local/lib/python3.6/dist-packages/keras/backend/tensorflow_backend.py:66: The name tf.get_default_graph is deprecated. Please use tf.compat.v1.get_default_graph instead.\n",
            "\n",
            "WARNING:tensorflow:From /usr/local/lib/python3.6/dist-packages/keras/backend/tensorflow_backend.py:190: The name tf.get_default_session is deprecated. Please use tf.compat.v1.get_default_session instead.\n",
            "\n",
            "WARNING:tensorflow:From /usr/local/lib/python3.6/dist-packages/keras/backend/tensorflow_backend.py:197: The name tf.ConfigProto is deprecated. Please use tf.compat.v1.ConfigProto instead.\n",
            "\n",
            "WARNING:tensorflow:From /usr/local/lib/python3.6/dist-packages/keras/backend/tensorflow_backend.py:203: The name tf.Session is deprecated. Please use tf.compat.v1.Session instead.\n",
            "\n",
            "WARNING:tensorflow:From /usr/local/lib/python3.6/dist-packages/keras/backend/tensorflow_backend.py:207: The name tf.global_variables is deprecated. Please use tf.compat.v1.global_variables instead.\n",
            "\n",
            "WARNING:tensorflow:From /usr/local/lib/python3.6/dist-packages/keras/backend/tensorflow_backend.py:216: The name tf.is_variable_initialized is deprecated. Please use tf.compat.v1.is_variable_initialized instead.\n",
            "\n",
            "WARNING:tensorflow:From /usr/local/lib/python3.6/dist-packages/keras/backend/tensorflow_backend.py:223: The name tf.variables_initializer is deprecated. Please use tf.compat.v1.variables_initializer instead.\n",
            "\n",
            "WARNING:tensorflow:From /usr/local/lib/python3.6/dist-packages/keras/backend/tensorflow_backend.py:2041: The name tf.nn.fused_batch_norm is deprecated. Please use tf.compat.v1.nn.fused_batch_norm instead.\n",
            "\n",
            "WARNING:tensorflow:From /usr/local/lib/python3.6/dist-packages/keras/backend/tensorflow_backend.py:148: The name tf.placeholder_with_default is deprecated. Please use tf.compat.v1.placeholder_with_default instead.\n",
            "\n",
            "WARNING:tensorflow:From /usr/local/lib/python3.6/dist-packages/keras/backend/tensorflow_backend.py:4267: The name tf.nn.max_pool is deprecated. Please use tf.nn.max_pool2d instead.\n",
            "\n",
            "WARNING:tensorflow:From /usr/local/lib/python3.6/dist-packages/keras/backend/tensorflow_backend.py:4271: The name tf.nn.avg_pool is deprecated. Please use tf.nn.avg_pool2d instead.\n",
            "\n",
            "WARNING:tensorflow:From /usr/local/lib/python3.6/dist-packages/keras/optimizers.py:793: The name tf.train.Optimizer is deprecated. Please use tf.compat.v1.train.Optimizer instead.\n",
            "\n",
            "WARNING:tensorflow:From /usr/local/lib/python3.6/dist-packages/keras/backend/tensorflow_backend.py:3657: The name tf.log is deprecated. Please use tf.math.log instead.\n",
            "\n",
            "WARNING:tensorflow:From /usr/local/lib/python3.6/dist-packages/tensorflow_core/python/ops/nn_impl.py:183: where (from tensorflow.python.ops.array_ops) is deprecated and will be removed in a future version.\n",
            "Instructions for updating:\n",
            "Use tf.where in 2.0, which has the same broadcast rule as np.where\n",
            "WARNING:tensorflow:From /usr/local/lib/python3.6/dist-packages/keras/backend/tensorflow_backend.py:1033: The name tf.assign_add is deprecated. Please use tf.compat.v1.assign_add instead.\n",
            "\n",
            "WARNING:tensorflow:From /usr/local/lib/python3.6/dist-packages/keras/backend/tensorflow_backend.py:1020: The name tf.assign is deprecated. Please use tf.compat.v1.assign instead.\n",
            "\n"
          ],
          "name": "stdout"
        }
      ]
    },
    {
      "cell_type": "code",
      "metadata": {
        "id": "0XT4DZn6RRQz",
        "colab_type": "code",
        "colab": {}
      },
      "source": [
        "dir_with_blurred_images = '/content/drive/My Drive/Datasets/Dataset_of_spectres_of_blurred_images'\n",
        "data_frame = pd.read_csv(dir_with_blurred_images+'/dataset_csv.csv')"
      ],
      "execution_count": 0,
      "outputs": []
    },
    {
      "cell_type": "code",
      "metadata": {
        "id": "vExB5bTw8Qss",
        "colab_type": "code",
        "outputId": "0bb287c9-28bd-4c81-b179-2038cd17cf74",
        "colab": {
          "base_uri": "https://localhost:8080/",
          "height": 230
        }
      },
      "source": [
        "predictions_dict = {}\n",
        "predictions_dict['Gauss'] = 0\n",
        "predictions_dict['linear smearing'] = 0\n",
        "predictions_dict['circular scattering'] = 0\n",
        "predictions_dict['None'] = 0\n",
        "array_of_classes = np.unique(np.array(data_frame.iloc[:,1]))\n",
        "# array_of_classes = np.array(['Gauss', 'None', 'linear smearing', 'circular scattering'])\n",
        "total_num = 0\n",
        "num_of_success = 0\n",
        "dir_for_test_images = dir_with_blurred_images\n",
        "for dir in os.listdir(dir_for_test_images):\n",
        "  if dir.find('.') == -1:\n",
        "    print('Processing directory \\''+ dir+'\\'', flush=True)\n",
        "    for filename in os.listdir(dir_for_test_images+'/'+dir):\n",
        "      image_PIL = PIL.Image.open(dir_for_test_images+'/'+dir+'/'+filename).convert('RGB')\n",
        "      image_PIL = image_PIL.resize((224,224))\n",
        "      image_cv = np.array(image_PIL)\n",
        "      image_cv = (image_cv / 255).astype('float')\n",
        "      image_cv_4_dim = np.expand_dims(image_cv, axis=0)\n",
        "      input_image_for_dataset = image_cv_4_dim\n",
        "      prediction = model.predict(input_image_for_dataset)\n",
        "      class_predicted = array_of_classes[[prediction == np.max(prediction[0])][0][0]][0]\n",
        "      total_num += 1\n",
        "      if class_predicted == filename.split('_')[-3]:\n",
        "        num_of_success += 1\n",
        "        predictions_dict[class_predicted] += 1\n",
        "print('accuracy = '+str(num_of_success/total_num))"
      ],
      "execution_count": 0,
      "outputs": [
        {
          "output_type": "stream",
          "text": [
            "Processing directory 'pic'\n",
            "Processing directory 'delta_function'\n",
            "Processing directory 'lena'\n",
            "Processing directory 'COCO_val2014_000000000143'\n",
            "Processing directory 'COCO_val2014_000000000139'\n",
            "Processing directory 'COCO_val2014_000000000074'\n",
            "Processing directory 'COCO_val2014_000000000136'\n",
            "Processing directory 'COCO_val2014_000000000042'\n",
            "Processing directory 'COCO_val2014_000000000133'\n",
            "Processing directory 'COCO_val2014_000000000073'\n",
            "Processing directory 'Non-blurred-images'\n",
            "accuracy = 0.4736469755925009\n"
          ],
          "name": "stdout"
        }
      ]
    },
    {
      "cell_type": "code",
      "metadata": {
        "id": "kLyTsRGV_Vj3",
        "colab_type": "code",
        "outputId": "b1e35e22-4565-444a-bef1-49009751c5a5",
        "colab": {
          "base_uri": "https://localhost:8080/",
          "height": 34
        }
      },
      "source": [
        "num_of_success"
      ],
      "execution_count": 0,
      "outputs": [
        {
          "output_type": "execute_result",
          "data": {
            "text/plain": [
              "148"
            ]
          },
          "metadata": {
            "tags": []
          },
          "execution_count": 121
        }
      ]
    },
    {
      "cell_type": "code",
      "metadata": {
        "id": "XbqO7H67Ugu_",
        "colab_type": "code",
        "outputId": "d6b6e488-d942-413c-c990-a4f5de67f578",
        "colab": {
          "base_uri": "https://localhost:8080/",
          "height": 34
        }
      },
      "source": [
        "predictions_dict"
      ],
      "execution_count": 0,
      "outputs": [
        {
          "output_type": "execute_result",
          "data": {
            "text/plain": [
              "{'Gauss': 720, 'None': 0, 'circular scattering': 167, 'linear smearing': 452}"
            ]
          },
          "metadata": {
            "tags": []
          },
          "execution_count": 12
        }
      ]
    },
    {
      "cell_type": "code",
      "metadata": {
        "id": "2INSUc2PZCrC",
        "colab_type": "code",
        "colab": {}
      },
      "source": [
        ""
      ],
      "execution_count": 0,
      "outputs": []
    }
  ]
}